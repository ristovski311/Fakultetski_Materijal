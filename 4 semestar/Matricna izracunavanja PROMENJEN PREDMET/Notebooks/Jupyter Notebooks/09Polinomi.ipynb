{
 "cells": [
  {
   "cell_type": "markdown",
   "metadata": {},
   "source": [
    "# Полиноми у NumPy-у\n",
    "\n",
    "Садржај:\n",
    "1. [Полиноми као вектори коефицијената](#Полиноми-као-вектори-коефицијената)\n",
    "    1. [Израчунавање вредности полинома](#Израчунавање-вредности-полинома)\n",
    "    1. [Факторисани облик полинома](#Факторисани-облик-полинома)\n",
    "1. [Алгебра полинома](#Алгебра-полинома)\n"
   ]
  },
  {
   "cell_type": "code",
   "execution_count": 1,
   "metadata": {},
   "outputs": [],
   "source": [
    "import numpy as np\n",
    "import matplotlib as mplb\n",
    "import matplotlib.pyplot as plt\n",
    "from timeit import default_timer as timer\n",
    "import numpy.random as rndm"
   ]
  },
  {
   "cell_type": "markdown",
   "metadata": {},
   "source": [
    "## Полиноми као вектори коефицијената\n",
    "\n",
    "Рад са полиномима преко њихових вектора коефицијената један је од најбитнијих елемената примене матричног рачуна. Python је кроз NumPy библиотеку опремљен и функцијама специјализованим за такав начин рада са полиномима. Наиме, полином \n",
    "$$P_n(x)=p_0x^n+p_1x^{n-1}+\\dots+p_{n-1}x+p_n$$ поистовећује се са вектором својих коефицијената $P_n(x)\\equiv\\begin{bmatrix}p_0&p_1&\\dots&p_{n-1}&p_n\\end{bmatrix}^T.$ Индексирање коефицијената полинома прилагођено је начину индексирања вектора у Python-у.\n",
    "Тако је нпр. $P_4(x)=x^4+2\\quad\\Longrightarrow\\quad P_4\\equiv\\begin{bmatrix}1&0&0&0&2\\end{bmatrix}.$\n",
    "\n",
    "Операције над векторима и матрицама могу да се прилагоде за рад са полиномима задатим преко вектора коефицијената."
   ]
  },
  {
   "cell_type": "markdown",
   "metadata": {},
   "source": [
    "### Израчунавање вредности полинома"
   ]
  },
  {
   "cell_type": "markdown",
   "metadata": {},
   "source": [
    "**Пример 1.** Израчунаћемо матричним операцијама вредности полинома $P(x)=x^5+3x^4-2x^3-x^2+3x-2$ за $x\\in\\{-1,-0.5,1.3,2.2,3.4\\}.$ У те сврхе можемо да искористимо Вандермондову матрицу. За израчунавање вредности полинома $$P(x)=p_0x^n+p_{1}x^{n-1}+\\dots+p_{n-1}x+p_n=\\displaystyle\\sum_{k=0}^np_kx^{n-k}$$ за серију вредности аргумената $x\\in\\{a_0,a_1,\\dots,a_m\\}$ уз ознаку\n",
    "Вандермондове матрице $V_{n+1}(a_0,a_1,\\dots,a_m)=\\begin{bmatrix}a_0^{n}&a_0^{n-1}&\\dots&a_0&1\\\\\n",
    "a_1^{n}&a_1^{n-1}&\\dots&a_1&1\\\\\n",
    "\\vdots&\\vdots&&\\vdots&\\vdots\\\\\n",
    "a_m^{n}&a_m^{n-1}&\\dots&a_m&1\\end{bmatrix},$ имамо\n",
    "$$\\begin{bmatrix}P(a_0)\\\\P(a_1)\\\\\\vdots\\\\P(a_{m-1})\\\\P(a_m)\\end{bmatrix}=\n",
    "\\begin{bmatrix}a_0^{n}&a_0^{n-1}&\\dots&a_0&1\\\\\n",
    "a_1^{n}&a_1^{n-1}&\\dots&a_1&1\\\\\n",
    "\\vdots&\\vdots&&\\vdots&\\vdots\\\\\n",
    "a_m^{n}&a_m^{n-1}&\\dots&a_m&1\\end{bmatrix}\\begin{bmatrix}p_0\\\\p_1\\\\\\vdots\\\\p_{n-1}\\\\p_n\\end{bmatrix}.$$\n",
    "Због тога уведимо променљиве којима ће ова израчунавања над полиномом $P(x)=x^5+3x^4-2x^3-x^2+3x-2$ бити извршена."
   ]
  },
  {
   "cell_type": "code",
   "execution_count": 2,
   "metadata": {},
   "outputs": [
    {
     "name": "stdout",
     "output_type": "stream",
     "text": [
      "Vreme izracunavanja:  0.00035310001112520695 sec\n",
      "[[-1.0000e+00  1.0000e+00 -1.0000e+00  1.0000e+00 -1.0000e+00  1.0000e+00]\n",
      " [-3.0000e-02  6.0000e-02 -1.2000e-01  2.5000e-01 -5.0000e-01  1.0000e+00]\n",
      " [ 3.7100e+00  2.8600e+00  2.2000e+00  1.6900e+00  1.3000e+00  1.0000e+00]\n",
      " [ 5.1540e+01  2.3430e+01  1.0650e+01  4.8400e+00  2.2000e+00  1.0000e+00]\n",
      " [ 4.5435e+02  1.3363e+02  3.9300e+01  1.1560e+01  3.4000e+00  1.0000e+00]]\n",
      "[ -2.    -3.34   8.1  100.28 773.29]\n"
     ]
    }
   ],
   "source": [
    "p=np.array([1,3,-2,-1,3,-2])  #predstavljanje polinoma vektorom koeficijenata\n",
    "st=p.size\n",
    "a=np.array([-1,-0.5,1.3,2.2,3.4]) #vrednosti argumenta u kojima se racuna vrednost polinoma\n",
    "start = timer()\n",
    "V5x6=np.vander(a,st)  #generisanje Vandermondove matrice\n",
    "Pa=V5x6@p #izracunavanje vrednosti polinoma P u tackama a\n",
    "end = timer()\n",
    "print(\"Vreme izracunavanja: \",end - start,\"sec\")\n",
    "print(np.round(V5x6,2))\n",
    "print(np.round(Pa,2))"
   ]
  },
  {
   "cell_type": "markdown",
   "metadata": {},
   "source": [
    "Овакав поступак дословно прати математичку формулу израчунавања. Ипак, он је и меморијски и операцијски неефикасан. Представаљање полинома преко вектора коефицијената погодује ефикасном поступку израчунавања вредности полинома путем Хорнерове шеме. Кључ је у специјалном начину записивања полинома који зовемо Хорнеров облик.\n",
    "\\begin{align}\n",
    "P_n(x)&=p_0x^n+p_1x^{n-1}+\\dots+p_{n-1}x+p_n\\\\\n",
    "&=\\big(\\dots\\big((p_0x+p_1)x\\big)x+\\dots+p_{n-1}\\big)x+p_n.\n",
    "\\end{align}\n",
    "Хорнерова шема се описује следећом таблицом:\n",
    "$$\\begin{array}{c|c|c|c|c|c}\n",
    "a&p_0&p_1&\\dots&p_{n-1}&p_n\\\\\\hline\n",
    "&+0&+aq_0&\\dots&+aq_{n-2}&+aq_{n-1}\\\\\\hline\n",
    "&q_0&q_1&\\dots&q_{n-1}&P(a)\n",
    "\\end{array}$$\n",
    "Њен садржај можемо да тумачимо и у својству дељења полинома линеарним полиномом $x-a.$\n",
    "$$P(x)=\\big(q_0x^{n-1}+q_1x^{n-2}+\\dots+q_{n-1}\\big)(x-a)+P(a).$$"
   ]
  },
  {
   "cell_type": "markdown",
   "metadata": {},
   "source": [
    "**Пример 2.** Израчунаћемо вредности полинома $P_5(x)=3x^5-2.1x^4+1.12x^3-3.74,$ за аргумент $x\\in\\{-1.3,-0.7,0.1,1.5,2.2,2.8,3.7\\}$ по принципу Хорнерове шеме."
   ]
  },
  {
   "cell_type": "code",
   "execution_count": 3,
   "metadata": {},
   "outputs": [],
   "source": [
    "P5=np.array([3,-2.1,1.12,0,0,-3.74])"
   ]
  },
  {
   "cell_type": "markdown",
   "metadata": {},
   "source": [
    "Реализоваћемо прво код за израчунавање вредности полинома за једну вредност аргумента, $a=2.2$ нпр. "
   ]
  },
  {
   "cell_type": "code",
   "execution_count": 4,
   "metadata": {},
   "outputs": [
    {
     "name": "stdout",
     "output_type": "stream",
     "text": [
      "Vreme izracunavanja:  8.779999916441739e-05 sec\n"
     ]
    },
    {
     "data": {
      "text/plain": [
       "113.60096000000003"
      ]
     },
     "execution_count": 4,
     "metadata": {},
     "output_type": "execute_result"
    }
   ],
   "source": [
    "a=2.2\n",
    "st=P5.size\n",
    "#pocetak postupka Hornerove seme\n",
    "P5a=P5[0]\n",
    "start = timer()\n",
    "for i in np.arange(1,st):\n",
    "    P5a=P5a*a+P5[i]\n",
    "end = timer()\n",
    "print(\"Vreme izracunavanja: \",end - start,\"sec\")\n",
    "P5a    "
   ]
  },
  {
   "cell_type": "markdown",
   "metadata": {},
   "source": [
    "Резултат можемо да проверимо \"ручним израчунавањем\""
   ]
  },
  {
   "cell_type": "code",
   "execution_count": 5,
   "metadata": {},
   "outputs": [
    {
     "name": "stdout",
     "output_type": "stream",
     "text": [
      "Vreme izracunavanja:  0.00013949999993201345 sec\n"
     ]
    },
    {
     "data": {
      "text/plain": [
       "113.60096000000003"
      ]
     },
     "execution_count": 5,
     "metadata": {},
     "output_type": "execute_result"
    }
   ],
   "source": [
    "start = timer()\n",
    "rez=3*a**5-2.1*a**4+1.12*a**3-3.74\n",
    "end = timer()\n",
    "print(\"Vreme izracunavanja: \",end - start,\"sec\")\n",
    "rez"
   ]
  },
  {
   "cell_type": "markdown",
   "metadata": {},
   "source": [
    "или Вандермондовом матрицом."
   ]
  },
  {
   "cell_type": "code",
   "execution_count": 6,
   "metadata": {},
   "outputs": [
    {
     "name": "stdout",
     "output_type": "stream",
     "text": [
      "[[51.53632 23.4256  10.648    4.84     2.2      1.     ]]\n"
     ]
    }
   ],
   "source": [
    "V1x6=np.vander([a],st)  #generisanje Vandermondove matrice\n",
    "print(V1x6)"
   ]
  },
  {
   "cell_type": "code",
   "execution_count": 7,
   "metadata": {},
   "outputs": [
    {
     "name": "stdout",
     "output_type": "stream",
     "text": [
      "Vreme izracunavanja:  0.00012740000966005027 sec\n"
     ]
    },
    {
     "data": {
      "text/plain": [
       "array([113.60096])"
      ]
     },
     "execution_count": 7,
     "metadata": {},
     "output_type": "execute_result"
    }
   ],
   "source": [
    "start = timer()\n",
    "rez=V1x6@P5\n",
    "end = timer()\n",
    "print(\"Vreme izracunavanja: \",end - start,\"sec\")\n",
    "rez"
   ]
  },
  {
   "cell_type": "markdown",
   "metadata": {},
   "source": [
    "Сада можемо да прилагодимо претходни код за израчунавање вредности полинома за серију аргумената."
   ]
  },
  {
   "cell_type": "code",
   "execution_count": 8,
   "metadata": {},
   "outputs": [
    {
     "name": "stdout",
     "output_type": "stream",
     "text": [
      "Vreme izracunavanja:  0.00017299999308306724 sec\n"
     ]
    },
    {
     "data": {
      "text/plain": [
       "array([ -23.33724,   -5.13258,   -3.73906,   12.19   ,  113.60096,\n",
       "        408.07952, 1739.73626])"
      ]
     },
     "execution_count": 8,
     "metadata": {},
     "output_type": "execute_result"
    }
   ],
   "source": [
    "a=np.array([-1.3,-0.7,0.1,1.5,2.2,2.8,3.7])\n",
    "n=a.size\n",
    "start = timer()\n",
    "P5a=P5[0]*np.ones(n)\n",
    "for i in range(1,st):\n",
    "    P5a=P5a*a+P5[i]\n",
    "end = timer()\n",
    "print(\"Vreme izracunavanja: \",end - start,\"sec\")\n",
    "P5a  "
   ]
  },
  {
   "cell_type": "markdown",
   "metadata": {},
   "source": [
    "Резултат још једном можемо да проверимо \"ручним израчунавањем\"."
   ]
  },
  {
   "cell_type": "code",
   "execution_count": 9,
   "metadata": {},
   "outputs": [
    {
     "name": "stdout",
     "output_type": "stream",
     "text": [
      "Vreme izracunavanja:  0.00024399999529123306 sec\n"
     ]
    },
    {
     "data": {
      "text/plain": [
       "array([ -23.33724,   -5.13258,   -3.73906,   12.19   ,  113.60096,\n",
       "        408.07952, 1739.73626])"
      ]
     },
     "execution_count": 9,
     "metadata": {},
     "output_type": "execute_result"
    }
   ],
   "source": [
    "start = timer()\n",
    "rez=3*a**5-2.1*a**4+1.12*a**3-3.74\n",
    "end = timer()\n",
    "print(\"Vreme izracunavanja: \",end - start,\"sec\")\n",
    "rez"
   ]
  },
  {
   "cell_type": "markdown",
   "metadata": {},
   "source": [
    "Уграђена NumPy функција која служи за израчунавање вредности полинома путем Хорнерове шеме је `polyval`."
   ]
  },
  {
   "cell_type": "code",
   "execution_count": 10,
   "metadata": {},
   "outputs": [
    {
     "name": "stdout",
     "output_type": "stream",
     "text": [
      "Vreme izracunavanja:  0.0001441000058548525 sec\n"
     ]
    },
    {
     "data": {
      "text/plain": [
       "array([ -23.33724,   -5.13258,   -3.73906,   12.19   ,  113.60096,\n",
       "        408.07952, 1739.73626])"
      ]
     },
     "execution_count": 10,
     "metadata": {},
     "output_type": "execute_result"
    }
   ],
   "source": [
    "start = timer()\n",
    "rez=np.polyval(P5,a)\n",
    "end = timer()\n",
    "print(\"Vreme izracunavanja: \",end - start,\"sec\")\n",
    "rez"
   ]
  },
  {
   "cell_type": "markdown",
   "metadata": {},
   "source": [
    "Упоредићемо сада времена израчунавања на полиному високог степена, за серију вредности аргумента. За креирање вектора коефицијената полинома и вектора аргумената користићемо генератор случајних бројева."
   ]
  },
  {
   "cell_type": "code",
   "execution_count": 11,
   "metadata": {},
   "outputs": [
    {
     "data": {
      "text/plain": [
       "(52, 327)"
      ]
     },
     "execution_count": 11,
     "metadata": {},
     "output_type": "execute_result"
    }
   ],
   "source": [
    "n=rndm.randint(200,351)  #stepen polinoma, ima n+1 koeficijenata \n",
    "p=rndm.uniform(-3.5,3.5,n+1)  #generisanje koeficijenata polinoma P\n",
    "m=rndm.randint(22,151)   #broj argumenata\n",
    "x=rndm.uniform(-2.5,2.5,m)\n",
    "m , n"
   ]
  },
  {
   "cell_type": "code",
   "execution_count": 12,
   "metadata": {},
   "outputs": [
    {
     "data": {
      "text/plain": [
       "(52, 328)"
      ]
     },
     "execution_count": 12,
     "metadata": {},
     "output_type": "execute_result"
    }
   ],
   "source": [
    "Vmn=np.vander(x,n+1)  #generisanje Vandermondove matrice\n",
    "Vmn.shape"
   ]
  },
  {
   "cell_type": "code",
   "execution_count": 13,
   "metadata": {},
   "outputs": [
    {
     "name": "stdout",
     "output_type": "stream",
     "text": [
      "Vreme izracunavanja:  0.027026800002204254 sec\n"
     ]
    }
   ],
   "source": [
    "start = timer()\n",
    "Vmn@p\n",
    "end = timer()\n",
    "print(\"Vreme izracunavanja: \",end - start,\"sec\")"
   ]
  },
  {
   "cell_type": "code",
   "execution_count": 14,
   "metadata": {},
   "outputs": [
    {
     "name": "stdout",
     "output_type": "stream",
     "text": [
      "Vreme izracunavanja:  0.001527799991890788 sec\n"
     ]
    }
   ],
   "source": [
    "start = timer()\n",
    "np.polyval(p,x)\n",
    "end = timer()\n",
    "print(\"Vreme izracunavanja: \",end - start,\"sec\")"
   ]
  },
  {
   "cell_type": "markdown",
   "metadata": {},
   "source": [
    "Добијена времена упоредићемо са временом потребним за множење матрице и вектора истих димензија."
   ]
  },
  {
   "cell_type": "code",
   "execution_count": 15,
   "metadata": {},
   "outputs": [
    {
     "data": {
      "text/plain": [
       "(52, 328)"
      ]
     },
     "execution_count": 15,
     "metadata": {},
     "output_type": "execute_result"
    }
   ],
   "source": [
    "A=rndm.uniform(-3,3,(m,n+1))\n",
    "A.shape"
   ]
  },
  {
   "cell_type": "code",
   "execution_count": 16,
   "metadata": {},
   "outputs": [
    {
     "name": "stdout",
     "output_type": "stream",
     "text": [
      "Vreme izracunavanja:  0.00018999999156221747 sec\n"
     ]
    }
   ],
   "source": [
    "start = timer()\n",
    "A@p\n",
    "end = timer()\n",
    "print(\"Vreme izracunavanja: \",end - start,\"sec\")"
   ]
  },
  {
   "cell_type": "markdown",
   "metadata": {},
   "source": [
    "**Задатак 1.** Израчунавање вредности полинома са $2^n$ коефицијената, тј. степена ${\\rm st}(P)=2^n-1,$ може временски брже да се изврши од Хорнерове шеме на основу векторизације израчунавања. Објаснићемо поступак на полиномима за мале вредности $n.$\n",
    "\n",
    "$n=1,\\quad 2^n=2$ коефицијента  $,\\quad{\\rm st}(P)=2^n-1=1.\\qquad P(x)=p_0x+p_1$ \n",
    "\\begin{align}\n",
    "&p=\\begin{bmatrix}p_0&p_1\\end{bmatrix}\\\\\n",
    "&P(x)=x*p[\\ :\\ :2]+p[1:\\ :2]=x*p[0]+p[1]\n",
    "\\end{align}"
   ]
  },
  {
   "cell_type": "markdown",
   "metadata": {},
   "source": [
    "$n=2,\\quad 2^n=4$ коефицијента $,\\quad{\\rm st}(P)=2^n-1=3.\\qquad P(x)=p_0x^3+p_1x^2+p_2x+p_3=x^2\\big(p_0x+p_1\\big)+p_2x+p_3$ \n",
    "\\begin{align}\n",
    "&p=\\begin{bmatrix}p_0&p_1&p_2&p_3\\end{bmatrix}\\\\\n",
    "&p=x*p[\\ :\\ :2]+p[1:\\ :2]=\\begin{bmatrix}x*p[0]+p[1]&x*p[2]+p[3]\\end{bmatrix}\\\\\n",
    "&P(x)=x^2*p[\\ :\\ :2]+p[1:\\ :2]=x^2\\big(p[0]x+p[1]\\big)+p[2]x+p[3]\n",
    "\\end{align}"
   ]
  },
  {
   "cell_type": "markdown",
   "metadata": {},
   "source": [
    "$n=3,\\quad 2^n=8$ коефицијената $,\\quad{\\rm st}(P)=2^n-1=7.$ \n",
    "\\begin{align}\n",
    "P(x)&=p_0x^7+p_1x^6+p_2x^5+p_3x^4+p_4x^3+p_5x^2+p_6x+p_7\\\\\n",
    "&=x^4\\big(p_0x^3+p_1x^2+p_2x+p_3\\big)+p_4x^3+p_5x^2+p_6x+p_7\n",
    "\\end{align}\n",
    "\\begin{align}\n",
    "&p=\\begin{bmatrix}p_0&p_1&p_2&p_3&p_4&p_5&p_6&p_7\\end{bmatrix}\\\\\n",
    "&p=x*p[\\ :\\ :2]+p[1:\\ :2]=\\begin{bmatrix}p[0]x+p[1]&p[2]x+p[3]&p[4]x+p[5]&p[6]x+p[7]\\end{bmatrix}\\\\\n",
    "&p=x^2*p[\\ :\\ :2]+p[1:\\ :2]=\\begin{bmatrix}x^2\\big(p[0]x+p[1]\\big)+p[2]x+p[3]\n",
    "&x^2\\big(p[4]x+p[5]\\big)+p[6]x+p[7]\\end{bmatrix}\\\\\n",
    "&P(x)=x^4*p[\\ :\\ :2]+p[1:\\ :2]=x^4\\Big(x^2\\big(p[0]x+p[1]\\big)+p[2]x+p[3]\\Big)\n",
    "+x^2\\big(p[4]x+p[5]\\big)+p[6]x+p[7]\n",
    "\\end{align}"
   ]
  },
  {
   "cell_type": "markdown",
   "metadata": {},
   "source": [
    "У општем случају, полином са $2^n$ коефицијената израчунава се преко два полинома са $2^{n-1}$ коефицијената. \n",
    "$$P_{2^n-1}=x^{2^{n-1}}P_{2^{n-1}-1}+Q_{2^{n-1}-1}.$$\n",
    "Затим се поступак уситњавања степена наставља за сваки од полинома са $P_{2^{n-1}-1}$ и $Q_{2^{n-1}-1}.$"
   ]
  },
  {
   "cell_type": "markdown",
   "metadata": {},
   "source": [
    "Наредним кодом може да се провери разлика у временима извршења описаног алгоритма и одговарајуће уграђене NumPy функције `polyval`. "
   ]
  },
  {
   "cell_type": "code",
   "execution_count": 17,
   "metadata": {},
   "outputs": [
    {
     "name": "stdout",
     "output_type": "stream",
     "text": [
      "Vreme izvrsenja novog algoritma:  0.0006900000007590279 sec\n",
      "Vreme izvrsenja Hornerove seme:  0.0003823999868473038 sec\n"
     ]
    }
   ],
   "source": [
    "#inicijalizacija problema\n",
    "n=8  #stepen polinoma je 2^n-1\n",
    "p=rndm.uniform(-3.5,3.5,2**n)  #generisanje koeficijenata polinoma P\n",
    "x=rndm.rand()  #vrednost u kojoj se racuna P(x)\n",
    "\n",
    "#Opisani algoritam:\n",
    "pom=x\n",
    "startn = timer()\n",
    "a=pom*p[::2]+p[1::2]\n",
    "for i in range(1,n):\n",
    "    pom=pom**2\n",
    "    a=pom*a[::2]+a[1::2]\n",
    "endn = timer()\n",
    "print(\"Vreme izvrsenja novog algoritma: \",endn - startn,\"sec\")\n",
    "\n",
    "\n",
    "#Ugradjena NumPy funkcija:\n",
    "start = timer()\n",
    "P=np.polyval(p,x)\n",
    "end = timer()\n",
    "print(\"Vreme izvrsenja Hornerove seme: \",end - start,\"sec\")"
   ]
  },
  {
   "cell_type": "code",
   "execution_count": 18,
   "metadata": {},
   "outputs": [
    {
     "data": {
      "text/plain": [
       "array([5.55111512e-17])"
      ]
     },
     "execution_count": 18,
     "metadata": {},
     "output_type": "execute_result"
    }
   ],
   "source": [
    "np.abs(a-P)  #razlika u izracunatim vrednostima polinoma"
   ]
  },
  {
   "cell_type": "code",
   "execution_count": 19,
   "metadata": {},
   "outputs": [
    {
     "data": {
      "text/plain": [
       "0.2805110752644685"
      ]
     },
     "execution_count": 19,
     "metadata": {},
     "output_type": "execute_result"
    }
   ],
   "source": [
    "x"
   ]
  },
  {
   "cell_type": "markdown",
   "metadata": {},
   "source": [
    "Прилагодити горњи код новог алгоритма (са наставком векторизације) за израчунавања над вектором аргумената $x=\\begin{bmatrix}x_0&x_1&\\dots&x_m\\end{bmatrix},$ тј. да може истовремено да рачуна низ вредности полинома $\\begin{bmatrix}P_{2^n-1}(x_0)&P_{2^n-1}(x_1)&\\dots&P_{2^n-1}(x_m)\\end{bmatrix}.$ Вредности аргумената $x$ генерисати наредном кодном ћелијом. Упоредити времена извршења новог алгоритма и уграђене функције `polyval`. Одредити максималну разлику у добијеним вредностима полинома на два приказана начина."
   ]
  },
  {
   "cell_type": "markdown",
   "metadata": {},
   "source": [
    "За размишљање: због чега долази до разлике у израчунатим вредностима полинома. У те сврхе проверити за који опсег аргумента су велике разлике у добијеним вредностима полинома, а за који опсег су ове разлике занемарљиве."
   ]
  },
  {
   "cell_type": "code",
   "execution_count": 20,
   "metadata": {},
   "outputs": [],
   "source": [
    "m=165\n",
    "x=np.linspace(-1.5,1.5,m)"
   ]
  },
  {
   "cell_type": "code",
   "execution_count": 21,
   "metadata": {},
   "outputs": [
    {
     "name": "stdout",
     "output_type": "stream",
     "text": [
      "Vreme izvrsenja Hornerove seme:  0.0005321999924490228 sec\n"
     ]
    }
   ],
   "source": [
    "starth = timer()\n",
    "P=np.polyval(p,x)\n",
    "endh = timer()\n",
    "print(\"Vreme izvrsenja Hornerove seme: \",endh - starth,\"sec\")"
   ]
  },
  {
   "cell_type": "code",
   "execution_count": 22,
   "metadata": {},
   "outputs": [
    {
     "data": {
      "text/plain": [
       "1.3917364297963108"
      ]
     },
     "execution_count": 22,
     "metadata": {},
     "output_type": "execute_result"
    }
   ],
   "source": [
    "(endh - starth)/(end - start)"
   ]
  },
  {
   "cell_type": "code",
   "execution_count": 23,
   "metadata": {},
   "outputs": [
    {
     "name": "stdout",
     "output_type": "stream",
     "text": [
      "Vreme izvrsenja novog algoritma:  0.00032020000799093395 sec\n"
     ]
    }
   ],
   "source": [
    "pom=x.copy()\n",
    "a=np.outer(pom,p[::2])+p[1::2]\n",
    "startn = timer()\n",
    "for i in range(1,n):\n",
    "    pom=pom**2\n",
    "    a=(pom*(a.T[::2])).T+a[:,1::2]\n",
    "endn = timer()\n",
    "print(\"Vreme izvrsenja novog algoritma: \",endn - startn,\"sec\")"
   ]
  },
  {
   "cell_type": "code",
   "execution_count": 24,
   "metadata": {},
   "outputs": [],
   "source": [
    "a=a.reshape(m,)"
   ]
  },
  {
   "cell_type": "markdown",
   "metadata": {},
   "source": [
    "Апсолутна разлика у вредностима."
   ]
  },
  {
   "cell_type": "code",
   "execution_count": 25,
   "metadata": {},
   "outputs": [
    {
     "data": {
      "text/plain": [
       "9.50737950171172e+29"
      ]
     },
     "execution_count": 25,
     "metadata": {},
     "output_type": "execute_result"
    }
   ],
   "source": [
    "np.max(np.abs(a-P))"
   ]
  },
  {
   "cell_type": "markdown",
   "metadata": {},
   "source": [
    "Релативна разлика у вредностима."
   ]
  },
  {
   "cell_type": "code",
   "execution_count": 26,
   "metadata": {},
   "outputs": [
    {
     "data": {
      "text/plain": [
       "4.286607665575241e-14"
      ]
     },
     "execution_count": 26,
     "metadata": {},
     "output_type": "execute_result"
    }
   ],
   "source": [
    "np.max(np.abs(a-P)/np.abs(a))"
   ]
  },
  {
   "cell_type": "code",
   "execution_count": 27,
   "metadata": {},
   "outputs": [
    {
     "data": {
      "image/png": "[encoded data removed]",
      "text/plain": [
       "<Figure size 1500x500 with 3 Axes>"
      ]
     },
     "metadata": {},
     "output_type": "display_data"
    }
   ],
   "source": [
    "razl=np.abs(a-P)\n",
    "\n",
    "slika = plt.figure(figsize=(15,5)) \n",
    "slika.subplots_adjust(hspace=0.6, wspace = 0.3)\n",
    "\n",
    "plt.subplot(1,3,1)\n",
    "plt.plot(x,razl,'o')\n",
    "plt.title(\"Razlike u vrednostima polinoma\");\n",
    "\n",
    "plt.subplot(1,3,2)\n",
    "plt.plot(x,razl,'o')\n",
    "plt.ylim(-1e13,1e13)\n",
    "plt.title(\"Razlike u vrednostima polinoma\");\n",
    "\n",
    "plt.subplot(1,3,3)\n",
    "plt.plot(x,razl,'o')\n",
    "plt.ylim(-1e1,1e1)\n",
    "plt.title(\"Razlike u vrednostima polinoma\");"
   ]
  },
  {
   "cell_type": "code",
   "execution_count": 28,
   "metadata": {},
   "outputs": [
    {
     "data": {
      "image/png": "[encoded data removed]",
      "text/plain": [
       "<Figure size 640x480 with 1 Axes>"
      ]
     },
     "metadata": {},
     "output_type": "display_data"
    }
   ],
   "source": [
    "plt.plot(x,razl/np.abs(a),'o',label=\"relativne razlike\")\n",
    "plt.legend();"
   ]
  },
  {
   "cell_type": "markdown",
   "metadata": {},
   "source": [
    "**Пример 3.** Израчунавање вредности полинома са $2^n$ коефицијената, тј. степена ${\\rm st}(P)=2^n-1,$ може временски брже да се изврши од Хорнерове шеме на основу векторизације израчунавања. Објаснићемо поступак на полиномима за мале вредности $n.$\n",
    "\n",
    "$n=1,\\quad 2^n=2$ коефицијента  $,\\quad{\\rm st}(P)=2^n-1=1.\\qquad P(x)=p_0x+p_1$ \n",
    "\\begin{align}\n",
    "&p=\\begin{bmatrix}p_0&p_1\\end{bmatrix}\\\\\n",
    "&P(x)=x*p[0]+p[1]=x*p[\\ :\\ :2]+p[1:\\ :2]\n",
    "\\end{align}"
   ]
  },
  {
   "cell_type": "markdown",
   "metadata": {},
   "source": [
    "$n=2,\\quad 2^n=4$ коефицијента $,\\quad{\\rm st}(P)=2^n-1=3.\\qquad P(x)=p_0x^3+p_1x^2+p_2x+p_3=x^2\\big(p_0x+p_1\\big)+p_2x+p_3$ \n",
    "\\begin{align}\n",
    "&p=\\begin{bmatrix}p_0&p_1&p_2&p_3\\end{bmatrix}\\\\\n",
    "&p=x*p[\\ :\\ :2]+p[1:\\ :2]=\\begin{bmatrix}x*p[0]+p[1]&x*p[2]+p[3]\\end{bmatrix}\\\\\n",
    "&P(x)=x^2*p[\\ :\\ :2]+p[1:\\ :2]=x^2\\big(p[0]x+p[1]\\big)+p[2]x+p[3]\n",
    "\\end{align}"
   ]
  },
  {
   "cell_type": "markdown",
   "metadata": {},
   "source": [
    "$n=3,\\quad 2^n=8$ коефицијената $,\\quad{\\rm st}(P)=2^n-1=7.$ \n",
    "\\begin{align}\n",
    "P(x)&=p_0x^7+p_1x^6+p_2x^5+p_3x^4+p_4x^3+p_5x^2+p_6x+p_7\\\\\n",
    "&=x^4\\big(p_0x^3+p_1x^2+p_2x+p_3\\big)+p_4x^3+p_5x^2+p_6x+p_7\n",
    "\\end{align}\n",
    "\\begin{align}\n",
    "&p=\\begin{bmatrix}p_0&p_1&p_2&p_3&p_4&p_5&p_6&p_7\\end{bmatrix}\\\\\n",
    "&p=x*p[\\ :\\ :2]+p[1:\\ :2]=\\begin{bmatrix}p[0]x+p[1]&p[2]x+p[3]&p[4]x+p[5]&p[6]x+p[7]\\end{bmatrix}\\\\\n",
    "&p=x^2*p[\\ :\\ :2]+p[1:\\ :2]=\\begin{bmatrix}x^2\\big(p[0]x+p[1]\\big)+p[2]x+p[3]\n",
    "&x^2\\big(p[4]x+p[5]\\big)+p[6]x+p[7]\\end{bmatrix}\\\\\n",
    "&P(x)=x^4*p[\\ :\\ :2]+p[1:\\ :2]=x^4\\Big(x^2\\big(p[0]x+p[1]\\big)+p[2]x+p[3]\\Big)\n",
    "+x^2\\big(p[4]x+p[5]\\big)+p[6]x+p[7]\n",
    "\\end{align}"
   ]
  },
  {
   "cell_type": "markdown",
   "metadata": {},
   "source": [
    "У општем случају, полином са $2^n$ коефицијената израчунава се преко два полинома са $2^{n-1}$ коефицијената. \n",
    "$$P_{2^n-1}=x^{2^{n-1}}P_{2^{n-1}-1}+Q_{2^{n-1}-1}.$$\n",
    "Затим се поступак уситњавања степена наставља за сваки од полинома са $2^{n-1}$ коефицијената."
   ]
  },
  {
   "cell_type": "markdown",
   "metadata": {},
   "source": [
    "Наредним кодом може да се провери разлика у временима извршења описаног алгоритма и одговарајуће уграђене NumPy функције `polyval` за једну вредност аргумента $x.$ "
   ]
  },
  {
   "cell_type": "code",
   "execution_count": 29,
   "metadata": {},
   "outputs": [
    {
     "name": "stdout",
     "output_type": "stream",
     "text": [
      "Vreme izvrsenja novog algoritma:  0.00017559999832883477 sec\n",
      "Vreme izvrsenja Hornerove seme:  0.0004927999980282038 sec\n"
     ]
    }
   ],
   "source": [
    "#inicijalizacija problema\n",
    "n=8  #stepen polinoma je 2^n-1\n",
    "p=rndm.uniform(-3.5,3.5,2**n)  #generisanje koeficijenata polinoma P\n",
    "x=rndm.rand()  #vrednost u kojoj se racuna P(x)\n",
    "\n",
    "#Opisani algoritam:\n",
    "pom=x\n",
    "startn = timer()\n",
    "a=pom*p[::2]+p[1::2]\n",
    "for i in range(1,n):\n",
    "    pom=pom**2\n",
    "    a=pom*a[::2]+a[1::2]\n",
    "endn = timer()\n",
    "print(\"Vreme izvrsenja novog algoritma: \",endn - startn,\"sec\")\n",
    "\n",
    "\n",
    "#Ugradjena NumPy funkcija:\n",
    "start = timer()\n",
    "P=np.polyval(p,x)\n",
    "end = timer()\n",
    "print(\"Vreme izvrsenja Hornerove seme: \",end - start,\"sec\")"
   ]
  },
  {
   "cell_type": "code",
   "execution_count": 30,
   "metadata": {},
   "outputs": [
    {
     "data": {
      "text/plain": [
       "array([3.33066907e-16])"
      ]
     },
     "execution_count": 30,
     "metadata": {},
     "output_type": "execute_result"
    }
   ],
   "source": [
    "np.abs(a-P)  #razlika u izracunatim vrednostima polinoma"
   ]
  },
  {
   "cell_type": "code",
   "execution_count": 31,
   "metadata": {},
   "outputs": [
    {
     "data": {
      "text/plain": [
       "0.5979764812817833"
      ]
     },
     "execution_count": 31,
     "metadata": {},
     "output_type": "execute_result"
    }
   ],
   "source": [
    "x"
   ]
  },
  {
   "cell_type": "markdown",
   "metadata": {},
   "source": [
    "Прилагодићемо горњи код новог алгоритма (са наставком векторизације) за израчунавања над вектором аргумената $x=\\begin{bmatrix}x_0&x_1&\\dots&x_m\\end{bmatrix},$ тј. да може истовремено да рачуна низ вредности полинома $\\begin{bmatrix}P_{2^n-1}(x_0)&P_{2^n-1}(x_1)&\\dots&P_{2^n-1}(x_m)\\end{bmatrix}.$ Вредности аргумената $x$ су генерисане као вектор случајних вредности. Упоредићемо времена извршења новог алгоритма и уграђене функције `polyval`. Одредичемо максималну разлику у добијеним вредностима полинома на два алгоритма."
   ]
  },
  {
   "cell_type": "code",
   "execution_count": 32,
   "metadata": {},
   "outputs": [],
   "source": [
    "m=165   #broj vrednosti argumenta u kojima se izracunava polinom\n",
    "x=np.linspace(-1.5,1.5,m)"
   ]
  },
  {
   "cell_type": "code",
   "execution_count": 33,
   "metadata": {},
   "outputs": [
    {
     "name": "stdout",
     "output_type": "stream",
     "text": [
      "Vreme izvrsenja Hornerove seme:  0.0006537000008393079 sec\n"
     ]
    }
   ],
   "source": [
    "starth = timer()\n",
    "P=np.polyval(p,x)\n",
    "endh = timer()\n",
    "print(\"Vreme izvrsenja Hornerove seme: \",endh - starth,\"sec\")"
   ]
  },
  {
   "cell_type": "code",
   "execution_count": 34,
   "metadata": {},
   "outputs": [
    {
     "data": {
      "text/plain": [
       "1.3265016303873756"
      ]
     },
     "execution_count": 34,
     "metadata": {},
     "output_type": "execute_result"
    }
   ],
   "source": [
    "(endh - starth)/(end - start)   #odnos vremena polyval funkcije za jedan  i m argumenata"
   ]
  },
  {
   "cell_type": "code",
   "execution_count": 35,
   "metadata": {},
   "outputs": [
    {
     "name": "stdout",
     "output_type": "stream",
     "text": [
      "Vreme izvrsenja novog algoritma:  0.00021569999807979912 sec\n"
     ]
    }
   ],
   "source": [
    "pom=x.copy()\n",
    "a=np.outer(pom,p[::2])+p[1::2]\n",
    "startn = timer()\n",
    "for i in range(1,n):\n",
    "    pom=pom**2\n",
    "    a=(pom*(a.T[::2])).T+a[:,1::2]\n",
    "endn = timer()\n",
    "print(\"Vreme izvrsenja novog algoritma: \",endn - startn,\"sec\")"
   ]
  },
  {
   "cell_type": "code",
   "execution_count": 36,
   "metadata": {},
   "outputs": [],
   "source": [
    "a=a.reshape(m,)"
   ]
  },
  {
   "cell_type": "markdown",
   "metadata": {},
   "source": [
    "Апсолутна разлика у вредностима."
   ]
  },
  {
   "cell_type": "code",
   "execution_count": 37,
   "metadata": {},
   "outputs": [
    {
     "data": {
      "text/plain": [
       "1.1091942751997007e+30"
      ]
     },
     "execution_count": 37,
     "metadata": {},
     "output_type": "execute_result"
    }
   ],
   "source": [
    "np.max(np.abs(a-P))"
   ]
  },
  {
   "cell_type": "markdown",
   "metadata": {},
   "source": [
    "Релативна разлика у вредностима."
   ]
  },
  {
   "cell_type": "code",
   "execution_count": 38,
   "metadata": {},
   "outputs": [
    {
     "data": {
      "text/plain": [
       "1.7046857519846833e-14"
      ]
     },
     "execution_count": 38,
     "metadata": {},
     "output_type": "execute_result"
    }
   ],
   "source": [
    "np.max(np.abs(a-P)/np.abs(a))"
   ]
  },
  {
   "cell_type": "code",
   "execution_count": 39,
   "metadata": {},
   "outputs": [
    {
     "data": {
      "image/png": "[encoded data removed]",
      "text/plain": [
       "<Figure size 1500x500 with 3 Axes>"
      ]
     },
     "metadata": {},
     "output_type": "display_data"
    }
   ],
   "source": [
    "razl=np.abs(a-P)\n",
    "\n",
    "slika = plt.figure(figsize=(15,5)) \n",
    "slika.subplots_adjust(hspace=0.6, wspace = 0.3)\n",
    "\n",
    "plt.subplot(1,3,1)\n",
    "plt.plot(x,razl,'o')\n",
    "plt.title(\"Razlike u vrednostima polinoma\");\n",
    "\n",
    "plt.subplot(1,3,2)\n",
    "plt.plot(x,razl,'o')\n",
    "plt.ylim(-1e13,1e13)\n",
    "plt.title(\"Razlike u vrednostima polinoma\");\n",
    "\n",
    "plt.subplot(1,3,3)\n",
    "plt.plot(x,razl,'o')\n",
    "plt.ylim(-1e1,1e1)\n",
    "plt.title(\"Razlike u vrednostima polinoma\");"
   ]
  },
  {
   "cell_type": "code",
   "execution_count": 40,
   "metadata": {},
   "outputs": [
    {
     "data": {
      "image/png": "[encoded data removed]",
      "text/plain": [
       "<Figure size 640x480 with 1 Axes>"
      ]
     },
     "metadata": {},
     "output_type": "display_data"
    }
   ],
   "source": [
    "plt.plot(x,razl/np.abs(a),'o',label=\"relativne razlike\")\n",
    "plt.legend();"
   ]
  },
  {
   "cell_type": "markdown",
   "metadata": {},
   "source": [
    "За размишљање: због чега долази до разлике у израчунатим вредностима полинома. У те сврхе проверити за који опсег аргумента су велике разлике у добијеним вредностима полинома, а за који опсег су ове разлике занемарљиве."
   ]
  },
  {
   "cell_type": "markdown",
   "metadata": {},
   "source": [
    "### Факторисани облик полинома"
   ]
  },
  {
   "cell_type": "markdown",
   "metadata": {},
   "source": [
    "Познавање нула полинома, тј. његов факторисани облик\n",
    "$$P_n(x)=p_0(x-z_0)(x-z_1)\\dots(x-z_{n-1})$$\n",
    "игра веома важну улогу у раду са полиномима. Задавање моничног полинома $M_n(x)=(x-z_0)(x-z_1)\\dots(x-z_{n-1})$ преко вектора његових нула $\\begin{bmatrix}z_0&z_1&\\dots&z_{n-1}\\end{bmatrix}$ омогућено је уграђеном NumPy функцијом `poly`. Функција враћа вектор коефицијената моничног полинома са задатим нулама, коефицијенти су поређани од најстаријег ка слободном члану.\n",
    "```python\n",
    "np.poly([z0,z1,...,z(n-1)])\n",
    "```\n",
    "$$M_n(x)=(x-z_0)(x-z_1)\\dots(x-z_{n-1})=x^n+p_1x^{n-1}+\\dots+p_{n-1}x+p_n\\equiv\\begin{bmatrix}1&p_1&\\dots&p_{n-1}&p_n\\end{bmatrix}^T$$"
   ]
  },
  {
   "cell_type": "code",
   "execution_count": 41,
   "metadata": {},
   "outputs": [],
   "source": [
    "nule=np.array([-1.2,1,1,2.2j, 6.3, 3.1-2.3j])"
   ]
  },
  {
   "cell_type": "code",
   "execution_count": 42,
   "metadata": {},
   "outputs": [
    {
     "data": {
      "text/plain": [
       "array([  1.     +0.j    , -10.2    +0.1j   ,  30.71   +6.11j  ,\n",
       "       -37.19  -48.058j , -20.2036+25.8268j,  74.1372+67.5804j,\n",
       "       -38.2536-51.5592j])"
      ]
     },
     "execution_count": 42,
     "metadata": {},
     "output_type": "execute_result"
    }
   ],
   "source": [
    "np.poly(nule)"
   ]
  },
  {
   "cell_type": "markdown",
   "metadata": {},
   "source": [
    "**Пример 3.** Потражићемо монични полином чије су све нуле (рачунајући и вишеструкости) $-1.2,\\ 2.2i,\\ 6.3,\\ 3.1-2.3i.$"
   ]
  },
  {
   "cell_type": "code",
   "execution_count": 43,
   "metadata": {},
   "outputs": [
    {
     "data": {
      "text/plain": [
       "array([  1.     +0.j    ,  -8.2    +0.1j   ,  13.31   +6.31j  ,\n",
       "        -2.37  -35.538j , -38.2536-51.5592j])"
      ]
     },
     "execution_count": 43,
     "metadata": {},
     "output_type": "execute_result"
    }
   ],
   "source": [
    "nule=np.array([-1.2,2.2j, 6.3, 3.1-2.3j])\n",
    "P4=np.poly(nule)\n",
    "P4"
   ]
  },
  {
   "cell_type": "markdown",
   "metadata": {},
   "source": [
    "Излаз наредбе дао је вектор коефицијената траженог моничног полинома четвртог степена,\n",
    "$$P_4(x)=x^4+(-8.2    +0.1i)x^3+(13.31   +6.31i)x^2+(-2.37  -35.538i)x -38.2536-51.5592i.$$\n",
    "Проверићемо израчунавањем да ли је заиста полином $P_4(x)$ са траженим нулама. Један начин јесте примена уграђене функције `np.polyval`."
   ]
  },
  {
   "cell_type": "code",
   "execution_count": 44,
   "metadata": {},
   "outputs": [
    {
     "data": {
      "text/plain": [
       "array([-0.-0.j, -0.-0.j,  0.+0.j,  0.+0.j])"
      ]
     },
     "execution_count": 44,
     "metadata": {},
     "output_type": "execute_result"
    }
   ],
   "source": [
    "np.round(np.polyval(P4,nule),2)"
   ]
  },
  {
   "cell_type": "markdown",
   "metadata": {},
   "source": [
    "Други начин за проверу резултата јесу Вијетове формуле. \n",
    "\\begin{align}\n",
    "P_4(x)&=1\\cdot x^4+p_1x^3+p_2x^2+p_3x+p_4=(x-z_0)(x-z_1)(x-z_2)(x-z_3),\\\\\n",
    "&z_0+z_1+z_2+z_3=-p_1,\\\\\n",
    "&z_0z_1+z_0z_2+z_0z_3+z_1z_2+z_1z_3+z_2z_3=p_2,\\\\\n",
    "&z_0z_1z_2+z_0z_1z_3+z_0z_2z_3+z_1z_2z_3=-p_3,\\\\\n",
    "&z_0z_1z_2z_3=p_4.\n",
    "\\end{align}\n",
    "Њима можемо да утврдимо вредности коефицијената полинома $P_4.$"
   ]
  },
  {
   "cell_type": "code",
   "execution_count": 45,
   "metadata": {},
   "outputs": [
    {
     "name": "stdout",
     "output_type": "stream",
     "text": [
      "(-8.2+0.1j)\n"
     ]
    },
    {
     "data": {
      "text/plain": [
       "(-8.2+0.1j)"
      ]
     },
     "execution_count": 45,
     "metadata": {},
     "output_type": "execute_result"
    }
   ],
   "source": [
    "#provera koeficijenta p1\n",
    "print(np.round(P4[1],2))\n",
    "-np.round(np.sum(nule),2)"
   ]
  },
  {
   "cell_type": "code",
   "execution_count": 46,
   "metadata": {},
   "outputs": [
    {
     "name": "stdout",
     "output_type": "stream",
     "text": [
      "(13.31+6.31j)\n"
     ]
    },
    {
     "data": {
      "text/plain": [
       "(13.31+6.31j)"
      ]
     },
     "execution_count": 46,
     "metadata": {},
     "output_type": "execute_result"
    }
   ],
   "source": [
    "#provera koeficijenta p2\n",
    "print(np.round(P4[2],2))\n",
    "np.round(np.sum(nule[0]*nule[1:])+np.sum(nule[1]*nule[2:])+np.sum(nule[2]*nule[3:]),2)"
   ]
  },
  {
   "cell_type": "code",
   "execution_count": 47,
   "metadata": {},
   "outputs": [
    {
     "name": "stdout",
     "output_type": "stream",
     "text": [
      "(-2.37-35.54j)\n"
     ]
    },
    {
     "data": {
      "text/plain": [
       "(-2.37-35.54j)"
      ]
     },
     "execution_count": 47,
     "metadata": {},
     "output_type": "execute_result"
    }
   ],
   "source": [
    "#provera koeficijenta p3\n",
    "print(np.round(P4[3],2))\n",
    "np.round(-np.prod(nule[1:])-np.prod(nule[[0,2,3]])-np.prod(nule[[0,1,3]])-np.prod(nule[:3]),2)"
   ]
  },
  {
   "cell_type": "code",
   "execution_count": 48,
   "metadata": {},
   "outputs": [
    {
     "name": "stdout",
     "output_type": "stream",
     "text": [
      "(-38.25-51.56j)\n"
     ]
    },
    {
     "data": {
      "text/plain": [
       "(-38.25-51.56j)"
      ]
     },
     "execution_count": 48,
     "metadata": {},
     "output_type": "execute_result"
    }
   ],
   "source": [
    "#provera koeficijenta p4\n",
    "print(np.round(P4[4],2))\n",
    "np.round(np.prod(nule),2)"
   ]
  },
  {
   "cell_type": "markdown",
   "metadata": {},
   "source": [
    "**Пример 4.** У раду са реалним полиномима можемо да користимо и графички приказ како бисмо проверили њихове карактеристике. Потражићемо монични полином $M_7(x)$ чије су све нуле (рачунајући и вишеструкости): $-1.2,\\ -1.2,\\ 2.2,\\ 3.1,\\ 3.1,\\ 3.1,\\ 6.3.$ Затим ћемо наћи полином $P_7(x)$ са истим нулама који још задовољава услов: \n",
    "\n",
    "а) $P_7(0)=2.35,\\qquad$    б) $P_7(1)=3.12,\\qquad$   в) $P_7(-1)=-3.64.$"
   ]
  },
  {
   "cell_type": "code",
   "execution_count": 49,
   "metadata": {},
   "outputs": [],
   "source": [
    "nule=np.array([-1.2, -1.2, 2.2, 3.1, 3.1, 3.1, 6.3])\n",
    "M7=np.poly(nule) #konstrukcija monicnog polinoma\n",
    "#kreiranje podataka za grafik\n",
    "x=np.linspace(-2,7,250)\n",
    "M7x=np.polyval(M7,x)"
   ]
  },
  {
   "cell_type": "code",
   "execution_count": 50,
   "metadata": {},
   "outputs": [
    {
     "data": {
      "image/png": "[encoded data removed]",
      "text/plain": [
       "<Figure size 640x480 with 1 Axes>"
      ]
     },
     "metadata": {},
     "output_type": "display_data"
    }
   ],
   "source": [
    "plt.plot(x,M7x,label='$M_7(x)$')\n",
    "plt.axhline(color='black', zorder=-1)\n",
    "plt.axvline(color='black', zorder=-1)\n",
    "plt.plot(nule,np.zeros(7),'or')\n",
    "plt.xticks([-1.2, 2.2, 3.1, 6.3])\n",
    "plt.ylim(-1000,1000)\n",
    "plt.legend()\n",
    "plt.grid();"
   ]
  },
  {
   "cell_type": "markdown",
   "metadata": {},
   "source": [
    "На основу моничног полинома $M_7(x)$ креираћемо тражене полиноме $P_7(x)=p_0 M_7(x)$ мењањем вредности водећег коефицијента. Постављањем услова $P_7(a)=b$ налазимо одговарајући водећи коефицијент:\n",
    "$$P_7(a)=b\\quad\\Longleftrightarrow\\quad p_0 M_7(a)=b\\quad\\Longrightarrow\\quad p_0=\\dfrac{b}{M_7(a)}\\,.$$\n",
    "Сва три случаја (под а,б и в) можемо истовремено да решимо.\n",
    "\n",
    "а) $P_7(0)=2.35,\\qquad$    б) $P_7(1)=3.12,\\qquad$   в) $P_7(-1)=-3.64.$"
   ]
  },
  {
   "cell_type": "code",
   "execution_count": 51,
   "metadata": {},
   "outputs": [
    {
     "data": {
      "text/plain": [
       "array([-0.00395237, -0.01094446,  0.05652193])"
      ]
     },
     "execution_count": 51,
     "metadata": {},
     "output_type": "execute_result"
    }
   ],
   "source": [
    "b=np.array([2.35, 3.12, -3.64])\n",
    "a=np.array([0, 1, -1])\n",
    "p0=b/np.polyval(M7,a)\n",
    "p0  #vektor vodecih koeficijenata za svaki od polinoma pod a, b i v"
   ]
  },
  {
   "cell_type": "markdown",
   "metadata": {},
   "source": [
    "Направићемо графички приказ добијених решења."
   ]
  },
  {
   "cell_type": "code",
   "execution_count": 52,
   "metadata": {},
   "outputs": [
    {
     "data": {
      "image/png": "[encoded data removed]",
      "text/plain": [
       "<Figure size 640x480 with 1 Axes>"
      ]
     },
     "metadata": {},
     "output_type": "display_data"
    }
   ],
   "source": [
    "plt.plot(x,p0[0]*M7x,label='$a)P_7(x)$')\n",
    "plt.plot(x,p0[1]*M7x,label='$b)P_7(x)$')\n",
    "plt.plot(x,p0[2]*M7x,label='$v)P_7(x)$')\n",
    "plt.axhline(color='black', zorder=-1)\n",
    "plt.axvline(color='black', zorder=-1)\n",
    "plt.plot(nule,np.zeros(7),'or')\n",
    "plt.plot(a,b,'ob')\n",
    "plt.xticks([-1.2, -1, 0, 1, 2.2, 3.1, 6.3])\n",
    "plt.yticks([-10, -3.64, 0, 2.35, 3.12, 10])\n",
    "plt.ylim(-10,10)\n",
    "plt.legend()\n",
    "plt.grid();"
   ]
  },
  {
   "cell_type": "markdown",
   "metadata": {},
   "source": [
    "## Алгебра полинома\n",
    "\n",
    "Упознаћемо још неке уграђене функције за рад са полиномима преко њихових вектора коефицијената. Најпре, функције којима се обезбеђује основна алгебра полинома.\n",
    "\n",
    "Функцијом `polyadd` добијамо коефицијенте збира два полинома. Синтакса наредбе је:\n",
    "```python\n",
    "polyadd(v ,u )\n",
    "```"
   ]
  },
  {
   "cell_type": "markdown",
   "metadata": {},
   "source": [
    "Функцијом `polysub` добијамо коефицијенте разлике два полинома. Синтакса наредбе је:\n",
    "```python\n",
    "polysub(v ,u )\n",
    "```"
   ]
  },
  {
   "cell_type": "markdown",
   "metadata": {},
   "source": [
    "Функцијом `polymul` добијамо коефицијенте производа два полинома. Синтакса наредбе је:\n",
    "```python\n",
    "polymul(v ,u )\n",
    "```"
   ]
  },
  {
   "cell_type": "markdown",
   "metadata": {},
   "source": [
    "Функцијом `polydiv` добија се количник и остатак Еуклидовог дељења два полинома. Синтакса наредбе је:\n",
    "```python\n",
    "polydiv(v ,u )\n",
    "```\n",
    "Излаз наредбе представљају два низа, први садржи коефицијенте полинома количника, а други коефицијенте полинома остатка."
   ]
  },
  {
   "cell_type": "markdown",
   "metadata": {},
   "source": [
    "**Пример 5.** Одредићемо збир, разлику, производ и количник (са остатком) два полинома из претходних примера $P_4$ и $P_5.$"
   ]
  },
  {
   "cell_type": "code",
   "execution_count": 53,
   "metadata": {},
   "outputs": [
    {
     "name": "stdout",
     "output_type": "stream",
     "text": [
      "P4(x)= [  1.   +0.j    -8.2  +0.1j   13.31 +6.31j  -2.37-35.54j -38.25-51.56j]\n",
      "P5(x)= [ 3.   -2.1   1.12  0.    0.   -3.74]\n"
     ]
    },
    {
     "data": {
      "text/plain": [
       "array([  3.   +0.j  ,  -1.1  +0.j  ,  -7.08 +0.1j ,  13.31 +6.31j,\n",
       "        -2.37-35.54j, -41.99-51.56j])"
      ]
     },
     "execution_count": 53,
     "metadata": {},
     "output_type": "execute_result"
    }
   ],
   "source": [
    "print(\"P4(x)=\",np.round(P4,2))\n",
    "print(\"P5(x)=\",P5)\n",
    "np.round(np.polyadd(P4,P5),2)"
   ]
  },
  {
   "cell_type": "code",
   "execution_count": 54,
   "metadata": {},
   "outputs": [
    {
     "data": {
      "text/plain": [
       "array([  3.   +0.j  ,  -3.1  +0.j  ,   9.32 -0.1j , -13.31 -6.31j,\n",
       "         2.37+35.54j,  34.51+51.56j])"
      ]
     },
     "execution_count": 54,
     "metadata": {},
     "output_type": "execute_result"
    }
   ],
   "source": [
    "np.round(np.polysub(P5,P4),2)"
   ]
  },
  {
   "cell_type": "code",
   "execution_count": 55,
   "metadata": {},
   "outputs": [
    {
     "data": {
      "text/plain": [
       "array([  3.    +0.j  , -26.7   +0.3j ,  58.27 +18.72j, -44.24-119.75j,\n",
       "       -94.88 -72.98j,  73.94 +68.47j, -12.18 -58.12j, -49.78 -23.6j ,\n",
       "         8.86+132.91j, 143.07+192.83j])"
      ]
     },
     "execution_count": 55,
     "metadata": {},
     "output_type": "execute_result"
    }
   ],
   "source": [
    "np.round(np.polymul(P5,P4),2)"
   ]
  },
  {
   "cell_type": "code",
   "execution_count": 56,
   "metadata": {},
   "outputs": [
    {
     "data": {
      "text/plain": [
       "(array([ 3. +0.j , 22.5-0.3j]),\n",
       " array([ 145.66     -23.64j   , -294.258    -31.368j  ,\n",
       "         178.7472  +953.5716j ,  872.43376+1148.60592j]))"
      ]
     },
     "execution_count": 56,
     "metadata": {},
     "output_type": "execute_result"
    }
   ],
   "source": [
    "np.polydiv(P5,P4)"
   ]
  },
  {
   "cell_type": "markdown",
   "metadata": {},
   "source": [
    "**Задатак 2.** Полиноме $P(x)=ix^2-x+2i$ и $Q(x)=(1+i)x+1-i$ приказати као векторе њихових коефицијената. Одредити коефицијенте полинома $P+Q,\\ P-Q,\\ PQ$ користећи одговарајуће операције NumPy библиотеке."
   ]
  },
  {
   "cell_type": "code",
   "execution_count": 57,
   "metadata": {},
   "outputs": [
    {
     "name": "stdout",
     "output_type": "stream",
     "text": [
      "[0.+1.j 0.+1.j 1.+1.j]\n",
      "[ 0.+1.j -2.-1.j -1.+3.j]\n",
      "[-1.+1.j  0.+0.j -3.+3.j  2.+2.j]\n"
     ]
    }
   ],
   "source": [
    "P=np.array([1j,-1,2j])\n",
    "Q=np.array([1+1j,1-1j])\n",
    "print(np.polyadd(P,Q))\n",
    "print(np.polysub(P,Q))\n",
    "print(np.polymul(P,Q))"
   ]
  },
  {
   "cell_type": "markdown",
   "metadata": {},
   "source": [
    "**Задатак 3.** Природни бројеви у декадном запису користе позициони систем, тј. вредност броја одређује се на основу вредности цифара и њихове позиције у запису броја, нпр.\n",
    "$$12345=1\\cdot10^4+2\\cdot10^3+3\\cdot10^2+4\\cdot10^1+5\\cdot10^0.$$\n",
    "Уколико уведемо ознаку $P(x)=1\\cdot x^4+2\\cdot x^3+3\\cdot x^2+4\\cdot x^1+5\\cdot x^0$ видимо да вредност $12345$ је и вредност $P(10).$ На тај начин операције над полиномима постају средство за опис операција над бројевима са пуно цифара.\n",
    "\n",
    "Генерисати два случајна броја $br1,br2$ као векторе њихових цифара дужина $n_1,n_2\\in[111,222].$\n",
    "Поставити да је $br1$ већи од $br2.$"
   ]
  },
  {
   "cell_type": "code",
   "execution_count": 58,
   "metadata": {},
   "outputs": [
    {
     "name": "stdout",
     "output_type": "stream",
     "text": [
      "164\n",
      "181\n"
     ]
    }
   ],
   "source": [
    "n1, n2=rndm.randint(111,222,2)\n",
    "\n",
    "print(n1)\n",
    "print(n2)"
   ]
  },
  {
   "cell_type": "code",
   "execution_count": 59,
   "metadata": {},
   "outputs": [
    {
     "name": "stdout",
     "output_type": "stream",
     "text": [
      "[5 5 4 8 1 3 0 1 7 8 6 0 6 1 4 3 0 0 5 6 0 1 3 0 4 7 5 2 8 4 8 6 8 6 7 2 4\n",
      " 2 0 4 8 5 2 3 6 0 4 4 4 1 1 1 4 8 1 4 2 6 6 3 5 8 0 0 7 0 6 7 1 6 3 8 6 0\n",
      " 1 2 3 7 8 5 5 7 1 3 8 3 3 8 1 8 5 3 5 4 5 3 8 3 4 8 8 7 0 3 5 8 3 4 0 3 7\n",
      " 1 7 5 5 2 3 4 0 1 6 1 3 1 8 3 0 7 7 1 1 1 8 5 3 3 1 5 2 4 6 6 4 0 2 1 7 7\n",
      " 1 4 3 2 6 1 2 6 2 3 1 1 2 7 2 6 3 7 4 5 7 8 1 6 1 3 1 5 5 4 2 0 8]\n",
      "[1 7 2 0 6 8 1 5 8 2 5 8 7 1 7 6 1 6 3 4 5 6 6 8 5 8 5 7 4 5 0 1 6 4 5 7 4\n",
      " 2 0 7 5 6 4 8 4 5 7 2 0 7 0 7 1 7 0 5 5 2 0 8 8 6 0 7 0 0 1 6 4 2 7 3 4 6\n",
      " 1 4 4 6 7 4 8 2 5 8 3 5 8 6 8 6 5 4 4 6 4 4 4 5 5 5 8 5 6 5 2 6 7 6 8 8 2\n",
      " 0 5 3 8 0 1 6 2 5 6 7 8 2 4 4 5 8 7 1 6 0 2 6 3 4 5 7 0 7 0 6 3 6 3 7 6 4\n",
      " 2 1 8 6 1 1 0 0 1 2 7 3 1 4 5 2]\n"
     ]
    }
   ],
   "source": [
    "if n1<n2:\n",
    "    n1, n2=n2, n1# dve vrednosti n1 i n2 najverovatnije da nece bit izabrane jednake\n",
    "br1=np.append(rndm.randint(1,9,1),rndm.randint(0,9,n1-1)) #veci broj\n",
    "br2=np.append(rndm.randint(1,9,1),rndm.randint(0,9,n2-1)) #manji broj\n",
    "\n",
    "print(br1)\n",
    "print(br2)"
   ]
  },
  {
   "cell_type": "markdown",
   "metadata": {},
   "source": [
    "Користећи операције NumPy за рад са полиномима и друге функције Python-a направити код за израчунавање:\n",
    "\n",
    "а)   збира ова два броја (водити рачуна о преносу)"
   ]
  },
  {
   "cell_type": "markdown",
   "metadata": {},
   "source": [
    "Приказаћемо прво секвенцијалну варијанту овог алгоритма ради поређења времена извршења са наредним кодом."
   ]
  },
  {
   "cell_type": "code",
   "execution_count": 60,
   "metadata": {},
   "outputs": [
    {
     "data": {
      "text/plain": [
       "array([ 5,  5,  4,  8,  1,  3,  0,  1,  7,  8,  6,  0,  6,  1,  4,  3,  0,\n",
       "        1, 12,  8,  0,  7, 11,  1,  9, 15,  7,  7, 16, 11,  9, 13, 14,  7,\n",
       "       13,  5,  8,  7,  6, 10, 16, 10, 10,  8, 13,  4,  9,  4,  5,  7,  5,\n",
       "        6, 11, 12,  3,  4,  9, 11, 12,  7, 13, 12,  5,  7,  9,  0, 13,  7,\n",
       "        8,  7, 10,  8, 11,  5,  3,  2, 11, 15, 14,  5, 12,  7,  1,  4, 14,\n",
       "        7,  5, 15,  4, 12, 11,  4,  9,  8, 11, 10, 12, 11,  6, 13, 16, 10,\n",
       "        5, 11, 11, 16,  9,  9,  4,  7, 13,  5, 11,  9, 10,  7,  8, 12,  5,\n",
       "        7, 11,  3,  9,  8, 14, 11,  8,  9,  7,  6,  4,  9,  8,  6,  9,  5,\n",
       "        6, 11,  9, 12,  8, 10,  8,  5, 10,  8,  8, 13,  1,  6,  9,  5, 10,\n",
       "        6,  9,  6,  9,  3,  7,  4,  8, 10,  9, 12,  7,  9,  5, 13, 13,  9,\n",
       "        2,  6,  1,  4,  3, 12,  8,  5,  6,  5, 10])"
      ]
     },
     "execution_count": 60,
     "metadata": {},
     "output_type": "execute_result"
    }
   ],
   "source": [
    "zbirs=np.polyadd(br1,br2)\n",
    "zbirs"
   ]
  },
  {
   "cell_type": "code",
   "execution_count": 61,
   "metadata": {
    "scrolled": true
   },
   "outputs": [
    {
     "name": "stdout",
     "output_type": "stream",
     "text": [
      "Vreme izracunavanja:  0.001468399990699254 sec\n",
      "[5 5 4 8 1 3 0 1 7 8 6 0 6 1 4 3 0 2 2 8 0 8 1 2 0 5 7 8 7 2 0 4 4 8 3 5 8\n",
      " 7 7 1 7 1 0 9 3 4 9 4 5 7 5 7 2 2 3 5 0 2 2 8 4 2 5 7 9 1 3 7 8 8 0 9 1 5\n",
      " 3 3 2 6 4 6 2 7 1 5 4 7 6 5 5 3 1 4 9 9 2 1 3 1 7 4 7 0 6 2 2 6 9 9 4 8 3\n",
      " 6 2 0 0 7 9 2 5 8 1 3 9 9 5 1 8 9 7 6 4 9 8 6 9 5 7 2 0 2 9 0 8 6 0 8 9 3\n",
      " 1 6 9 6 0 6 9 6 9 3 7 4 9 1 0 2 7 9 6 4 3 9 2 6 1 4 4 2 8 5 6 6 0]\n"
     ]
    }
   ],
   "source": [
    "start = timer()\n",
    "for i in range(n1-1,1,-1):\n",
    "    if zbirs[i]>9:\n",
    "        zbirs[i-1]+=zbirs[i]//10\n",
    "        zbirs[i]=zbirs[i]%10\n",
    "if zbirs[0]>9:    \n",
    "    zbirs=np.append([zbirs[0]//10,zbirs[0]%10],zbirs[1:])    \n",
    "end = timer()\n",
    "print(\"Vreme izracunavanja: \",end - start,\"sec\")    \n",
    "print(zbirs) "
   ]
  },
  {
   "cell_type": "markdown",
   "metadata": {},
   "source": [
    "Друга варијанта алгоритма користи паралелизацију израчунавања. Сви преноси се у једном кораку обављају. Поступак се понавља докле год има преноса."
   ]
  },
  {
   "cell_type": "code",
   "execution_count": 62,
   "metadata": {},
   "outputs": [
    {
     "name": "stdout",
     "output_type": "stream",
     "text": [
      "Vreme izracunavanja:  0.0008543999865651131 sec\n",
      "[5 5 4 8 1 3 0 1 7 8 6 0 6 1 4 3 0 2 2 8 0 8 1 2 0 5 7 8 7 2 0 4 4 8 3 5 8\n",
      " 7 7 1 7 1 0 9 3 4 9 4 5 7 5 7 2 2 3 5 0 2 2 8 4 2 5 7 9 1 3 7 8 8 0 9 1 5\n",
      " 3 3 2 6 4 6 2 7 1 5 4 7 6 5 5 3 1 4 9 9 2 1 3 1 7 4 7 0 6 2 2 6 9 9 4 8 3\n",
      " 6 2 0 0 7 9 2 5 8 1 3 9 9 5 1 8 9 7 6 4 9 8 6 9 5 7 2 0 2 9 0 8 6 0 8 9 3\n",
      " 1 6 9 6 0 6 9 6 9 3 7 4 9 1 0 2 7 9 6 4 3 9 2 6 1 4 4 2 8 5 6 6 0]\n"
     ]
    }
   ],
   "source": [
    "zbir=np.polyadd(br1,br2)\n",
    "#print(zbir)\n",
    "start = timer()\n",
    "q=(zbir[1:]>9)\n",
    "while np.any(q):\n",
    "    zbir[1:][q]=zbir[1:][q]%10\n",
    "    zbir[0:-1][q]+=1\n",
    "    q=(zbir[1:]>9)\n",
    "if zbir[0]>9:    \n",
    "    zbir=np.append([zbir[0]//10,zbir[0]%10],zbir[1:])\n",
    "end = timer()\n",
    "print(\"Vreme izracunavanja: \",end - start,\"sec\")    \n",
    "print(zbir)  "
   ]
  },
  {
   "cell_type": "code",
   "execution_count": 63,
   "metadata": {},
   "outputs": [
    {
     "data": {
      "text/plain": [
       "False"
      ]
     },
     "execution_count": 63,
     "metadata": {},
     "output_type": "execute_result"
    }
   ],
   "source": [
    "np.any(zbir-zbirs)"
   ]
  },
  {
   "cell_type": "markdown",
   "metadata": {},
   "source": [
    "б)   разлику ова два броја (већи-мањи)"
   ]
  },
  {
   "cell_type": "markdown",
   "metadata": {},
   "source": [
    "За израчунавање разлике можемо да искористимо паралелизацију израчунавања на исти начин као малопре."
   ]
  },
  {
   "cell_type": "code",
   "execution_count": 64,
   "metadata": {},
   "outputs": [
    {
     "name": "stdout",
     "output_type": "stream",
     "text": [
      "Vreme izracunavanja:  0.000341199993272312 sec\n",
      "[5 5 4 8 1 3 0 1 7 8 6 0 6 1 4 2 9 8 8 3 9 4 4 8 8 9 2 6 9 7 6 9 2 5 0 8 9\n",
      " 6 3 7 9 9 3 7 8 5 9 4 2 4 6 5 7 3 9 3 5 0 9 8 7 3 4 3 4 9 9 6 4 4 6 8 0 4\n",
      " 9 1 4 9 2 4 8 7 1 2 1 9 1 0 8 3 9 2 0 9 8 6 3 5 2 3 0 3 4 4 8 9 6 8 5 9 0\n",
      " 7 3 0 9 6 7 5 4 5 0 8 6 4 1 4 2 5 6 5 7 3 8 3 7 0 5 8 4 6 4 1 9 4 3 4 6 1\n",
      " 1 1 6 9 1 5 5 5 5 2 4 7 6 3 4 9 9 5 2 7 1 7 0 6 1 1 8 8 2 2 7 5 6]\n"
     ]
    }
   ],
   "source": [
    "razlika=np.polysub(br1,br2)\n",
    "#print(razlika)\n",
    "start = timer()\n",
    "q=(razlika[1:]<0)\n",
    "while np.any(q):\n",
    "    razlika[1:][q]=10+razlika[1:][q]\n",
    "    razlika[0:-1][q]-=1\n",
    "    q=(razlika[1:]<0)\n",
    "if razlika[0]==0:    \n",
    "    razlika=razlika[1:]\n",
    "end = timer()\n",
    "print(\"Vreme izracunavanja: \",end - start,\"sec\")    \n",
    "print(razlika)"
   ]
  },
  {
   "cell_type": "markdown",
   "metadata": {},
   "source": [
    "Секвенцијална варијанта овог алгоритма дата је у настваку ради поређења времена извршења."
   ]
  },
  {
   "cell_type": "code",
   "execution_count": 65,
   "metadata": {},
   "outputs": [
    {
     "name": "stdout",
     "output_type": "stream",
     "text": [
      "Vreme izracunavanja:  0.00021660000493284315 sec\n",
      "[5 5 4 8 1 3 0 1 7 8 6 0 6 1 4 2 9 8 8 3 9 4 4 8 8 9 2 6 9 7 6 9 2 5 0 8 9\n",
      " 6 3 7 9 9 3 7 8 5 9 4 2 4 6 5 7 3 9 3 5 0 9 8 7 3 4 3 4 9 9 6 4 4 6 8 0 4\n",
      " 9 1 4 9 2 4 8 7 1 2 1 9 1 0 8 3 9 2 0 9 8 6 3 5 2 3 0 3 4 4 8 9 6 8 5 9 0\n",
      " 7 3 0 9 6 7 5 4 5 0 8 6 4 1 4 2 5 6 5 7 3 8 3 7 0 5 8 4 6 4 1 9 4 3 4 6 1\n",
      " 1 1 6 9 1 5 5 5 5 2 4 7 6 3 4 9 9 5 2 7 1 7 0 6 1 1 8 8 2 2 7 5 6]\n"
     ]
    }
   ],
   "source": [
    "razlikas=np.polysub(br1,br2)\n",
    "start = timer()\n",
    "for i in range(n1-1,1,-1):\n",
    "    if razlikas[i]<0:\n",
    "        razlikas[i-1]-=1\n",
    "        razlikas[i]+=10\n",
    "if razlikas[0]==0:    \n",
    "    razlikas=razlikas[1:]    \n",
    "end = timer()\n",
    "print(\"Vreme izracunavanja: \",end - start,\"sec\")    \n",
    "print(razlikas) "
   ]
  },
  {
   "cell_type": "code",
   "execution_count": 66,
   "metadata": {},
   "outputs": [
    {
     "data": {
      "text/plain": [
       "False"
      ]
     },
     "execution_count": 66,
     "metadata": {},
     "output_type": "execute_result"
    }
   ],
   "source": [
    "np.any(razlika-razlikas)"
   ]
  },
  {
   "cell_type": "markdown",
   "metadata": {},
   "source": [
    "в)   производ ова два броја"
   ]
  },
  {
   "cell_type": "code",
   "execution_count": 67,
   "metadata": {
    "scrolled": true
   },
   "outputs": [
    {
     "name": "stdout",
     "output_type": "stream",
     "text": [
      "Vreme izracunavanja:  0.0009157000022241846 sec\n",
      "[9 5 4 6 5 6 5 4 1 6 1 2 3 6 9 0 4 9 4 4 2 8 5 0 0 2 4 9 5 1 5 9 4 0 0 5 5\n",
      " 2 7 6 5 2 0 9 6 7 7 8 6 3 0 2 6 4 9 1 9 4 2 8 9 9 3 6 3 3 0 6 8 4 3 1 2 8\n",
      " 2 9 0 3 5 1 5 3 9 2 7 9 3 9 6 7 6 4 7 2 4 9 4 7 7 9 5 5 4 2 1 3 9 7 7 0 5\n",
      " 2 6 7 6 2 7 9 5 5 3 6 1 8 8 8 9 9 5 6 2 8 2 0 4 2 7 9 3 4 0 6 1 3 1 1 7 0\n",
      " 4 6 4 9 3 7 6 8 1 9 9 3 7 7 2 5 5 6 1 0 2 4 6 8 2 7 8 1 4 7 3 9 9 4 1 3 8\n",
      " 4 4 0 0 3 7 9 6 4 6 6 7 7 0 9 5 9 3 5 6 8 3 5 7 0 2 1 1 4 3 2 7 8 0 9 6 6\n",
      " 0 2 2 3 4 4 6 2 6 7 2 4 0 5 0 7 7 6 2 4 0 3 9 8 3 5 4 8 0 0 0 7 9 6 2 7 7\n",
      " 9 7 7 9 2 0 8 1 1 8 2 4 7 3 1 0 1 4 8 3 2 5 2 9 0 6 8 2 1 4 9 1 8 1 6 2 9\n",
      " 7 6 7 0 3 2 4 0 5 9 2 9 3 4 3 7 4 6 7 9 9 3 7 8 3 9 5 2 4 8 6 7 7 7 5 4 5\n",
      " 8 8 0 8 4 5 5 0 0 1 6]\n"
     ]
    }
   ],
   "source": [
    "proizvod=np.polymul(br1,br2)\n",
    "#print(proizvod)\n",
    "#print(proizvod.shape)\n",
    "start = timer()\n",
    "q=(proizvod[1:]>9)\n",
    "while np.any(q):\n",
    "    prenos=proizvod[1:][q]//10\n",
    "    proizvod[1:][q]=proizvod[1:][q]%10\n",
    "    proizvod[0:-1][q]+=prenos\n",
    "    q=(proizvod[1:]>9)   \n",
    "while proizvod[0]>9:    \n",
    "    proizvod=np.append([proizvod[0]//10,proizvod[0]%10],proizvod[1:])\n",
    "end = timer()\n",
    "print(\"Vreme izracunavanja: \",end - start,\"sec\")     \n",
    "print(proizvod)\n",
    "#print(proizvod.shape)"
   ]
  },
  {
   "cell_type": "markdown",
   "metadata": {},
   "source": [
    "Секвенцијална варијанта овог алгоритма дата је у настваку ради поређења времена извршења."
   ]
  },
  {
   "cell_type": "code",
   "execution_count": 68,
   "metadata": {
    "scrolled": true
   },
   "outputs": [
    {
     "name": "stdout",
     "output_type": "stream",
     "text": [
      "Vreme izracunavanja:  0.000745700002880767 sec\n",
      "[9 5 4 6 5 6 5 4 1 6 1 2 3 6 9 0 4 9 4 4 2 8 5 0 0 2 4 9 5 1 5 9 4 0 0 5 5\n",
      " 2 7 6 5 2 0 9 6 7 7 8 6 3 0 2 6 4 9 1 9 4 2 8 9 9 3 6 3 3 0 6 8 4 3 1 2 8\n",
      " 2 9 0 3 5 1 5 3 9 2 7 9 3 9 6 7 6 4 7 2 4 9 4 7 7 9 5 5 4 2 1 3 9 7 7 0 5\n",
      " 2 6 7 6 2 7 9 5 5 3 6 1 8 8 8 9 9 5 6 2 8 2 0 4 2 7 9 3 4 0 6 1 3 1 1 7 0\n",
      " 4 6 4 9 3 7 6 8 1 9 9 3 7 7 2 5 5 6 1 0 2 4 6 8 2 7 8 1 4 7 3 9 9 4 1 3 8\n",
      " 4 4 0 0 3 7 9 6 4 6 6 7 7 0 9 5 9 3 5 6 8 3 5 7 0 2 1 1 4 3 2 7 8 0 9 6 6\n",
      " 0 2 2 3 4 4 6 2 6 7 2 4 0 5 0 7 7 6 2 4 0 3 9 8 3 5 4 8 0 0 0 7 9 6 2 7 7\n",
      " 9 7 7 9 2 0 8 1 1 8 2 4 7 3 1 0 1 4 8 3 2 5 2 9 0 6 8 2 1 4 9 1 8 1 6 2 9\n",
      " 7 6 7 0 3 2 4 0 5 9 2 9 3 4 3 7 4 6 7 9 9 3 7 8 3 9 5 2 4 8 6 7 7 7 5 4 5\n",
      " 8 8 0 8 4 5 5 0 0 1 6]\n"
     ]
    }
   ],
   "source": [
    "proizvods=np.polymul(br1,br2)\n",
    "starts = timer()\n",
    "n=proizvods.size\n",
    "for i in range(n-1,0,-1):\n",
    "    if proizvods[i]>9:\n",
    "        proizvods[i-1]+=proizvods[i]//10\n",
    "        proizvods[i]=proizvods[i]%10\n",
    "while proizvods[0]>9:    \n",
    "    proizvods=np.append([proizvods[0]//10,proizvods[0]%10],proizvods[1:])   \n",
    "ends = timer()\n",
    "print(\"Vreme izracunavanja: \",ends - starts,\"sec\")    \n",
    "print(proizvods) "
   ]
  },
  {
   "cell_type": "code",
   "execution_count": 69,
   "metadata": {},
   "outputs": [
    {
     "data": {
      "text/plain": [
       "False"
      ]
     },
     "execution_count": 69,
     "metadata": {},
     "output_type": "execute_result"
    }
   ],
   "source": [
    "np.any(proizvod-proizvods)"
   ]
  },
  {
   "cell_type": "markdown",
   "metadata": {},
   "source": [
    "Осим претходних основних операција, полиноми подлежу и операцијама над функцијама као што су  изводи и интеграли. \n",
    "Уграђеном функцијом `polyder` добијамо коефицијенте извода полинома. Синтакса наредбе је:\n",
    "```python\n",
    "polyder(v [,r=1])\n",
    "```\n",
    "Уколико полином $P(x)=p_0x^n+p_{1}x^{n-1}+\\dots+p_{n-1}x+p_n=\\displaystyle\\sum_{k=0}^np_kx^{n-k}$ представимо вектором његових коефицијената $P(x)\\equiv\\begin{bmatrix}p_0&p_1&\\dots&p_{n-1}&p_n\\end{bmatrix}^T,$ тада функција `polyder` враћа вектор коефицијената полинома $$P'(x)=np_0x^{n-1}+(n-1)p_{1}x^{n-2}+\\dots+p_{n-1}=\\displaystyle\\sum_{k=0}^{n-1}(n-k)p_kx^{n-k-1}\\equiv\\begin{bmatrix}np_0&(n-1)p_1&\\dots&p_{n-1}\\end{bmatrix}^T.$$\n",
    "Опционим аргументом `r` можемо да дефинишемо и ред извода већи од првог. Излаз ће бити вектор коефицијената одговарајућег изводног полинома."
   ]
  },
  {
   "cell_type": "markdown",
   "metadata": {},
   "source": [
    "Функцијом `polyint` добијамо коефицијенте примитивне функције полинома, који је наравно опет полином. Синтакса наредбе је:\n",
    "```python\n",
    "polyint(v [,r=1])\n",
    "```"
   ]
  },
  {
   "cell_type": "markdown",
   "metadata": {},
   "source": [
    "**Пример 6.** Одредићемо извод и примитивну функцију полинома $P_5(x)=3x^5-2.1x^4+1.12x^3-3.74$ из претходних примера. Приметимо да је\n",
    "\\begin{align}\n",
    "&P_5'(x)=15x^4-8.4x^3+3.36x^2,\\\\\n",
    "&\\displaystyle\\int_0^xP_5(t)dt=\\displaystyle\\int_0^x\\left(3t^5-2.1t^4+1.12t^3-3.74\\right)dt=\\dfrac{3}{6}x^6-\\dfrac{2.1}{5}x^5+\\dfrac{1.12}{4}x^4-3.74x.\n",
    "\\end{align}"
   ]
  },
  {
   "cell_type": "code",
   "execution_count": 70,
   "metadata": {},
   "outputs": [
    {
     "name": "stdout",
     "output_type": "stream",
     "text": [
      "P5(x)= [ 3.   -2.1   1.12  0.    0.   -3.74]\n"
     ]
    },
    {
     "data": {
      "text/plain": [
       "array([15.  , -8.4 ,  3.36,  0.  ,  0.  ])"
      ]
     },
     "execution_count": 70,
     "metadata": {},
     "output_type": "execute_result"
    }
   ],
   "source": [
    "print(\"P5(x)=\",P5)\n",
    "np.polyder(P5)"
   ]
  },
  {
   "cell_type": "code",
   "execution_count": 71,
   "metadata": {},
   "outputs": [
    {
     "data": {
      "text/plain": [
       "array([ 0.5 , -0.42,  0.28,  0.  ,  0.  , -3.74,  0.  ])"
      ]
     },
     "execution_count": 71,
     "metadata": {},
     "output_type": "execute_result"
    }
   ],
   "source": [
    "np.polyint(P5)"
   ]
  },
  {
   "cell_type": "markdown",
   "metadata": {},
   "source": [
    "**Пример 7.** Креираћемо Тејлоров полином степена $3$ функције $f(x)=\\dfrac{x(x^2-1)}{x + 2}$  користећи информације о функцији и њеним изводима у тачки $x=0.5.$  "
   ]
  },
  {
   "cell_type": "markdown",
   "metadata": {},
   "source": [
    "[Изводи](https://www.wolframalpha.com/input?i=Table%5BD%5B%28x%28x%5E2-1%29%29%2F%28x+%2B+2%29%5D%2C%7Bi%2C1%2C3%7D%5D%2F%2FSimplify) функције $f(x)$ до трећег реда гласе:\n",
    "\\begin{align}\n",
    "&f(x)=\\dfrac{x(x^2-1)}{x + 2}=\\dfrac{x^3-x}{x + 2},\\\\\n",
    "&f'(x)=\\dfrac{2 (x^3 +3 x^2-1)}{(x+2)^2},\\\\\n",
    "&f''(x)=\\dfrac{2 (x^3 + 6 x^2 + 12 x+2)}{(x+2)^3},\\\\\n",
    "&f'''(x)=\\dfrac{36}{(x+2)^4}\n",
    "\\end{align}"
   ]
  },
  {
   "cell_type": "code",
   "execution_count": 72,
   "metadata": {},
   "outputs": [],
   "source": [
    "c=0.5\n",
    "fc=np.polyval([1,0,-1,0],c)/(c+2)\n",
    "f1c=np.polyval([2,6,0,-2],c)/((c+2)**2)\n",
    "f2c=np.polyval([2,12,24,4],c)/((c+2)**3)\n",
    "f3c=36/((c+2)**4)\n",
    "#kreiranje koeficijenata\n",
    "T3=np.array([f3c/6,f2c/2,f1c,fc])"
   ]
  },
  {
   "cell_type": "markdown",
   "metadata": {},
   "source": [
    "За графички приказ функције $f(x)$ полинома $T_3(x)$ креирамо низ њихових вредности на вектору $x.$"
   ]
  },
  {
   "cell_type": "code",
   "execution_count": 73,
   "metadata": {},
   "outputs": [],
   "source": [
    "x=np.linspace(-1,2,100)\n",
    "fx=(x*(x**2-1))/(x+2)"
   ]
  },
  {
   "cell_type": "code",
   "execution_count": 74,
   "metadata": {
    "scrolled": true
   },
   "outputs": [
    {
     "data": {
      "image/png": "[encoded data removed]",
      "text/plain": [
       "<Figure size 640x480 with 1 Axes>"
      ]
     },
     "metadata": {},
     "output_type": "display_data"
    }
   ],
   "source": [
    "#izrachunavanje po principu Hornerove seme\n",
    "T3x=np.polyval(T3,x-c)\n",
    "plt.plot(x,fx,label=r'$f(x)$')\n",
    "plt.plot(x,T3x,label=r'$T_3(x)$')\n",
    "plt.ylim([-0.5,2])\n",
    "plt.legend();    "
   ]
  },
  {
   "cell_type": "markdown",
   "metadata": {},
   "source": [
    "**Пример 8.** Нека је дат полином $P(x)=p_0x^n+p_1x^{n-1}+\\dots+p_{n-1}x+p_n$ у стандардном облику. За израчунавање вредности $P(a)$ можемо да користимо Хорнерову шему.\n",
    "$$\\begin{array}{c|c|c|c|c|c}\n",
    "a&p_0&p_1&\\dots&p_{n-1}&p_n\\\\\\hline\n",
    "&p_0&ap_0+p_1&\\dots&\\dots+p_{n-1}&P(a)\\\\\\hline\n",
    "&q_0&q_1&\\dots&q_{n-1}&P(a)\n",
    "\\end{array}$$\n",
    "Елементи табеле Хорнерове шеме користе се и као елементи резултата дељења два полинома, $P(x):(x-a).$ \n",
    "$$P(x)=Q(x)(x-a)+r=\\big(q_0x^{n-1}+q_1x^{n-2}+\\dots+q_{n-2}x+q_{n-1}\\big)(x-a)+P(a).$$"
   ]
  },
  {
   "cell_type": "markdown",
   "metadata": {},
   "source": [
    "Овај количник може да се искористи и за израчунавање вредности првог извода $P'(a):$\n",
    "\\begin{align}\n",
    "P'(x)&=\\Big(\\big(q_0x^{n-1}+q_1x^{n-2}+\\dots+q_{n-2}x+q_{n-1}\\big)(x-a)+P(a)\\Big)'\\\\\n",
    "&=\\Big(\\big(q_0x^{n-1}+q_1x^{n-2}+\\dots+q_{n-2}x+q_{n-1}\\big)(x-a)\\Big)'+\\Big(+P(a)\\Big)'\\\\\n",
    "&=\\Big(\\big(q_0x^{n-1}+q_1x^{n-2}+\\dots+q_{n-2}x+q_{n-1}\\big)\\Big)'(x-a)+\\big(q_0x^{n-1}+q_1x^{n-2}+\\dots+q_{n-2}x+q_{n-1}\\big)\\cdot(x-a)'\\\\\n",
    "&=\\Big(\\big(q_0x^{n-1}+q_1x^{n-2}+\\dots+q_{n-2}x+q_{n-1}\\big)\\Big)'(x-a)+\\big(q_0x^{n-1}+q_1x^{n-2}+\\dots+q_{n-2}x+q_{n-1}\\big)\\\\\n",
    "\\Longrightarrow\\quad P'(a)&=\\Big(\\big(q_0x^{n-1}+q_1x^{n-2}+\\dots+q_{n-2}x+q_{n-1}\\big)\\Big)'\\Big|_{x=a}(a-a)\n",
    "+\\big(q_0a^{n-1}+q_1a^{n-2}+\\dots+q_{n-2}a+q_{n-1}\\big)\\\\\n",
    "&=q_0a^{n-1}+q_1a^{n-2}+\\dots+q_{n-2}a+q_{n-1}=Q(a).\n",
    "\\end{align}"
   ]
  },
  {
   "cell_type": "markdown",
   "metadata": {},
   "source": [
    "Због тога наставак претходне Хорнерове шеме у наредном реду даје вредност $P'(a)=Q(a).$\n",
    "$$\\begin{array}{c|c|c|c|c|c}\n",
    "a&p_0&p_1&\\dots&p_{n-2}&p_{n-1}&p_n\\\\\\hline\n",
    "&q_0&q_1&\\dots&q_{n-2}&q_{n-1}&P(a)\\\\\\hline\n",
    "&s_0&s_1&\\dots&s_{n-2}&P'(a)&\n",
    "\\end{array}$$\n",
    "Како је други извод први извод првог извода, лако закључујемо да би наредни ред Хорнерове шеме произвео вредност $\\dfrac{P''(a)}{2!},$ итд."
   ]
  },
  {
   "cell_type": "markdown",
   "metadata": {},
   "source": [
    "Заправо, из Математике 1 видели смо да вишеструком применом Хорнерове шеме добијамо израз полинома  по степенима $(x-a),$ што је заправо Тејлоров облик тог полинома."
   ]
  },
  {
   "cell_type": "markdown",
   "metadata": {},
   "source": [
    "На описани начин Хорнерова шема нам помаже у одређивању Тејлоровог облика полинома у околини тачке $x=a.$"
   ]
  },
  {
   "cell_type": "markdown",
   "metadata": {},
   "source": [
    "За полином $P(x)=1.3x^6+2.7x^4-3.23x^3+0.15x^2-4.4x+1.3$ одредићемо Хорнеровом табелом Тејлоров облик овог полинома у околини тачке $a=-2.15,$ \n",
    "$$P(x)=\\dfrac{P^{(6)}(a)}{6!}(x-a)^6+\\dfrac{P^{(5)}(a)}{5!}(x-a)^5+\\dots+\\dfrac{P'(a)}{1!}(x-a)+P(a).$$\n",
    "Хорнерова табела има облик\n",
    "$$\\begin{array}{c|c|c|c|c|c|c|c}\n",
    "a&p_{00}&p_{01}&p_{02}&p_{03}&p_{04}&p_{05}&p_{06}\\\\\\hline\n",
    "&p_{10}&p_{11}&p_{12}&p_{13}&p_{14}&p_{15}&P(a)\\\\\\hline\n",
    "&p_{20}&p_{21}&p_{22}&p_{23}&p_{24}&P'(a)& \\\\\\hline\n",
    "&p_{30}&p_{31}&p_{32}&p_{33}&\\dfrac{P''(a)}{2!}&&\\\\\\hline\n",
    "&p_{40}&p_{41}&p_{42}&\\dfrac{P^{(3)}(a)}{3!}&&&\\\\\\hline\n",
    "&p_{50}&p_{51}&\\dfrac{P^{(4)}(a)}{4!}&&&&\\\\\\hline\n",
    "&p_{50}&\\dfrac{P^{(5)}(a)}{5!}&&&&&\\\\\\hline\n",
    "&\\dfrac{P^{(6)}(a)}{6!}&&&&&&\n",
    "\\end{array}$$"
   ]
  },
  {
   "cell_type": "markdown",
   "metadata": {},
   "source": [
    "Наредним кодом формираћемо ову Хорнерову табелу. Сви подаци биће смештени у један вектор који ће на крају поступка да садржи вредности тражених извода, почевши од најстаријег. Да бисмо спровели векторизацију израчунавања применићемо израчунавања у облику троугаоног алгоритма. Улаз у алгоритам представља вектор коефицијената полинома. \n",
    "$$P=\\begin{bmatrix}p_{00}&p_{01}&p_{02}&p_{03}&p_{04}&p_{05}&p_{06}\\end{bmatrix}$$"
   ]
  },
  {
   "cell_type": "markdown",
   "metadata": {},
   "source": [
    "Кроз итерације врше се израчунавања следећих дијагоналних вредности:\n",
    "\n",
    "-  $0.$ итерација: $p_{10}=p_{00}$\n",
    "$$\\begin{bmatrix}p_{00}&p_{01}&p_{02}&p_{03}&p_{04}&p_{05}&p_{06}\\end{bmatrix}\\mapsto\\begin{bmatrix}p_{10}&p_{01}&p_{02}&p_{03}&p_{04}&p_{05}&p_{06}\\end{bmatrix}$$"
   ]
  },
  {
   "cell_type": "markdown",
   "metadata": {},
   "source": [
    "-  $1.$ итерација: $p_{11},p_{20}$\n",
    "$$ p_{11}=a*p_{10}+p_{01},\\qquad p_{20}=p_{10}$$\n",
    "$$\\begin{bmatrix}p_{10}&p_{01}&p_{02}&p_{03}&p_{04}&p_{05}&p_{06}\\end{bmatrix}\n",
    "\\mapsto\\begin{bmatrix}p_{20}&p_{11}&p_{02}&p_{03}&p_{04}&p_{05}&p_{06}\\end{bmatrix}$$"
   ]
  },
  {
   "cell_type": "markdown",
   "metadata": {},
   "source": [
    "-  $2.$ итерација: $p_{12},p_{21},p_{30}$\n",
    "$$ p_{12}=a*p_{11}+p_{02},\\qquad p_{21}=a*p_{20}+p_{11}, \\qquad p_{30}=p_{20}$$\n",
    "$$\\begin{bmatrix}p_{20}&p_{11}&p_{02}&p_{03}&p_{04}&p_{05}&p_{06}\\end{bmatrix}\n",
    "\\mapsto \\begin{bmatrix}p_{30}&p_{21}&p_{12}&p_{03}&p_{04}&p_{05}&p_{06}\\end{bmatrix}$$"
   ]
  },
  {
   "cell_type": "markdown",
   "metadata": {},
   "source": [
    "-  $3.$ итерација: $p_{13},p_{22},p_{31},p_{40}$\n",
    "$$ p_{13}=a*p_{12}+p_{03},\\qquad p_{22}=a*p_{21}+p_{12}, \\qquad p_{31}=a*p_{30}+p_{21},\\qquad p_{40}=p_{30}$$\n",
    "$$\\begin{bmatrix}p_{30}&p_{21}&p_{12}&p_{03}&p_{04}&p_{05}&p_{06}\\end{bmatrix}\n",
    "\\mapsto \\begin{bmatrix}p_{40}&p_{31}&p_{22}&p_{13}&p_{04}&p_{05}&p_{06}\\end{bmatrix}$$\n",
    "-  итд. кроз 6 итерација добијамо све коефицијенте Тејлоровог развоја.\n",
    "\n",
    "Приметимо да се вредности $p_{k0}$ не израчунавају већ само преносе."
   ]
  },
  {
   "cell_type": "code",
   "execution_count": 77,
   "metadata": {},
   "outputs": [
    {
     "name": "stdout",
     "output_type": "stream",
     "text": [
      "Vreme izracunavanja:  0.00017749999824445695 sec\n",
      "[   1.3         -16.77         92.83875    -284.84775     512.53437187\n",
      " -515.50455481  229.64928006]\n"
     ]
    }
   ],
   "source": [
    "Pol=np.array([1.3,0,2.7,-3.23,0.15,-4.4,1.3])\n",
    "n=len(Pol)\n",
    "a=-2.15\n",
    "pij=Pol.copy()\n",
    "start = timer()\n",
    "for i in range(1,n+1):\n",
    "    pij[1:i]=a*pij[:i-1]+pij[1:i]\n",
    "end = timer()\n",
    "print(\"Vreme izracunavanja: \",end - start,\"sec\")\n",
    "print(pij)"
   ]
  },
  {
   "cell_type": "markdown",
   "metadata": {},
   "source": [
    "Дати троугаони алгоритам можемо да упоредимо по времену извршења са класичним секвенцијалним приступом."
   ]
  },
  {
   "cell_type": "code",
   "execution_count": 78,
   "metadata": {},
   "outputs": [
    {
     "name": "stdout",
     "output_type": "stream",
     "text": [
      "Vreme izracunavanja:  0.00016689999029040337 sec\n",
      "[   1.3         -16.77         92.83875    -284.84775     512.53437187\n",
      " -515.50455481  229.64928006]\n"
     ]
    }
   ],
   "source": [
    "pij=Pol.copy()\n",
    "start = timer()\n",
    "for j in range(n):\n",
    "    for i in range(n-j-1):\n",
    "        pij[i+1]=pij[i+1]+a*pij[i]\n",
    "end = timer()\n",
    "print(\"Vreme izracunavanja: \",end - start,\"sec\")\n",
    "print(pij)   "
   ]
  },
  {
   "cell_type": "code",
   "execution_count": 79,
   "metadata": {},
   "outputs": [
    {
     "data": {
      "image/png": "[encoded data removed]",
      "text/plain": [
       "<Figure size 640x480 with 1 Axes>"
      ]
     },
     "metadata": {},
     "output_type": "display_data"
    }
   ],
   "source": [
    "x=np.linspace(-1,2,100)\n",
    "Px=np.polyval(Pol,x)\n",
    "TPx=np.polyval(pij,x-a)\n",
    "plt.plot(x,Px,label=r'$P(x)$')\n",
    "plt.plot(x,TPx,label=r'$T_6(x)$')\n",
    "plt.legend(); "
   ]
  },
  {
   "cell_type": "markdown",
   "metadata": {},
   "source": [
    "Осим тога, за изразе $P^{(i)}(a)$ можемо да користимо и уграђене функције за диференцирање и израчунавање вредности полинома."
   ]
  },
  {
   "cell_type": "code",
   "execution_count": 80,
   "metadata": {},
   "outputs": [],
   "source": [
    "pij=Pol.copy()\n",
    "a=-2.15"
   ]
  },
  {
   "cell_type": "code",
   "execution_count": 81,
   "metadata": {},
   "outputs": [
    {
     "name": "stdout",
     "output_type": "stream",
     "text": [
      "Vreme izracunavanja:  0.00043820000428240746 sec\n",
      "[   1.3         -16.77         92.83875    -284.84775     512.53437187\n",
      " -515.50455481  229.64928006]\n"
     ]
    }
   ],
   "source": [
    "koeficT=np.empty(n)\n",
    "start = timer()\n",
    "for i in range(n):\n",
    "    koeficT[n-i-1]=np.polyval(pij,a)/np.math.factorial(i)\n",
    "    pij=np.polyder(pij)\n",
    "end = timer()\n",
    "print(\"Vreme izracunavanja: \",end - start,\"sec\")\n",
    "print(koeficT )   "
   ]
  },
  {
   "cell_type": "markdown",
   "metadata": {},
   "source": [
    "Једнакост полинома и његовог Тејлоровог развоја можемо да проверимо сређивањем израза Тејлоровог облика полинома или цртањем графика."
   ]
  },
  {
   "cell_type": "code",
   "execution_count": 82,
   "metadata": {},
   "outputs": [
    {
     "data": {
      "image/png": "[encoded data removed]",
      "text/plain": [
       "<Figure size 640x480 with 1 Axes>"
      ]
     },
     "metadata": {},
     "output_type": "display_data"
    }
   ],
   "source": [
    "Px=np.polyval(Pol,x)\n",
    "TPx=koeficT[0]\n",
    "for i in range(1,7):\n",
    "    TPx=TPx*(x-a)+koeficT[i]\n",
    "plt.plot(x,Px,label=r'$P(x)$')\n",
    "plt.plot(x,TPx,label=r'$T_6(x)$')\n",
    "#plt.ylim([-0.2,0.4])\n",
    "plt.legend();   "
   ]
  },
  {
   "cell_type": "markdown",
   "metadata": {},
   "source": [
    "**Задатак 4.** а) Користећи `for` петљу напарвити код који рачуна вредност полинома на принципу Хорнерове шеме, са формирањем вектора свих међурезултата. Применити га за израчунавање вредности случајно генерисаног полинома $P_n(x),$ у $x=a$ где је $a$ такође случајно генерисана вредност (сами одлучите како). Генерисање полинома $P_n(x)$ подразумева случајно одређивање степена полинома $n\\in[30,70]$ и одговарајућег вектора коефицијената од $n+1$ случајно изабраних реалних бројева, било које расподеле - сами се определите.\n",
    "\n",
    "Којом уграђеном функцијом модула NumPy можете да проверите добијени резултат?"
   ]
  },
  {
   "cell_type": "code",
   "execution_count": 83,
   "metadata": {},
   "outputs": [
    {
     "name": "stdout",
     "output_type": "stream",
     "text": [
      "Vreme izracunavanja:  0.00014390000433195382 sec\n"
     ]
    },
    {
     "data": {
      "text/plain": [
       "array([0.11211642, 0.8170889 , 0.88403838, 1.15575084, 1.47340046,\n",
       "       1.14124055, 1.09592828, 0.59653409, 0.57712861, 1.06117141,\n",
       "       0.69869252, 0.98076955, 0.96150951, 1.01587732, 0.79273223,\n",
       "       0.34576349, 0.75059538, 0.91736163, 0.44025138, 0.38398353,\n",
       "       0.60186049, 1.19467242, 0.83590324, 1.1891887 , 1.11553555,\n",
       "       0.61374548, 0.77477374, 0.83644931, 1.09392837, 1.40594255,\n",
       "       0.98469128, 0.74464404, 0.32870246, 0.59845691, 0.68675619,\n",
       "       0.69896428, 0.98352488, 1.26702464, 1.15316904, 0.8151281 ,\n",
       "       0.8994018 , 0.55338083, 0.26145944, 0.19837976, 0.20117719,\n",
       "       0.49779736, 1.04734582, 0.96422855, 1.03534923, 0.62565975,\n",
       "       0.84327653, 0.95844291, 0.77086721, 0.94529365, 0.88801006,\n",
       "       0.71069426, 0.9122729 , 0.86981235, 0.93342809, 1.11051519,\n",
       "       1.28313097, 0.93510675, 1.34605774, 1.17075093, 1.00149653,\n",
       "       1.16867541, 1.43687327, 1.5563355 ])"
      ]
     },
     "execution_count": 83,
     "metadata": {},
     "output_type": "execute_result"
    }
   ],
   "source": [
    "a=rndm.rand()\n",
    "st=rndm.randint(30,70)\n",
    "#pocetak postupka Hornerove seme\n",
    "Pn=rndm.rand(st+1)\n",
    "Pna=np.copy(Pn)\n",
    "start = timer()\n",
    "for i in np.arange(st):\n",
    "    Pna[i+1]=Pna[i]*a+Pna[i+1]\n",
    "end = timer()\n",
    "print(\"Vreme izracunavanja: \",end - start,\"sec\")\n",
    "Pna  "
   ]
  },
  {
   "cell_type": "code",
   "execution_count": 84,
   "metadata": {},
   "outputs": [
    {
     "name": "stdout",
     "output_type": "stream",
     "text": [
      "Vreme izracunavanja:  0.00031460000900551677 sec\n",
      "1.5563355034298252\n"
     ]
    }
   ],
   "source": [
    "start = timer()\n",
    "vrednost=np.polyval(Pn,a)\n",
    "end = timer()\n",
    "print(\"Vreme izracunavanja: \",end - start,\"sec\")\n",
    "print(vrednost)"
   ]
  },
  {
   "cell_type": "markdown",
   "metadata": {},
   "source": [
    "Све вредности у вектору резултата можемо да проверимо операцијом дељења полинома, тј. $P(x):(x-a)$ - наредба `polydiv`."
   ]
  },
  {
   "cell_type": "code",
   "execution_count": 85,
   "metadata": {},
   "outputs": [
    {
     "name": "stdout",
     "output_type": "stream",
     "text": [
      "(array([0.11211642, 0.8170889 , 0.88403838, 1.15575084, 1.47340046,\n",
      "       1.14124055, 1.09592828, 0.59653409, 0.57712861, 1.06117141,\n",
      "       0.69869252, 0.98076955, 0.96150951, 1.01587732, 0.79273223,\n",
      "       0.34576349, 0.75059538, 0.91736163, 0.44025138, 0.38398353,\n",
      "       0.60186049, 1.19467242, 0.83590324, 1.1891887 , 1.11553555,\n",
      "       0.61374548, 0.77477374, 0.83644931, 1.09392837, 1.40594255,\n",
      "       0.98469128, 0.74464404, 0.32870246, 0.59845691, 0.68675619,\n",
      "       0.69896428, 0.98352488, 1.26702464, 1.15316904, 0.8151281 ,\n",
      "       0.8994018 , 0.55338083, 0.26145944, 0.19837976, 0.20117719,\n",
      "       0.49779736, 1.04734582, 0.96422855, 1.03534923, 0.62565975,\n",
      "       0.84327653, 0.95844291, 0.77086721, 0.94529365, 0.88801006,\n",
      "       0.71069426, 0.9122729 , 0.86981235, 0.93342809, 1.11051519,\n",
      "       1.28313097, 0.93510675, 1.34605774, 1.17075093, 1.00149653,\n",
      "       1.16867541, 1.43687327]), array([1.5563355]))\n",
      "Vreme izracunavanja:  0.0038213000079849735 sec\n"
     ]
    }
   ],
   "source": [
    "start = timer()\n",
    "rez=np.polydiv(Pn,np.array([1,-a]))\n",
    "end = timer()\n",
    "print(rez)\n",
    "print(\"Vreme izracunavanja: \",end - start,\"sec\")"
   ]
  },
  {
   "cell_type": "markdown",
   "metadata": {},
   "source": [
    "б) Применити претходни код за Хорнерову шему за израчунавање $P'(1),$ за $$P(x)=x^5-3x^4+2.1x^3+0.4x^2-3.5x+2.7.$$ Затим одредити Тејлоров облик полинома $P(x)$ у околини $x=1.$ Користити векторизацију израчунавања за смањење времена извршења поступка."
   ]
  },
  {
   "cell_type": "code",
   "execution_count": 86,
   "metadata": {},
   "outputs": [
    {
     "name": "stdout",
     "output_type": "stream",
     "text": [
      "Vreme izracunavanja:  0.0001655000087339431 sec\n",
      "[ 1.   2.   0.1 -1.3 -3.4 -0.3]\n"
     ]
    }
   ],
   "source": [
    "Pn=np.array([1,-3,2.1,0.4,-3.5,2.7])\n",
    "n=Pn.size\n",
    "a=1\n",
    "pij=Pn.copy()\n",
    "start = timer()\n",
    "for i in range(1,n+1):\n",
    "    pij[1:i]=a*pij[:i-1]+pij[1:i]\n",
    "end = timer()\n",
    "print(\"Vreme izracunavanja: \",end - start,\"sec\")\n",
    "print(np.round(pij,2))"
   ]
  },
  {
   "cell_type": "markdown",
   "metadata": {},
   "source": [
    "Резултат: \n",
    "- $P'(1)=-3.4$\n",
    "- Тејлоров полином у околини $x=1$ гласи $T_5(x)=(x-1)^5+2(x-1)^4+0.1(x-1)^3-1.3(x-1)^2-3.4(x-1)-0.3.$\n",
    "\n",
    "Провера резултата:"
   ]
  },
  {
   "cell_type": "code",
   "execution_count": 87,
   "metadata": {},
   "outputs": [
    {
     "name": "stdout",
     "output_type": "stream",
     "text": [
      "Vreme izracunavanja:  0.0004970000009052455 sec\n",
      "[ 1.   2.   0.1 -1.3 -3.4 -0.3]\n"
     ]
    }
   ],
   "source": [
    "koeficT=np.empty(n)\n",
    "pij=Pn.copy()\n",
    "start = timer()\n",
    "for i in range(n):\n",
    "    koeficT[n-i-1]=np.polyval(pij,a)/np.math.factorial(i)\n",
    "    pij=np.polyder(pij)\n",
    "end = timer()\n",
    "print(\"Vreme izracunavanja: \",end - start,\"sec\")\n",
    "print(koeficT )"
   ]
  },
  {
   "cell_type": "markdown",
   "metadata": {},
   "source": [
    "***"
   ]
  }
 ],
 "metadata": {
  "kernelspec": {
   "display_name": "Python 3 (ipykernel)",
   "language": "python",
   "name": "python3"
  },
  "language_info": {
   "codemirror_mode": {
    "name": "ipython",
    "version": 3
   },
   "file_extension": ".py",
   "mimetype": "text/x-python",
   "name": "python",
   "nbconvert_exporter": "python",
   "pygments_lexer": "ipython3",
   "version": "3.11.5"
  }
 },
 "nbformat": 4,
 "nbformat_minor": 4
}
