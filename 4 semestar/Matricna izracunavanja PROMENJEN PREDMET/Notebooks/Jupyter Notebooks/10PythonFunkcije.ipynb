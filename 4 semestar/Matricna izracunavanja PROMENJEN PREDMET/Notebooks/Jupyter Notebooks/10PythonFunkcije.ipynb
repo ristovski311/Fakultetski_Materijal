{
 "cells": [
  {
   "cell_type": "markdown",
   "metadata": {},
   "source": [
    "# Funkcije u Python-u\n",
    "\n",
    "Sa porastom kompleksnosti programskog koda koji se kreira, postaje sve važnije da se pojedini delovi koda organizuju u modularne blokove. Tome služe korisnički definisane funkcije, tj. funkcije koje samostalno definišemo i pišemo. Na taj način pojednostavljuje se pisanje koda, povećava njegova čitljivost i omogućava se ponovna upotreba nekih programskih sekvenci pod drugačijim uslovima ili u drugačijem kontekstu. Postoji mnogo načina da se definišu funkcije u Python-u. Ovde će biti predstavljen jedan od elementarnijih postupaka, i najčešći u primeni, s obzirom da će njihova dalja upotreba u okviru predmeta biti namenjena isključivo numeričkim algoritmima."
   ]
  },
  {
   "cell_type": "markdown",
   "metadata": {},
   "source": [
    "Paket NumPy sadrži veliki broj matematičkih fukcija. Lista se može naći na [lista rutina](http://docs.scipy.org/doc/numpy/reference/routines.math.html). Iako je lista poprilična, s vremena na vreme, može da se dođe u situaciju da je potrebna upotreba funkcije koja nije već dostupna u okviru NumPy ili neke druge Python biblioteke. Osim toga, algoritmi numeričke linearne algebre implementirani u okviru NumPy modula ne mogu se svrstati u najpouzdanije, kada se porede sa sličnim funkcijama programskih jezika kao što su Matlab ili Wolfram Mathematica. Zbog toga može biti od koristi poznavanje načina za kreiranje sopstvenih funkcija. Jedan od mogućih načina prikazaćemo kroz primer funkcije ${\\rm sinc}\\,x$ definisane sa\n",
    "$${\\rm sinc}\\, x ≡ \\dfrac{\\sin x}{x} .$$\n",
    "Jasno je da je gornji izraz definisan za sve vrednosti $x\\neq0.$ Zbog toga, pretpostavka je da specijalno ${\\rm sinc}\\,0=1=\\displaystyle\\lim_{x\\to0}\\dfrac{\\sin x}{x} .$\n",
    "Predstavićemo postupno način definisanja funkcije ${\\rm sinc}\\, x$ u Python-u."
   ]
  },
  {
   "cell_type": "code",
   "execution_count": 1,
   "metadata": {},
   "outputs": [],
   "source": [
    "import numpy as np"
   ]
  },
  {
   "cell_type": "code",
   "execution_count": 2,
   "metadata": {},
   "outputs": [],
   "source": [
    "def sinc(x):\n",
    "    y = np.sin(x)/x\n",
    "    return y"
   ]
  },
  {
   "cell_type": "markdown",
   "metadata": {},
   "source": [
    "Definicija svake funkcije počinje rezervisanom reči `def` za kojom sledi ime funkcije kakvo želimo da ona nosi. U ovom slučaju ime funkcije je `sinc` što nije bila prethodno rezervisana reč u Pythonu. Unutar zagrada `()` stoji lista ulaznih argumenata funkcije koja se definiše. U slučaju funkcije `sinc` to je samo jedan argument $x.$ Funkcija naravno može da bude i bez ulaznih argumenata, u tom slučaju ostavljaju se prazne zagrade. Simbol `:` označava početak tela funkcije, tj. programskog bloka koji se izvršava prilikom njenog poziva. Dužina tela funkcije određena je uvlačenjem reda. Drugim rečima, prekid uvlačenja reda prilikom upisa u kodnu ćeliju označava kraj tela funkcije. \n",
    "\n",
    "Proveru rada definisane funkcije možemo da obavimo njenim pozivanjem za neku konkretnu vrednost argumenta, kao što je urađeno u narednoj kodnoj ćeliji."
   ]
  },
  {
   "cell_type": "code",
   "execution_count": 3,
   "metadata": {},
   "outputs": [
    {
     "data": {
      "text/plain": [
       "0.32421965746813924"
      ]
     },
     "execution_count": 3,
     "metadata": {},
     "output_type": "execute_result"
    }
   ],
   "source": [
    "sinc(2.3)"
   ]
  },
  {
   "cell_type": "markdown",
   "metadata": {},
   "source": [
    "Dobijeni rezultat možemo da proverimo izračunavanjem ovog količnika na uobičajen način."
   ]
  },
  {
   "cell_type": "code",
   "execution_count": 4,
   "metadata": {},
   "outputs": [
    {
     "data": {
      "text/plain": [
       "0.32421965746813924"
      ]
     },
     "execution_count": 4,
     "metadata": {},
     "output_type": "execute_result"
    }
   ],
   "source": [
    "np.sin(2.3)/2.3"
   ]
  },
  {
   "cell_type": "markdown",
   "metadata": {},
   "source": [
    "Problem koji smo uočili sa argumentom $x=0$ produkovaće problem u prethodno definisanoj funkciji."
   ]
  },
  {
   "cell_type": "code",
   "execution_count": 5,
   "metadata": {},
   "outputs": [
    {
     "name": "stderr",
     "output_type": "stream",
     "text": [
      "<ipython-input-2-c88267f2b580>:2: RuntimeWarning: invalid value encountered in double_scalars\n",
      "  y = np.sin(x)/x\n"
     ]
    },
    {
     "data": {
      "text/plain": [
       "nan"
      ]
     },
     "execution_count": 5,
     "metadata": {},
     "output_type": "execute_result"
    }
   ],
   "source": [
    "sinc(0)"
   ]
  },
  {
   "cell_type": "markdown",
   "metadata": {},
   "source": [
    "Zbog toga vršimo promenu definicije sa obradom ovog izuzetka."
   ]
  },
  {
   "cell_type": "code",
   "execution_count": 6,
   "metadata": {},
   "outputs": [],
   "source": [
    "def sinc(x):\n",
    "    if x==0:\n",
    "        y=1\n",
    "    else:\n",
    "        y = np.sin(x)/x\n",
    "    return y"
   ]
  },
  {
   "cell_type": "code",
   "execution_count": 7,
   "metadata": {},
   "outputs": [
    {
     "data": {
      "text/plain": [
       "1"
      ]
     },
     "execution_count": 7,
     "metadata": {},
     "output_type": "execute_result"
    }
   ],
   "source": [
    "sinc(0)"
   ]
  },
  {
   "cell_type": "code",
   "execution_count": 8,
   "metadata": {},
   "outputs": [
    {
     "data": {
      "text/plain": [
       "0.36315432861843766"
      ]
     },
     "execution_count": 8,
     "metadata": {},
     "output_type": "execute_result"
    }
   ],
   "source": [
    "sinc(2.21)"
   ]
  },
  {
   "cell_type": "markdown",
   "metadata": {},
   "source": [
    "Prethodna definicija Python funkcije ${\\rm sinc}\\, x$ radi kada je argument sa kojim se poziva jedan broj.Ipak, u slučaju niza vrednosti, tj. vektorizacije izračunavanja, nailazi se na problem kao što je prikazano sledećim pozivom."
   ]
  },
  {
   "cell_type": "code",
   "execution_count": 9,
   "metadata": {},
   "outputs": [
    {
     "ename": "ValueError",
     "evalue": "The truth value of an array with more than one element is ambiguous. Use a.any() or a.all()",
     "output_type": "error",
     "traceback": [
      "\u001b[1;31m---------------------------------------------------------------------------\u001b[0m",
      "\u001b[1;31mValueError\u001b[0m                                Traceback (most recent call last)",
      "\u001b[1;32m<ipython-input-9-55e6e0d44a18>\u001b[0m in \u001b[0;36m<module>\u001b[1;34m\u001b[0m\n\u001b[0;32m      1\u001b[0m \u001b[0mx\u001b[0m \u001b[1;33m=\u001b[0m \u001b[0mnp\u001b[0m\u001b[1;33m.\u001b[0m\u001b[0marange\u001b[0m\u001b[1;33m(\u001b[0m\u001b[1;36m0\u001b[0m\u001b[1;33m,\u001b[0m \u001b[1;36m5.\u001b[0m\u001b[1;33m,\u001b[0m \u001b[1;36m0.5\u001b[0m\u001b[1;33m)\u001b[0m\u001b[1;33m\u001b[0m\u001b[1;33m\u001b[0m\u001b[0m\n\u001b[1;32m----> 2\u001b[1;33m \u001b[0msinc\u001b[0m\u001b[1;33m(\u001b[0m\u001b[0mx\u001b[0m\u001b[1;33m)\u001b[0m\u001b[1;33m\u001b[0m\u001b[1;33m\u001b[0m\u001b[0m\n\u001b[0m",
      "\u001b[1;32m<ipython-input-6-f5ef27f0478b>\u001b[0m in \u001b[0;36msinc\u001b[1;34m(x)\u001b[0m\n\u001b[0;32m      1\u001b[0m \u001b[1;32mdef\u001b[0m \u001b[0msinc\u001b[0m\u001b[1;33m(\u001b[0m\u001b[0mx\u001b[0m\u001b[1;33m)\u001b[0m\u001b[1;33m:\u001b[0m\u001b[1;33m\u001b[0m\u001b[1;33m\u001b[0m\u001b[0m\n\u001b[1;32m----> 2\u001b[1;33m     \u001b[1;32mif\u001b[0m \u001b[0mx\u001b[0m\u001b[1;33m==\u001b[0m\u001b[1;36m0\u001b[0m\u001b[1;33m:\u001b[0m\u001b[1;33m\u001b[0m\u001b[1;33m\u001b[0m\u001b[0m\n\u001b[0m\u001b[0;32m      3\u001b[0m         \u001b[0my\u001b[0m\u001b[1;33m=\u001b[0m\u001b[1;36m1\u001b[0m\u001b[1;33m\u001b[0m\u001b[1;33m\u001b[0m\u001b[0m\n\u001b[0;32m      4\u001b[0m     \u001b[1;32melse\u001b[0m\u001b[1;33m:\u001b[0m\u001b[1;33m\u001b[0m\u001b[1;33m\u001b[0m\u001b[0m\n\u001b[0;32m      5\u001b[0m         \u001b[0my\u001b[0m \u001b[1;33m=\u001b[0m \u001b[0mnp\u001b[0m\u001b[1;33m.\u001b[0m\u001b[0msin\u001b[0m\u001b[1;33m(\u001b[0m\u001b[0mx\u001b[0m\u001b[1;33m)\u001b[0m\u001b[1;33m/\u001b[0m\u001b[0mx\u001b[0m\u001b[1;33m\u001b[0m\u001b[1;33m\u001b[0m\u001b[0m\n",
      "\u001b[1;31mValueError\u001b[0m: The truth value of an array with more than one element is ambiguous. Use a.any() or a.all()"
     ]
    }
   ],
   "source": [
    "x = np.arange(0, 5., 0.5)\n",
    "sinc(x)"
   ]
  },
  {
   "cell_type": "markdown",
   "metadata": {},
   "source": [
    "Problem je nastao zbog testa jednakosti koji nije predviđen za nizove vrednosti. Problem niza vrednosti može da se reši na sledeći način. To nije jedino moguće rešenje, ali spada u prirodnu primenu NumPy mogućnosti. "
   ]
  },
  {
   "cell_type": "code",
   "execution_count": 10,
   "metadata": {},
   "outputs": [],
   "source": [
    "def sinc(x):\n",
    "    z = np.where(x == 0.0, 1.0, np.sin(x)/x)\n",
    "    return z"
   ]
  },
  {
   "cell_type": "code",
   "execution_count": 11,
   "metadata": {},
   "outputs": [
    {
     "name": "stderr",
     "output_type": "stream",
     "text": [
      "<ipython-input-10-fbd9971a030b>:2: RuntimeWarning: invalid value encountered in true_divide\n",
      "  z = np.where(x == 0.0, 1.0, np.sin(x)/x)\n"
     ]
    },
    {
     "data": {
      "text/plain": [
       "array([ 1.        ,  0.95885108,  0.84147098,  0.66499666,  0.45464871,\n",
       "        0.23938886,  0.04704   , -0.10022378, -0.18920062, -0.21722892])"
      ]
     },
     "execution_count": 11,
     "metadata": {},
     "output_type": "execute_result"
    }
   ],
   "source": [
    "sinc(x)"
   ]
  },
  {
   "cell_type": "markdown",
   "metadata": {},
   "source": [
    "Prilikom primene NumPy modula cilj je izbegavanje upotrebe `for` i `while` petlji za obradu elemenata nizova kad god je to moguće. To se naročito odnosi na petlje koje bi imale veliki broj prolaza. Jedan od ciljeva ovih radnih svezaka jeste da se na samom početku rada u Python-u naviknete na takav način razmišljanja - vektorizacija izračunavanja. Sa češćom primenom metoda za procesiranje nizova na jednostavnijim primerima bićete u mogućnosti da identifikujete slične situacije i u složenijim problemima. Na taj način se dobija na brzini izvršenja programskog koda, naročito kada se radi sa nizovima velikih dimenzija.\n",
    "Funkcije modula NumPy su namenjene upravo ovakvom pristupu u rešavanju problema."
   ]
  },
  {
   "cell_type": "markdown",
   "metadata": {},
   "source": [
    "Kreiraćemo sada funkciju sa više argumenata. Na osnovu podataka $r$-poluprečnik kružnice, $(x0,y0)-$koordinate centra kružnice i $n-$ broj tačaka, ova funkcija vraća koordinate $n$ ekvidistantnih tačaka sa kružnice koja ima unete parametre. Koordinate su smeštene u dva niza. Prvi odgovara $x$ koordinatama, a drugi odgovara $y$ koordinatama. Na taj način dobijamo podatke spremne za grafički prikaz."
   ]
  },
  {
   "cell_type": "code",
   "execution_count": 18,
   "metadata": {},
   "outputs": [],
   "source": [
    "def kruznica(r, x0, y0, n):\n",
    "    theta = np.linspace(0., 2*np.pi, n)\n",
    "    x, y = r * np.cos(theta), r * np.sin(theta)\n",
    "    return x0+x, y0+y"
   ]
  },
  {
   "cell_type": "code",
   "execution_count": 13,
   "metadata": {},
   "outputs": [],
   "source": [
    "import matplotlib as mplb\n",
    "import matplotlib.pyplot as plt"
   ]
  },
  {
   "cell_type": "code",
   "execution_count": 19,
   "metadata": {},
   "outputs": [
    {
     "data": {
      "image/png": "[encoded data removed]",
      "text/plain": [
       "<Figure size 432x288 with 1 Axes>"
      ]
     },
     "metadata": {
      "needs_background": "light"
     },
     "output_type": "display_data"
    }
   ],
   "source": [
    "xk,yk=kruznica(3,5.5,4,56)\n",
    "plt.plot(xk,yk)\n",
    "plt.axis('equal');"
   ]
  },
  {
   "cell_type": "markdown",
   "metadata": {},
   "source": [
    "Često je korisno da neki argumenti funkcije koju definišemo imaju podrazumevanu vrednost, tj. da postoje opcioni argumenti funkcije koju definišemo. To se koristi kada se definisana funkcija koristi najčešće za neku konkretnu vrednost ulaznog argumenta. Na primer, za prethodnu funkciju možemo da pretpostavimo da je dovoljno 50 tačaka za dobar grafički prikaz, kao i da je centralna jedinična kružnica nešto što se najčešće koristi.\n",
    "U tom slučaju prethodnu definiciju funkcije dopunjujemo odgovarajućim vrednostima."
   ]
  },
  {
   "cell_type": "code",
   "execution_count": 21,
   "metadata": {},
   "outputs": [],
   "source": [
    "def kruznica(r=1, x0=0, y0=0, n=50):\n",
    "    theta = np.linspace(0., 2*np.pi, n)\n",
    "    x, y = r * np.cos(theta), r * np.sin(theta)\n",
    "    return x0+x, y0+y"
   ]
  },
  {
   "cell_type": "markdown",
   "metadata": {},
   "source": [
    "Dakle, podrazumevane vrednosti se specificiraju u definiciji ulaznih argumenata. Ne moraju svi argumenti da budu opcioni. Drugim rečima, neki od znakova jednakosti u gornjoj definciji mogu da se preskoče. Na taj način definišemo argumente koje korisnik obavezno mora da navede prilikom poziva ovakve funkcije. "
   ]
  },
  {
   "cell_type": "code",
   "execution_count": 22,
   "metadata": {},
   "outputs": [
    {
     "data": {
      "image/png": "[encoded data removed]",
      "text/plain": [
       "<Figure size 432x288 with 1 Axes>"
      ]
     },
     "metadata": {
      "needs_background": "light"
     },
     "output_type": "display_data"
    }
   ],
   "source": [
    "xk,yk=kruznica()\n",
    "plt.plot(xk,yk)\n",
    "plt.axis('equal');"
   ]
  },
  {
   "cell_type": "markdown",
   "metadata": {},
   "source": [
    "Ukoliko se prilikom poziva funkcije žele da promene vrednosti samo pojedinih opcionih argumenata, to se postiže navođenjem imena argumenta (kako se zove promenljiva u definiciji funkcije) i navođenjem željene vrednosti."
   ]
  },
  {
   "cell_type": "code",
   "execution_count": 23,
   "metadata": {},
   "outputs": [
    {
     "data": {
      "image/png": "[encoded data removed]",
      "text/plain": [
       "<Figure size 432x288 with 1 Axes>"
      ]
     },
     "metadata": {
      "needs_background": "light"
     },
     "output_type": "display_data"
    }
   ],
   "source": [
    "xk,yk=kruznica(2)  # r je prvi argument pa se navedena vrednost tretira kao r\n",
    "plt.plot(xk,yk)\n",
    "plt.axis('equal');"
   ]
  },
  {
   "cell_type": "code",
   "execution_count": 24,
   "metadata": {},
   "outputs": [
    {
     "data": {
      "image/png": "[encoded data removed]",
      "text/plain": [
       "<Figure size 432x288 with 1 Axes>"
      ]
     },
     "metadata": {
      "needs_background": "light"
     },
     "output_type": "display_data"
    }
   ],
   "source": [
    "xk,yk=kruznica(x0=1)\n",
    "plt.plot(xk,yk)\n",
    "plt.axis('equal');"
   ]
  },
  {
   "cell_type": "code",
   "execution_count": 25,
   "metadata": {},
   "outputs": [
    {
     "data": {
      "image/png": "[encoded data removed]",
      "text/plain": [
       "<Figure size 432x288 with 1 Axes>"
      ]
     },
     "metadata": {
      "needs_background": "light"
     },
     "output_type": "display_data"
    }
   ],
   "source": [
    "xk,yk=kruznica(x0=2,r=2)\n",
    "plt.plot(xk,yk)\n",
    "plt.axis('equal');"
   ]
  }
 ],
 "metadata": {
  "kernelspec": {
   "display_name": "Python 3 (ipykernel)",
   "language": "python",
   "name": "python3"
  },
  "language_info": {
   "codemirror_mode": {
    "name": "ipython",
    "version": 3
   },
   "file_extension": ".py",
   "mimetype": "text/x-python",
   "name": "python",
   "nbconvert_exporter": "python",
   "pygments_lexer": "ipython3",
   "version": "3.11.5"
  }
 },
 "nbformat": 4,
 "nbformat_minor": 4
}
