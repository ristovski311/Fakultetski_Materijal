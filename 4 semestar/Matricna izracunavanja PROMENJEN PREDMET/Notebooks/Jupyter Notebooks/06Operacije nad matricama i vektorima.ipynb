{
 "cells": [
  {
   "attachments": {
    "image.png": {
     "image/png": "[encoded data removed]"
    }
   },
   "cell_type": "markdown",
   "metadata": {},
   "source": [
    "# Рад са векторима и матрицама - NumPy\n",
    "\n",
    "<div>\n",
    "   <img src=\"attachment:image.png\" width=\"200\">  \n",
    "</div>"
   ]
  },
  {
   "cell_type": "markdown",
   "metadata": {},
   "source": [
    "Садржај:\n",
    "1. [Векторски простори](#Векторски-простори)\n",
    "1. [Операције над векторима и матрицама](#Operacije-nad-vektorima-i-matricama-u-NumPy-biblioteci)\n",
    "    1. [Скалирање `*`](#Skaliranje-vektora-i-matrica)\n",
    "        1. [Напомена о листама и операцији`*`](#Napomena-o-listama-i-`+`)\n",
    "    1. [Сабирање `+`](#Sabiranje-vektora-i-matrica)\n",
    "        1. [Напомена о листама и операцији `+`](#Напомена-о-листама-и-операцији-+)\n",
    "    1. [Транспоновање`transpose` или `T`](#Transponovanje-vektora-i-matrica)\n",
    "    1. [Скаларни производ и множење матрица `dot`, `outer` и `@`](#Skalarni-proizvod-i-množenje-matrica)\n",
    "    1. [Инверзна матрица и детерминанта, `linalg.inv` и `linalg.det`](#Inverzna-matrica)\n",
    "    1. [Норме вектора `linalg.norm`](#Norme-vektora)\n",
    "    1. [Специјалне операције над NumPy низовима](#Specijalne-operacije-nad-NumPy-nizovima)\n",
    "1. [Приступ елементима низа](#Pristup-elementima-niza)    "
   ]
  },
  {
   "cell_type": "markdown",
   "metadata": {},
   "source": [
    "У овом одељку бавићемо се основним операцијама над NumPy низовима и начинима приступа појединим деловима низа. Математичке функције NumPy билиотеке попут `sin` и `sqrt` дизајниране су специјално за примену на низове нумеричких података. Због тога приликом рада са NumPy `array` типом података веома је важно уочити разлику између математичких дефиниција и имплементираних поступака који су дизајнирани са намером да се поступак кодирања минимизира."
   ]
  },
  {
   "cell_type": "markdown",
   "metadata": {},
   "source": [
    "## Векторски простори"
   ]
  },
  {
   "cell_type": "markdown",
   "metadata": {},
   "source": [
    "**Дефиниција 1.** Уређена четворка $(V,\\mathbb{K},+,\\cdot),$ представља векторски простор над пољем $\\mathbb{K}$ (vector space over field $\\mathbb{K}$) уколико су дефинисане операције са особинама: \n",
    "1. $+:V\\times V\\to V,\\quad (V,+)$ је Абелова група,\n",
    "$$\\begin{array}{ll}\n",
    "\\mbox{a)}&(\\forall v,u,w\\in V)\\ v+(u+w)=(v+u)+w,\\\\[4pt]\n",
    "\\mbox{б)}& (\\forall v,u\\in V)\\ v+u=u+v, \\\\[4pt]\n",
    "\\mbox{в)}&(\\exists\\theta\\in V)(\\forall v\\in V)\\ v+\\theta=\\theta+v=v\\\\[4pt]\n",
    "\\mbox{г)}&(\\forall v\\in V)(\\exists-v\\in V)\\ v+(-v)=(-v)+v=\\theta,\n",
    "\\end{array}$$\n",
    "\n",
    "2. $\\cdot:\\mathbb{K}\\times V\\to V,\\quad$\n",
    " $\\forall v,u\\in V$ и  $\\forall \\lambda,\\mu\\in\\mathbb{K}\\quad$ важе следеће једнакости\n",
    "$$\\begin{array}{ll}\n",
    "\\mbox{a)}&1\\cdot v=v,\\\\[4pt]\n",
    "\\mbox{б)}& \\lambda\\cdot(\\mu\\cdot v)=(\\lambda\\cdot_{\\mathbb{K}}\\mu)v, \\\\[4pt]\n",
    "\\mbox{в)}&(\\lambda+_{\\mathbb{K}}\\mu)\\cdot v=\\lambda\\cdot v+\\mu\\cdot v\\\\[4pt]\n",
    "\\mbox{г)}&\\lambda\\cdot(v+u)=\\lambda\\cdot v+\\lambda\\cdot u,\n",
    "\\end{array}$$"
   ]
  },
  {
   "cell_type": "markdown",
   "metadata": {},
   "source": [
    "***"
   ]
  },
  {
   "cell_type": "markdown",
   "metadata": {},
   "source": [
    "Вектор $\\theta$ зовемо *нула-вектор* (zero vector, null vector), и $-v$ је *супротан вектор* вектора $v$ (opposite vector). Елементе поља $\\mathbb{K}$ зовемо скаларима (scalars). Операција $+$ је сабирање вектора, а операција $\\cdot$ множење вектора скаларом. Операције сабирања и множења унутар поља $\\mathbb{K}$ су у дефиницији 1 специјално наглашене $+_{\\mathbb{K}}$ и $\\cdot_{\\mathbb{K}},$ мада их у наставку нећемо тако издвајати.  Из контекста ће се унутар математичких формула јасно видети о којој од операција  је реч, сабирања бројева или вектора, множење бројева или скалирањте вектора. "
   ]
  },
  {
   "cell_type": "markdown",
   "metadata": {},
   "source": [
    "<div class=\"alert alert-block alert-info\">\n",
    " Сваки векторски простор садржи <b> нула-вектор $\\theta.$</b> </div>"
   ]
  },
  {
   "cell_type": "markdown",
   "metadata": {},
   "source": [
    "Бавићемо се углавном векторским просторима када је $\\mathbb{K}=\\mathbb{R},$ тј. реалним векторским просторима. Мада ће повремено бити од интереса да анализирамо и комплексни случај, односно када је $\\mathbb{K}=\\mathbb{C}.$ Због тога су све дефиниције у наставку дате за реалне векторске просторе. Када комплексни буду имали неку другачију карактеристику у односу на реалан случај бавићемо се тим специфичностима."
   ]
  },
  {
   "cell_type": "markdown",
   "metadata": {},
   "source": [
    "***"
   ]
  },
  {
   "cell_type": "code",
   "execution_count": 1,
   "metadata": {},
   "outputs": [],
   "source": [
    "import numpy as np\n",
    "import numpy.linalg as npl\n",
    "import matplotlib as mplb\n",
    "import matplotlib.pyplot as plt"
   ]
  },
  {
   "cell_type": "markdown",
   "metadata": {},
   "source": [
    "## Operacije nad vektorima i matricama u NumPy biblioteci\n",
    "\n",
    "Основне операције векторског простора подржане су у раду са NumPy низовима. Услови под којима су ове операције дефинисане односе се и на услове извршења одговарајућих операција из NumPy библиотеке. Осим тога, овде указујемо на неке битне операцијске разлике између два типа података. У питању су листе и NumPy низови. Наиме, низови су доста својих особина наследили од листи, ипак имају битне операцијске различитости. "
   ]
  },
  {
   "cell_type": "markdown",
   "metadata": {},
   "source": [
    "Liste će biti nešto više predstavljene u radnoj svesci 08NaredbeToka kao jedan od mogućih delova Python `for` petlje. Naredna tabela sadrži izbor važnijih funkcija i metoda kojima su podržane operacije linearne algebre. Iscrpna lista rutina može se pregledati u [dokumentacionom centru](https://numpy.org/doc/stable/reference/routines.html).\n",
    "\n",
    "|Operacija|Simbol|\n",
    "|---|---|\n",
    "|Sabiranje|`+`|\n",
    "|Oduzimanje|`-`|\n",
    "|Skaliranje|`*`|\n",
    "|Transponovanje|`transpose()` ili `.T`|\n",
    "|Unutrašnji (skalarni) proizvod|`dot()`|\n",
    "|Kompleksni skalarni proizvod|`vdot()`|\n",
    "|Spoljašnji proizvod vektora|`outer()`|\n",
    "|Množenje matrica|`@`|\n",
    "|Determinanta|`linalg.det()`|\n",
    "|Trag matrice|`trace()`|\n",
    "|Inverzna matrica|`linalg.inv()`|\n",
    "|Rešenje matrične jednačine $AX=B$|`linalg.solve(A,B)`|\n",
    "|Norma vektora|`linalg.norm()`|\n",
    "\n",
    "U nastavku kroz primere prikazaćemo kako funkcionišu navedene funkcije. Osim toga, postoje i zgodne skraćenice za neke specijalne slučajeve ovih operacija."
   ]
  },
  {
   "cell_type": "markdown",
   "metadata": {},
   "source": [
    "### Skaliranje vektora i matrica"
   ]
  },
  {
   "cell_type": "markdown",
   "metadata": {},
   "source": [
    "Матрице осим што представљају табеле података или правоугаоне шеме бројева\n",
    "$$ A=[a_{ij}]_{m\\times n}=\\begin{bmatrix} a_{00}&a_{01}&\\dots&a_{0\\,n-1}\\\\\n",
    "a_{10}&a_{11}&\\dots&a_{1\\,n-1}\\\\ \\vdots&\\vdots & &\\vdots \\\\ \n",
    "a_{m-1\\,0}&a_{m-1\\,1}&\\dots&a_{m-1\\,n-1}\\end{bmatrix},\n",
    "$$\n",
    "могу се третирати и као елементи векторског простора димензије $m\\cdot n.$ \n",
    "Операције које скуп $\\mathcal{M}_{m\\times n},$ матрица реда $m\\times n,$ чине векторским простором су множење скаларом и сабирање две матрице. "
   ]
  },
  {
   "cell_type": "markdown",
   "metadata": {},
   "source": [
    "\\begin{align} &\\lambda\\cdot\\begin{bmatrix} a_{0}\\\\a_{1}\\\\\\vdots \\\\ a_{m}\\end{bmatrix}\n",
    "=\\begin{bmatrix} \\lambda a_{0}\\\\\\lambda a_{1}\\\\\\vdots\\\\\\lambda a_{m}\\end{bmatrix},\n",
    "&& \\lambda\\cdot\\begin{bmatrix} a_{00}&a_{01}&\\dots&a_{0n}\\\\\n",
    "a_{10}&a_{11}&\\dots&a_{1n}\\\\\\vdots&\\vdots&&\\vdots \\\\ \n",
    "a_{m0}&a_{m1}&\\dots&a_{mn}\\end{bmatrix}\n",
    "=\\begin{bmatrix} \\lambda a_{00}&\\lambda a_{01}&\\dots&\\lambda a_{0n}\\\\\n",
    "\\lambda a_{10}&\\lambda a_{11}&\\dots&\\lambda a_{1n}\\\\\\vdots&\\vdots&&\\vdots \\\\ \n",
    "\\lambda a_{m0}&\\lambda a_{m1}&\\dots&\\lambda a_{mn}\\end{bmatrix}\n",
    "\\end{align}"
   ]
  },
  {
   "cell_type": "markdown",
   "metadata": {},
   "source": [
    "Множење свих елемената NumPy низа једним бројем, реалним или комплексним, врши се симболом `*`. То важи како за једнодимензионалне NumPy низове, тако и за оне са више димензија."
   ]
  },
  {
   "cell_type": "markdown",
   "metadata": {},
   "source": [
    "**Пример 1.** Применићемо скалирање на једнодимензионални и дводимензионални NumPy низ са малим бројем компоненти како би лакше приметили дејство оператора `*`."
   ]
  },
  {
   "cell_type": "code",
   "execution_count": 2,
   "metadata": {},
   "outputs": [
    {
     "data": {
      "text/plain": [
       "array([ 2,  0,  2, -2])"
      ]
     },
     "execution_count": 2,
     "metadata": {},
     "output_type": "execute_result"
    }
   ],
   "source": [
    "u=np.array([1,0,1,-1])\n",
    "2*u"
   ]
  },
  {
   "cell_type": "code",
   "execution_count": 3,
   "metadata": {},
   "outputs": [
    {
     "data": {
      "text/plain": [
       "array([ 1.+1.j,  0.+0.j,  1.+1.j, -1.-1.j])"
      ]
     },
     "execution_count": 3,
     "metadata": {},
     "output_type": "execute_result"
    }
   ],
   "source": [
    "(1+1j)*u"
   ]
  },
  {
   "cell_type": "code",
   "execution_count": 4,
   "metadata": {},
   "outputs": [
    {
     "name": "stdout",
     "output_type": "stream",
     "text": [
      "[[1 2 3]\n",
      " [4 5 6]]\n"
     ]
    },
    {
     "data": {
      "text/plain": [
       "array([[ -2.3,  -4.6,  -6.9],\n",
       "       [ -9.2, -11.5, -13.8]])"
      ]
     },
     "execution_count": 4,
     "metadata": {},
     "output_type": "execute_result"
    }
   ],
   "source": [
    "matrica=(np.arange(1,7)).reshape(2,3)\n",
    "print(matrica)\n",
    "-2.3*matrica"
   ]
  },
  {
   "cell_type": "code",
   "execution_count": 5,
   "metadata": {},
   "outputs": [
    {
     "data": {
      "text/plain": [
       "array([[0.33333333, 0.66666667, 1.        ],\n",
       "       [1.33333333, 1.66666667, 2.        ]])"
      ]
     },
     "execution_count": 5,
     "metadata": {},
     "output_type": "execute_result"
    }
   ],
   "source": [
    "matrica/3"
   ]
  },
  {
   "cell_type": "markdown",
   "metadata": {},
   "source": [
    "Када користимо основне аритметичке операције над NumPy низовима, треба водити рачуна о типу података унутар њих. Уколико су елемeнти низа цели бројеви повремено може да се догоди да израчунавања над тим низовима буду преведена у целобројне операције. Због тога, у нумеричкој обради података боље је користити `float` тип. То можемо да постигнемо додатном дефиницијом типа, или додавањем децималне тачке вредности бар једног елемента низа."
   ]
  },
  {
   "cell_type": "code",
   "execution_count": 6,
   "metadata": {},
   "outputs": [
    {
     "data": {
      "text/plain": [
       "(dtype('int32'), dtype('float64'), dtype('float16'))"
      ]
     },
     "execution_count": 6,
     "metadata": {},
     "output_type": "execute_result"
    }
   ],
   "source": [
    "u.dtype, (-3.*u).dtype , (np.array([1,0],dtype=np.float16)).dtype"
   ]
  },
  {
   "cell_type": "code",
   "execution_count": 7,
   "metadata": {},
   "outputs": [
    {
     "data": {
      "text/plain": [
       "(dtype('int32'), dtype('float64'))"
      ]
     },
     "execution_count": 7,
     "metadata": {},
     "output_type": "execute_result"
    }
   ],
   "source": [
    "(np.array([1,0])).dtype , (np.array([1,0.])).dtype"
   ]
  },
  {
   "cell_type": "markdown",
   "metadata": {},
   "source": [
    "***"
   ]
  },
  {
   "cell_type": "markdown",
   "metadata": {},
   "source": [
    "#### Napomena o listama  i  `*`\n",
    "\n",
    "Interesantno je uporediti dejstvo operacije, tj. simbola `*` kada je argument lista."
   ]
  },
  {
   "cell_type": "markdown",
   "metadata": {},
   "source": [
    "**Пример 2.** Кроз неколико кодних ћелија уочићемо дејство оператора `*` на листе."
   ]
  },
  {
   "cell_type": "code",
   "execution_count": 8,
   "metadata": {},
   "outputs": [
    {
     "data": {
      "text/plain": [
       "[1, 2, 1, 2, 1, 2, 1, 2]"
      ]
     },
     "execution_count": 8,
     "metadata": {},
     "output_type": "execute_result"
    }
   ],
   "source": [
    "4*[1,2]"
   ]
  },
  {
   "cell_type": "code",
   "execution_count": 9,
   "metadata": {},
   "outputs": [
    {
     "data": {
      "text/plain": [
       "[1, 2, 1, 2, 1, 2, 1, 2]"
      ]
     },
     "execution_count": 9,
     "metadata": {},
     "output_type": "execute_result"
    }
   ],
   "source": [
    "[1,2]*4"
   ]
  },
  {
   "cell_type": "code",
   "execution_count": 10,
   "metadata": {},
   "outputs": [
    {
     "data": {
      "text/plain": [
       "[[1], [1], [1]]"
      ]
     },
     "execution_count": 10,
     "metadata": {},
     "output_type": "execute_result"
    }
   ],
   "source": [
    "3*[[1]]"
   ]
  },
  {
   "cell_type": "code",
   "execution_count": 11,
   "metadata": {},
   "outputs": [
    {
     "data": {
      "text/plain": [
       "[[1, 0], [2, -1], [1, 0], [2, -1], [1, 0], [2, -1], [1, 0], [2, -1]]"
      ]
     },
     "execution_count": 11,
     "metadata": {},
     "output_type": "execute_result"
    }
   ],
   "source": [
    "4*[[1,0],[2,-1]]"
   ]
  },
  {
   "cell_type": "markdown",
   "metadata": {},
   "source": [
    "<div class=\"alert alert-block alert-info\">\n",
    "<b>Napomena:</b> Rezultat \"množenja\" liste je višestruko nadovezivanje (konkatenacija) elemenata te liste. </div>"
   ]
  },
  {
   "cell_type": "markdown",
   "metadata": {},
   "source": [
    "To se može iskoristiti za automatizovano kreiranje vektora i matrica."
   ]
  },
  {
   "cell_type": "code",
   "execution_count": 12,
   "metadata": {},
   "outputs": [
    {
     "data": {
      "text/plain": [
       "array([[1, 1, 1, 1],\n",
       "       [2, 2, 2, 2]])"
      ]
     },
     "execution_count": 12,
     "metadata": {},
     "output_type": "execute_result"
    }
   ],
   "source": [
    "primer=np.array([4*[1],4*[2]])\n",
    "primer"
   ]
  },
  {
   "cell_type": "markdown",
   "metadata": {},
   "source": [
    "***"
   ]
  },
  {
   "cell_type": "markdown",
   "metadata": {},
   "source": [
    "### Sabiranje vektora i matrica\n",
    "\n",
    "Сабирање вектора и матрица одвија се члан-по-члан.\n",
    "\\begin{align} \\begin{bmatrix} a_{0}\\\\a_{1}\\\\\\vdots \\\\ a_{m}\\end{bmatrix}\n",
    "+\\begin{bmatrix} b_{0}\\\\b_{1}\\\\\\vdots \\\\ b_{m}\\end{bmatrix}\n",
    "&=\\begin{bmatrix} a_{0}+b_{0}\\\\a_{1}+b_{1}\\\\\\vdots \\\\ a_{m}+b_{m}\\end{bmatrix},\n",
    "\\\\\n",
    "\\begin{bmatrix} a_{00}&a_{01}&\\dots&a_{0n}\\\\\n",
    "a_{10}&a_{11}&\\dots&a_{1n}\\\\\\vdots&\\vdots&&\\vdots \\\\ \n",
    "a_{m0}&a_{m1}&\\dots&a_{mn}\\end{bmatrix}\n",
    "+\\begin{bmatrix} b_{00}&b_{01}&\\dots&b_{0n}\\\\\n",
    "b_{10}&b_{11}&\\dots&b_{1n}\\\\\\vdots&\\vdots&&\\vdots \\\\ \n",
    "b_{m0}&b_{m1}&\\dots&b_{mn}\\end{bmatrix}\n",
    "&=\\begin{bmatrix} a_{00}+b_{00}&a_{01}+b_{01}&\\dots&a_{0n}+b_{0n}\\\\\n",
    "a_{10}+b_{10}&a_{11}+b_{11}&\\dots&a_{1n}+b_{1n}\\\\\\vdots&\\vdots&&\\vdots \\\\ \n",
    "a_{m0}+b_{m0}&a_{m1}+b_{m1}&\\dots&a_{mn}+b_{mn}\\end{bmatrix}\n",
    "\\end{align}\n",
    "\n",
    "Сабирање елемената (члан-по-члан) два NumPy низа извршава се операцијом `+`. "
   ]
  },
  {
   "cell_type": "markdown",
   "metadata": {},
   "source": [
    "**Линеарна комбинација** (linear combination) вектора добија се коначном применом основних операција над њима $$\\lambda_0 v_0+\\lambda_1 v_1+\\dots+\\lambda_k v_k,\\qquad\\lambda_i\\in\\mathbb{R}.$$\n",
    "Линеарне комбинације можемо да спроводимо над NumPy низовима било оје димензионалности. У контексту ове радне свеске, линеарне комбинације се рачунају над векторима или над матрицама."
   ]
  },
  {
   "cell_type": "markdown",
   "metadata": {},
   "source": [
    "**Пример 3.** Проверићемо дејство оператора `+` кроз линеарне комбинације конкретних NumPy низова."
   ]
  },
  {
   "cell_type": "code",
   "execution_count": 13,
   "metadata": {},
   "outputs": [
    {
     "name": "stdout",
     "output_type": "stream",
     "text": [
      "[ 1  0  1 -1]\n"
     ]
    },
    {
     "data": {
      "text/plain": [
       "array([ 3, -1,  3,  0])"
      ]
     },
     "execution_count": 13,
     "metadata": {},
     "output_type": "execute_result"
    }
   ],
   "source": [
    "print(u)\n",
    "v=np.array([2,-1,2,1])\n",
    "u+v                       #sabiranje vektora"
   ]
  },
  {
   "cell_type": "code",
   "execution_count": 14,
   "metadata": {},
   "outputs": [
    {
     "data": {
      "text/plain": [
       "array([-1,  1, -1, -2])"
      ]
     },
     "execution_count": 14,
     "metadata": {},
     "output_type": "execute_result"
    }
   ],
   "source": [
    "u-v                       #oduzimanje vektora"
   ]
  },
  {
   "cell_type": "code",
   "execution_count": 15,
   "metadata": {},
   "outputs": [
    {
     "data": {
      "text/plain": [
       "array([ 4.8+1.j, -2.4+0.j,  4.8+1.j,  2.4-1.j])"
      ]
     },
     "execution_count": 15,
     "metadata": {},
     "output_type": "execute_result"
    }
   ],
   "source": [
    "1j*u+2.4*v             #linearna kombinacija vektora"
   ]
  },
  {
   "cell_type": "code",
   "execution_count": 16,
   "metadata": {},
   "outputs": [
    {
     "data": {
      "text/plain": [
       "array([[-4. , -2. ,  0. ],\n",
       "       [ 2. ,  4.3, -9. ]])"
      ]
     },
     "execution_count": 16,
     "metadata": {},
     "output_type": "execute_result"
    }
   ],
   "source": [
    "matrica2=np.array([[-1,0,1],[2,3.1,-1]])\n",
    "-matrica+3*matrica2      #linearna kombinacija matrica"
   ]
  },
  {
   "cell_type": "markdown",
   "metadata": {},
   "source": [
    "***"
   ]
  },
  {
   "cell_type": "markdown",
   "metadata": {},
   "source": [
    "#### Napomena o listama i  `+`\n",
    "\n",
    "Као што `*` делује различито на низове и листе, слична разлика постоји и за операцију `+`. Операција `+` над листама врши њихову конкатенацију. Јасно је да `+` тада није комутативна операција."
   ]
  },
  {
   "cell_type": "markdown",
   "metadata": {},
   "source": [
    "**Пример 4.** Кроз примере потврдићемо дејство `+` над листама."
   ]
  },
  {
   "cell_type": "code",
   "execution_count": 17,
   "metadata": {},
   "outputs": [
    {
     "data": {
      "text/plain": [
       "[1, 0, 1, -1, 2, -1, 2, 1]"
      ]
     },
     "execution_count": 17,
     "metadata": {},
     "output_type": "execute_result"
    }
   ],
   "source": [
    "[1,0,1,-1]+[2,-1,2,1]     #nadovezivanje listi"
   ]
  },
  {
   "cell_type": "code",
   "execution_count": 18,
   "metadata": {},
   "outputs": [
    {
     "data": {
      "text/plain": [
       "[2, -1, 2, 1, 1, 0, 1, -1]"
      ]
     },
     "execution_count": 18,
     "metadata": {},
     "output_type": "execute_result"
    }
   ],
   "source": [
    "[2,-1,2,1]+[1,0,1,-1]     #nadovezivanje listi nije komutativno"
   ]
  },
  {
   "cell_type": "code",
   "execution_count": 19,
   "metadata": {},
   "outputs": [
    {
     "data": {
      "text/plain": [
       "[1, 0, 1, -1, 2, -1, 2, 1, 3, 4]"
      ]
     },
     "execution_count": 19,
     "metadata": {},
     "output_type": "execute_result"
    }
   ],
   "source": [
    "[1,0,1,-1]+[2,-1,2,1,3,4]     #nadovezivanje listi razlicitih duzina"
   ]
  },
  {
   "cell_type": "code",
   "execution_count": 20,
   "metadata": {},
   "outputs": [
    {
     "data": {
      "text/plain": [
       "[1, 1, 1, 1, 2, 2, 2, 2]"
      ]
     },
     "execution_count": 20,
     "metadata": {},
     "output_type": "execute_result"
    }
   ],
   "source": [
    "4*[1]+4*[2]    #kombinovanje operacija + i * za formiranje listi"
   ]
  },
  {
   "cell_type": "code",
   "execution_count": 21,
   "metadata": {},
   "outputs": [
    {
     "data": {
      "text/plain": [
       "[1, 1, -1, -1, 1, 1, -1, -1]"
      ]
     },
     "execution_count": 21,
     "metadata": {},
     "output_type": "execute_result"
    }
   ],
   "source": [
    "2*(2*[1]+2*[-1])"
   ]
  },
  {
   "cell_type": "code",
   "execution_count": 22,
   "metadata": {},
   "outputs": [
    {
     "data": {
      "text/plain": [
       "[[1, 1, -1, -1], [1, 1, -1, -1]]"
      ]
     },
     "execution_count": 22,
     "metadata": {},
     "output_type": "execute_result"
    }
   ],
   "source": [
    "2*[2*[1]+2*[-1]]"
   ]
  },
  {
   "cell_type": "code",
   "execution_count": 23,
   "metadata": {},
   "outputs": [
    {
     "data": {
      "text/plain": [
       "[1, 1, 1, 1, 2, 2, 2, 0, 0]"
      ]
     },
     "execution_count": 23,
     "metadata": {},
     "output_type": "execute_result"
    }
   ],
   "source": [
    "4*[1]+3*[2]+2*[0]"
   ]
  },
  {
   "cell_type": "markdown",
   "metadata": {},
   "source": [
    "Комбиновањем операција над листама или низовима можемо да спроведемо аутоматизацију у креирању садржаја низова."
   ]
  },
  {
   "cell_type": "code",
   "execution_count": 24,
   "metadata": {},
   "outputs": [
    {
     "data": {
      "text/plain": [
       "array([[1, 1, 1, 1, 1, 1, 1, 1],\n",
       "       [1, 0, 0, 0, 0, 0, 0, 1],\n",
       "       [1, 0, 0, 0, 0, 0, 0, 1],\n",
       "       [1, 0, 0, 0, 0, 0, 0, 1],\n",
       "       [1, 0, 0, 0, 0, 0, 0, 1],\n",
       "       [1, 0, 0, 0, 0, 0, 0, 1],\n",
       "       [1, 0, 0, 0, 0, 0, 0, 1],\n",
       "       [1, 1, 1, 1, 1, 1, 1, 1]])"
      ]
     },
     "execution_count": 24,
     "metadata": {},
     "output_type": "execute_result"
    }
   ],
   "source": [
    "lista=[8*[1]]+6*[[1]+6*[0]+[1]]+[8*[1]]\n",
    "A=np.array(lista)\n",
    "A"
   ]
  },
  {
   "cell_type": "code",
   "execution_count": 25,
   "metadata": {},
   "outputs": [
    {
     "data": {
      "text/plain": [
       "array([[0, 1, 0, 1, 0, 1, 0, 1],\n",
       "       [1, 0, 1, 0, 1, 0, 1, 0],\n",
       "       [0, 1, 0, 1, 0, 1, 0, 1],\n",
       "       [1, 0, 1, 0, 1, 0, 1, 0],\n",
       "       [0, 1, 0, 1, 0, 1, 0, 1],\n",
       "       [1, 0, 1, 0, 1, 0, 1, 0],\n",
       "       [0, 1, 0, 1, 0, 1, 0, 1],\n",
       "       [1, 0, 1, 0, 1, 0, 1, 0]])"
      ]
     },
     "execution_count": 25,
     "metadata": {},
     "output_type": "execute_result"
    }
   ],
   "source": [
    "lista1=[4*[0,1]]\n",
    "lista2=[4*[1,0]]\n",
    "B=np.array(4*(lista1+lista2))\n",
    "B"
   ]
  },
  {
   "cell_type": "markdown",
   "metadata": {},
   "source": [
    "***"
   ]
  },
  {
   "cell_type": "markdown",
   "metadata": {},
   "source": [
    "<div class=\"alert alert-block alert-info\">\n",
    "<b>Zaključak:</b> Za sabiranje vektora ili matrica, tj. NumPy nizova neophodno je da oni budu istih dimenzija. Konkatenacija listi vrši se nad listama proizvoljnih dužina. </div>"
   ]
  },
  {
   "cell_type": "markdown",
   "metadata": {},
   "source": [
    "***"
   ]
  },
  {
   "cell_type": "markdown",
   "metadata": {},
   "source": [
    "### Transponovanje vektora i matrica\n",
    "\n",
    "Funkcija `transpose()` i atribut `.T` imaju efekta samo nad matricama, tj. višedimenzionalnim nizovima. Ukoliko se transponovanje primeni na jednodimenzionalni NumPy niz neće proizvesti nikakav efekat."
   ]
  },
  {
   "cell_type": "markdown",
   "metadata": {},
   "source": [
    "**Пример 5.** Кроз примере упознајемо дејство функције `transpose()` и атрибута `.T`."
   ]
  },
  {
   "cell_type": "code",
   "execution_count": 26,
   "metadata": {},
   "outputs": [
    {
     "name": "stdout",
     "output_type": "stream",
     "text": [
      "[ 2 -1  2  1]\n",
      "(4,)\n"
     ]
    },
    {
     "data": {
      "text/plain": [
       "array([ 2, -1,  2,  1])"
      ]
     },
     "execution_count": 26,
     "metadata": {},
     "output_type": "execute_result"
    }
   ],
   "source": [
    "print(v)\n",
    "print(v.shape)     #v je jednodimenzionalni niz \n",
    "np.transpose(v)                   "
   ]
  },
  {
   "cell_type": "code",
   "execution_count": 27,
   "metadata": {},
   "outputs": [
    {
     "name": "stdout",
     "output_type": "stream",
     "text": [
      "[ 2 -1  2  1]\n",
      "(4,)\n"
     ]
    }
   ],
   "source": [
    "print(v.T)\n",
    "print((v.T).shape)"
   ]
  },
  {
   "cell_type": "code",
   "execution_count": 28,
   "metadata": {},
   "outputs": [
    {
     "data": {
      "text/plain": [
       "array([[ 2],\n",
       "       [-1],\n",
       "       [ 2],\n",
       "       [ 1]])"
      ]
     },
     "execution_count": 28,
     "metadata": {},
     "output_type": "execute_result"
    }
   ],
   "source": [
    "np.transpose([v])                 #[v] je dvodimenzionalni niz 1x4 pod dejstvom naredbe transpose"
   ]
  },
  {
   "cell_type": "code",
   "execution_count": 29,
   "metadata": {},
   "outputs": [
    {
     "data": {
      "text/plain": [
       "array([[ 2],\n",
       "       [-1],\n",
       "       [ 2],\n",
       "       [ 1]])"
      ]
     },
     "execution_count": 29,
     "metadata": {},
     "output_type": "execute_result"
    }
   ],
   "source": [
    "(v.reshape(1,4)).T"
   ]
  },
  {
   "cell_type": "code",
   "execution_count": 30,
   "metadata": {},
   "outputs": [
    {
     "data": {
      "text/plain": [
       "array([[1.+1.j, 2.+0.j, 3.+0.j, 3.-2.j]])"
      ]
     },
     "execution_count": 30,
     "metadata": {},
     "output_type": "execute_result"
    }
   ],
   "source": [
    "kolona=np.array([[1+1j],[2],[3],[3-2j]])\n",
    "np.transpose(kolona)"
   ]
  },
  {
   "cell_type": "code",
   "execution_count": 31,
   "metadata": {},
   "outputs": [
    {
     "name": "stdout",
     "output_type": "stream",
     "text": [
      "[[1.+1.j]\n",
      " [2.+0.j]\n",
      " [3.+0.j]\n",
      " [3.-2.j]]\n"
     ]
    },
    {
     "data": {
      "text/plain": [
       "array([[1.-1.j, 2.-0.j, 3.-0.j, 3.+2.j]])"
      ]
     },
     "execution_count": 31,
     "metadata": {},
     "output_type": "execute_result"
    }
   ],
   "source": [
    "print(kolona)\n",
    "(kolona.conj()).T   #konjugovano transponovanje"
   ]
  },
  {
   "cell_type": "code",
   "execution_count": 32,
   "metadata": {},
   "outputs": [
    {
     "name": "stdout",
     "output_type": "stream",
     "text": [
      "[[1 2 3]\n",
      " [3 4 5]]\n"
     ]
    },
    {
     "data": {
      "text/plain": [
       "array([[1, 3],\n",
       "       [2, 4],\n",
       "       [3, 5]])"
      ]
     },
     "execution_count": 32,
     "metadata": {},
     "output_type": "execute_result"
    }
   ],
   "source": [
    "A = np.array([[1,2,3],[3,4,5]]) \n",
    "print(A)\n",
    "np.transpose(A)"
   ]
  },
  {
   "cell_type": "code",
   "execution_count": 33,
   "metadata": {},
   "outputs": [
    {
     "data": {
      "text/plain": [
       "array([[1, 3],\n",
       "       [2, 4],\n",
       "       [3, 5]])"
      ]
     },
     "execution_count": 33,
     "metadata": {},
     "output_type": "execute_result"
    }
   ],
   "source": [
    "A.T"
   ]
  },
  {
   "cell_type": "markdown",
   "metadata": {},
   "source": [
    "***"
   ]
  },
  {
   "cell_type": "markdown",
   "metadata": {},
   "source": [
    "### Skalarni proizvod i množenje matrica\n",
    "\n",
    "Skalarni proizvod i množenje matrica su u tesnoj vezi. Standardni skalarni proizvod dva vektora može da se predstavi kao matrični proizvod vektora-vrste i vektora-kolone istih dužina. Izdvajamo najvažnije oblike operacije množenja matrica:\n",
    "1.  unutrašnji (skalarni) proizvod vektora  $\\qquad\\mathbf{a}^T\\mathbf{b}=\\begin{bmatrix}a_0&a_1&\\dots&a_{n}\\end{bmatrix}\\begin{bmatrix}b_0\\\\b_1\\\\\\vdots\\\\b_{n}\\end{bmatrix}=\\displaystyle\\sum_{k=0}^{n}a_kb_k,$\n",
    "<p>&nbsp;</p>\n",
    "1.  spoljašnji (tenzorski) proizvod vektora  $\\qquad\\mathbf{a}\\mathbf{b}^T=\\begin{bmatrix}a_0\\\\a_1\\\\\\vdots\\\\a_{m}\\end{bmatrix}\\begin{bmatrix}b_0&b_1&\\dots&b_n\\end{bmatrix}=\n",
    "\\begin{bmatrix}a_0b_0&a_0b_1&\\dots&a_0b_n\\\\a_1b_0&a_1b_1&\\dots&a_1b_n\\\\\\vdots&\\vdots&&\\vdots\\\\a_mb_0&a_mb_1&\\dots&a_mb_n\\end{bmatrix},$ \n",
    "<p>&nbsp;</p>\n",
    "1. proizvod matrice i vektora $\\qquad A\\mathbf{b}=\\begin{bmatrix}a_{00}&a_{01}&\\dots&a_{0n}\\\\a_{10}&a_{11}&\\dots&a_{1n}\\\\\n",
    "\\vdots&\\vdots&&\\vdots\\\\a_{m0}&a_{m1}&\\dots&a_{mn}\\end{bmatrix}\\begin{bmatrix}b_0\\\\b_1\\\\\\vdots\\\\b_n\\end{bmatrix}\n",
    "=b_0\\begin{bmatrix}a_{00}\\\\a_{10}\\\\\\vdots\\\\a_{m0}\\end{bmatrix}+b_1\\begin{bmatrix}a_{01}\\\\a_{11}\\\\\\vdots\\\\a_{m1}\\end{bmatrix}\n",
    "+\\dots+b_n\\begin{bmatrix}a_{0n}\\\\a_{1n}\\\\\\vdots\\\\a_{mn}\\end{bmatrix}$\n",
    "<p>&nbsp;</p>\n",
    "$$=\n",
    "\\begin{bmatrix}b_0a_{00}+b_1a_{01}+\\dots+b_na_{0n}\\\\b_0a_{10}+b_1a_{11}+\\dots+b_na_{1n}\\\\\n",
    "\\vdots\\\\b_0a_{m0}+b_1a_{m1}+\\dots+b_na_{mn}\\end{bmatrix},$$\n",
    "<p>&nbsp;</p>\n",
    "1.  množenje dve matrice  $\\qquad AB=\\begin{bmatrix}a_{00}&a_{01}&\\dots&a_{0n}\\\\a_{10}&a_{11}&\\dots&a_{1n}\\\\\n",
    "\\vdots&\\vdots&&\\vdots\\\\a_{m0}&a_{m1}&\\dots&a_{mn}\\end{bmatrix}\n",
    "\\begin{bmatrix}b_{00}&b_{01}&\\dots&b_{0p}\\\\b_{10}&b_{11}&\\dots&b_{1p}\\\\\n",
    "\\vdots&\\vdots&&\\vdots\\\\b_{n0}&b_{n1}&\\dots&b_{np}\\end{bmatrix}\n",
    "=\\begin{bmatrix}c_{00}&c_{01}&\\dots&c_{0p}\\\\c_{10}&c_{11}&\\dots&c_{1p}\\\\\n",
    "\\vdots&\\vdots&&\\vdots\\\\c_{m0}&c_{m1}&\\dots&c_{mp}\\end{bmatrix}$\n",
    "<p>&nbsp;</p>\n",
    "$$\\mbox{gde su }\\qquad c_{ij}=\\begin{bmatrix}a_{i0}&a_{i1}&\\dots&a_{in}\\end{bmatrix}\\begin{bmatrix}b_{0j}\\\\b_{1j}\\\\\\vdots\\\\b_{nj}\\end{bmatrix},\n",
    "\\quad i=0,1,\\dots,m,\\quad j=0,1,\\dots,n-1.$$\n",
    "\n",
    "Funkcije kojima se navedene operacije množenja izračunavaju su `dot`, `outer` i `@`. Prve dve operacije su pogodne za primenu na jednodimenzionalnim NumPy nizovima, mada imaju svoje značenje i u dvodimenzionalnom slučaju. Iako `dot` operacija može da se primenjuje i u svojstvu operacije `@`, preporuka je da se množenje dve matrice obavlja operacijom `@`.\n",
    "Prilikom upotrebe implementiranih operacija za rad sa NumPy nizovima kojima se navedeni proizvodi izračunavaju potrebno je voditi računa o dimenzijama nizova činilaca. "
   ]
  },
  {
   "cell_type": "markdown",
   "metadata": {},
   "source": [
    "**Primer 6.** Dejstvo samih funkcija `dot`, `outer` i `@` upoznaćemo kroz primere."
   ]
  },
  {
   "cell_type": "code",
   "execution_count": 34,
   "metadata": {},
   "outputs": [
    {
     "name": "stdout",
     "output_type": "stream",
     "text": [
      "v= [ 2 -1  2  1]  ,  u= [ 1  0  1 -1]\n",
      "(4,)\n",
      "(4,)\n"
     ]
    },
    {
     "data": {
      "text/plain": [
       "3"
      ]
     },
     "execution_count": 34,
     "metadata": {},
     "output_type": "execute_result"
    }
   ],
   "source": [
    "print(\"v=\",v,\" , \",\"u=\",u)\n",
    "print(v.shape)\n",
    "print(u.shape)\n",
    "np.dot(v,u)   #skalarni proizvod jednodimenzionalnih vektora"
   ]
  },
  {
   "cell_type": "code",
   "execution_count": 35,
   "metadata": {},
   "outputs": [
    {
     "data": {
      "text/plain": [
       "3"
      ]
     },
     "execution_count": 35,
     "metadata": {},
     "output_type": "execute_result"
    }
   ],
   "source": [
    "np.dot(u,v)  # skalarni proizvod je komutativna operacija "
   ]
  },
  {
   "cell_type": "code",
   "execution_count": 36,
   "metadata": {},
   "outputs": [
    {
     "data": {
      "text/plain": [
       "array([[3]])"
      ]
     },
     "execution_count": 36,
     "metadata": {},
     "output_type": "execute_result"
    }
   ],
   "source": [
    "np.dot(v.reshape(1,4),u.reshape(4,1)) #unutrašnji proizvod vektora-vrste i vektora-kolone, v^Tu"
   ]
  },
  {
   "cell_type": "code",
   "execution_count": 37,
   "metadata": {},
   "outputs": [
    {
     "data": {
      "text/plain": [
       "array([[3]])"
      ]
     },
     "execution_count": 37,
     "metadata": {},
     "output_type": "execute_result"
    }
   ],
   "source": [
    "v.reshape(1,4)@u.reshape(4,1) #unutrašnji proizvod vektora-vrste i vektora-kolone, v^Tu"
   ]
  },
  {
   "cell_type": "code",
   "execution_count": 38,
   "metadata": {},
   "outputs": [
    {
     "data": {
      "text/plain": [
       "3"
      ]
     },
     "execution_count": 38,
     "metadata": {},
     "output_type": "execute_result"
    }
   ],
   "source": [
    "v@u  #operacija proizvoda matrica deluje kao skalarni proizvod na jednodimenzionalne vektore istih dužina"
   ]
  },
  {
   "cell_type": "markdown",
   "metadata": {},
   "source": [
    "Zaključujemo da za izračunavanje skalarnog proizvoda, tj. rezultata koji će dati baš broj, a ne niz, treba voditi računa o broju dimenzija činilaca. Osim toga, funkcije `dot` i `@` imaju gotovo jednak  efekat u analiziranim situacijama.\n",
    "\n",
    "Upoznaćemo sada operaciju spoljašnjeg proizvoda `outer`."
   ]
  },
  {
   "cell_type": "code",
   "execution_count": 39,
   "metadata": {},
   "outputs": [
    {
     "name": "stdout",
     "output_type": "stream",
     "text": [
      "(6,)\n"
     ]
    },
    {
     "data": {
      "text/plain": [
       "array([[ 2,  0,  2,  0, -2,  2],\n",
       "       [-1,  0, -1,  0,  1, -1],\n",
       "       [ 2,  0,  2,  0, -2,  2],\n",
       "       [ 1,  0,  1,  0, -1,  1]])"
      ]
     },
     "execution_count": 39,
     "metadata": {},
     "output_type": "execute_result"
    }
   ],
   "source": [
    "w=np.array([1,0,1,0,-1,1])\n",
    "print(w.shape)\n",
    "np.outer(v,w)  #spoljašnji proizvod jednodimenzionalnih vektora"
   ]
  },
  {
   "cell_type": "code",
   "execution_count": 40,
   "metadata": {},
   "outputs": [
    {
     "data": {
      "text/plain": [
       "array([[ 2, -1,  2,  1],\n",
       "       [ 0,  0,  0,  0],\n",
       "       [ 2, -1,  2,  1],\n",
       "       [ 0,  0,  0,  0],\n",
       "       [-2,  1, -2, -1],\n",
       "       [ 2, -1,  2,  1]])"
      ]
     },
     "execution_count": 40,
     "metadata": {},
     "output_type": "execute_result"
    }
   ],
   "source": [
    "np.outer(w,v)  #spoljašnji proizvod nije komutativna operacija"
   ]
  },
  {
   "cell_type": "code",
   "execution_count": 41,
   "metadata": {},
   "outputs": [
    {
     "ename": "ValueError",
     "evalue": "matmul: Input operand 1 has a mismatch in its core dimension 0, with gufunc signature (n?,k),(k,m?)->(n?,m?) (size 6 is different from 4)",
     "output_type": "error",
     "traceback": [
      "\u001b[1;31m---------------------------------------------------------------------------\u001b[0m",
      "\u001b[1;31mValueError\u001b[0m                                Traceback (most recent call last)",
      "Cell \u001b[1;32mIn[41], line 1\u001b[0m\n\u001b[1;32m----> 1\u001b[0m v\u001b[38;5;129m@w\u001b[39m\n",
      "\u001b[1;31mValueError\u001b[0m: matmul: Input operand 1 has a mismatch in its core dimension 0, with gufunc signature (n?,k),(k,m?)->(n?,m?) (size 6 is different from 4)"
     ]
    }
   ],
   "source": [
    "v@w  # operacija množenja matrica ovde ne može da zameni spoljašnji proizvod vektora\n",
    "#proizvod elemenata dimenzija (4,) i (6,)"
   ]
  },
  {
   "cell_type": "code",
   "execution_count": 42,
   "metadata": {},
   "outputs": [
    {
     "ename": "ValueError",
     "evalue": "matmul: Input operand 1 has a mismatch in its core dimension 0, with gufunc signature (n?,k),(k,m?)->(n?,m?) (size 6 is different from 1)",
     "output_type": "error",
     "traceback": [
      "\u001b[1;31m---------------------------------------------------------------------------\u001b[0m",
      "\u001b[1;31mValueError\u001b[0m                                Traceback (most recent call last)",
      "Cell \u001b[1;32mIn[42], line 1\u001b[0m\n\u001b[1;32m----> 1\u001b[0m v\u001b[38;5;241m.\u001b[39mreshape(\u001b[38;5;241m4\u001b[39m,\u001b[38;5;241m1\u001b[39m)\u001b[38;5;129m@w\u001b[39m\n",
      "\u001b[1;31mValueError\u001b[0m: matmul: Input operand 1 has a mismatch in its core dimension 0, with gufunc signature (n?,k),(k,m?)->(n?,m?) (size 6 is different from 1)"
     ]
    }
   ],
   "source": [
    "v.reshape(4,1)@w  #proizvod elemenata dimenzija (4,1) i (6,)"
   ]
  },
  {
   "cell_type": "code",
   "execution_count": 43,
   "metadata": {},
   "outputs": [
    {
     "data": {
      "text/plain": [
       "array([[ 2,  0,  2,  0, -2,  2],\n",
       "       [-1,  0, -1,  0,  1, -1],\n",
       "       [ 2,  0,  2,  0, -2,  2],\n",
       "       [ 1,  0,  1,  0, -1,  1]])"
      ]
     },
     "execution_count": 43,
     "metadata": {},
     "output_type": "execute_result"
    }
   ],
   "source": [
    "v.reshape(4,1)@w.reshape(1,6)  #spoljašnji proizvod operacijom @"
   ]
  },
  {
   "cell_type": "markdown",
   "metadata": {},
   "source": [
    "Proverićemo i ponašanje funkcije `outer` izvan uvedene matematičke definicije."
   ]
  },
  {
   "cell_type": "code",
   "execution_count": 44,
   "metadata": {},
   "outputs": [
    {
     "data": {
      "text/plain": [
       "array([[ 1,  2,  3,  3,  4,  5],\n",
       "       [ 2,  4,  6,  6,  8, 10],\n",
       "       [ 3,  6,  9,  9, 12, 15],\n",
       "       [ 4,  8, 12, 12, 16, 20]])"
      ]
     },
     "execution_count": 44,
     "metadata": {},
     "output_type": "execute_result"
    }
   ],
   "source": [
    "A = np.array([[1,2,3],[3,4,5]]) \n",
    "B=np.array([[1,2],[3,4]])\n",
    "\n",
    "np.outer(B,A)"
   ]
  },
  {
   "cell_type": "code",
   "execution_count": 45,
   "metadata": {},
   "outputs": [
    {
     "data": {
      "text/plain": [
       "array([[ 1,  2,  3,  3,  4,  5],\n",
       "       [ 2,  4,  6,  6,  8, 10],\n",
       "       [ 3,  6,  9,  9, 12, 15],\n",
       "       [ 4,  8, 12, 12, 16, 20]])"
      ]
     },
     "execution_count": 45,
     "metadata": {},
     "output_type": "execute_result"
    }
   ],
   "source": [
    "np.outer(B.reshape(4,),A.reshape(6,))"
   ]
  },
  {
   "cell_type": "code",
   "execution_count": 46,
   "metadata": {},
   "outputs": [
    {
     "data": {
      "text/plain": [
       "array([[ 1,  2,  3,  4],\n",
       "       [ 2,  4,  6,  8],\n",
       "       [ 3,  6,  9, 12],\n",
       "       [ 3,  6,  9, 12],\n",
       "       [ 4,  8, 12, 16],\n",
       "       [ 5, 10, 15, 20]])"
      ]
     },
     "execution_count": 46,
     "metadata": {},
     "output_type": "execute_result"
    }
   ],
   "source": [
    "np.outer(A,B)"
   ]
  },
  {
   "cell_type": "code",
   "execution_count": 47,
   "metadata": {},
   "outputs": [
    {
     "data": {
      "text/plain": [
       "array([[ 1,  2,  3,  4],\n",
       "       [ 2,  4,  6,  8],\n",
       "       [ 3,  6,  9, 12],\n",
       "       [ 3,  6,  9, 12],\n",
       "       [ 4,  8, 12, 16],\n",
       "       [ 5, 10, 15, 20]])"
      ]
     },
     "execution_count": 47,
     "metadata": {},
     "output_type": "execute_result"
    }
   ],
   "source": [
    "np.outer(A.reshape(6,),B.reshape(4,))"
   ]
  },
  {
   "cell_type": "code",
   "execution_count": 48,
   "metadata": {},
   "outputs": [
    {
     "data": {
      "text/plain": [
       "array([[ 1. +1.j,  2. +2.j,  3. +3.j,  3. +3.j,  4. +4.j,  5. +5.j],\n",
       "       [ 2. +0.j,  4. +0.j,  6. +0.j,  6. +0.j,  8. +0.j, 10. +0.j],\n",
       "       [ 3. +0.j,  6. +0.j,  9. +0.j,  9. +0.j, 12. +0.j, 15. +0.j],\n",
       "       [ 3. -2.j,  6. -4.j,  9. -6.j,  9. -6.j, 12. -8.j, 15.-10.j]])"
      ]
     },
     "execution_count": 48,
     "metadata": {},
     "output_type": "execute_result"
    }
   ],
   "source": [
    "np.outer(kolona,A)"
   ]
  },
  {
   "cell_type": "code",
   "execution_count": 49,
   "metadata": {
    "scrolled": true
   },
   "outputs": [
    {
     "data": {
      "text/plain": [
       "array([[-1, -2, -3, -3, -4, -5],\n",
       "       [ 2,  4,  6,  6,  8, 10]])"
      ]
     },
     "execution_count": 49,
     "metadata": {},
     "output_type": "execute_result"
    }
   ],
   "source": [
    "vrsta=(np.array([-1,2])).reshape(1,2)\n",
    "np.outer(vrsta,A)"
   ]
  },
  {
   "cell_type": "markdown",
   "metadata": {},
   "source": [
    "***"
   ]
  },
  {
   "cell_type": "markdown",
   "metadata": {},
   "source": [
    "**Primer 7.** Ispitujemo u nastavku funkcionisanje operacije matrica $\\cdot$ jednodimenzionalni vektor kroz primere."
   ]
  },
  {
   "cell_type": "code",
   "execution_count": 50,
   "metadata": {},
   "outputs": [
    {
     "name": "stdout",
     "output_type": "stream",
     "text": [
      "(3, 4)\n",
      "(4,)\n",
      "(3,)\n"
     ]
    },
    {
     "data": {
      "text/plain": [
       "array([1, 3, 4])"
      ]
     },
     "execution_count": 50,
     "metadata": {},
     "output_type": "execute_result"
    }
   ],
   "source": [
    "A=np.array([[1,2,-1,3],[0,-2,1,-1],[1,1,1,1]])\n",
    "print(A.shape)\n",
    "print(v.shape)\n",
    "u=np.dot(A,v)           #dot i dalje ima ulogu i množenja matrica     \n",
    "print(u.shape)\n",
    "u"
   ]
  },
  {
   "cell_type": "code",
   "execution_count": 51,
   "metadata": {},
   "outputs": [
    {
     "data": {
      "text/plain": [
       "array([1, 3, 4])"
      ]
     },
     "execution_count": 51,
     "metadata": {},
     "output_type": "execute_result"
    }
   ],
   "source": [
    "A@v"
   ]
  },
  {
   "cell_type": "code",
   "execution_count": 52,
   "metadata": {},
   "outputs": [
    {
     "data": {
      "text/plain": [
       "array([5, 0, 6, 4])"
      ]
     },
     "execution_count": 52,
     "metadata": {},
     "output_type": "execute_result"
    }
   ],
   "source": [
    "u@A"
   ]
  },
  {
   "cell_type": "code",
   "execution_count": 53,
   "metadata": {},
   "outputs": [
    {
     "data": {
      "text/plain": [
       "array([5, 0, 6, 4])"
      ]
     },
     "execution_count": 53,
     "metadata": {},
     "output_type": "execute_result"
    }
   ],
   "source": [
    "np.dot(u,A)"
   ]
  },
  {
   "cell_type": "markdown",
   "metadata": {},
   "source": [
    "Množenje dvodimenzionalnih nizova, tj. nizova koji predstavljaju matrice, odvija se na uobičajen način prema matematičkim definicijama. "
   ]
  },
  {
   "cell_type": "code",
   "execution_count": 54,
   "metadata": {},
   "outputs": [
    {
     "data": {
      "text/plain": [
       "array([[ 7, 10, 13],\n",
       "       [15, 22, 29]])"
      ]
     },
     "execution_count": 54,
     "metadata": {},
     "output_type": "execute_result"
    }
   ],
   "source": [
    "A = np.array([[1,2,3],[3,4,5]]) \n",
    "B=np.array([[1,2],[3,4]])\n",
    "B@A"
   ]
  },
  {
   "cell_type": "code",
   "execution_count": 55,
   "metadata": {},
   "outputs": [
    {
     "data": {
      "text/plain": [
       "array([[ 7, 10, 13],\n",
       "       [15, 22, 29]])"
      ]
     },
     "execution_count": 55,
     "metadata": {},
     "output_type": "execute_result"
    }
   ],
   "source": [
    "np.dot(B,A)"
   ]
  },
  {
   "cell_type": "code",
   "execution_count": 56,
   "metadata": {},
   "outputs": [
    {
     "data": {
      "text/plain": [
       "array([[2],\n",
       "       [2]])"
      ]
     },
     "execution_count": 56,
     "metadata": {},
     "output_type": "execute_result"
    }
   ],
   "source": [
    "kolona=(np.arange(-1,2)).reshape(3,1)\n",
    "A@kolona"
   ]
  },
  {
   "cell_type": "code",
   "execution_count": 57,
   "metadata": {},
   "outputs": [
    {
     "data": {
      "text/plain": [
       "array([[5, 6, 7]])"
      ]
     },
     "execution_count": 57,
     "metadata": {},
     "output_type": "execute_result"
    }
   ],
   "source": [
    "vrsta@A"
   ]
  },
  {
   "cell_type": "markdown",
   "metadata": {},
   "source": [
    "***"
   ]
  },
  {
   "cell_type": "markdown",
   "metadata": {},
   "source": [
    "Na osnovu sprovedenih eksperimenata zaključujemo da za uspešnu realizaciju operacija `dot` i `@` mora da se vodi računa o pravilu unutrašnjeg indeksa. Efekti ove dve NumPy funkcije su ekvivalentni. Same operacije se sprovode prema zakonu:\n",
    "\\begin{align}\n",
    "&u_{(m,)}v_{(m,)}=skalar       &&A_{(m,n)}B_{(n,p)}=C_{(m,p)},\\\\\n",
    "&u_{(m,)}A_{(m,n)}=v_{(n,)}    &&A_{(m,n)}v_{(n,)}=u_{(m,)}\n",
    "\\end{align}\n",
    "\n",
    "Operacija `outer` linearizuje svoje argumente, tj. tretira ih kao jednodimenzionalne nizove i tada sprovede spoljašnji proizvod. "
   ]
  },
  {
   "cell_type": "markdown",
   "metadata": {},
   "source": [
    "***"
   ]
  },
  {
   "cell_type": "markdown",
   "metadata": {},
   "source": [
    "### Inverzna matrica\n",
    "\n",
    "Izračunavanje inverzne matrice kvadratne matrice, kao i njene determinante su funkcije podmodula [Linalg](https://numpy.org/doc/stable/reference/routines.linalg.html). "
   ]
  },
  {
   "cell_type": "markdown",
   "metadata": {},
   "source": [
    "**Primer 8.** Primenu naredbi prikazaćemo na jednostavnom primeru matrice \n",
    "$B=\\begin{bmatrix}1&2\\\\3&4\\end{bmatrix}$ čije su $\\quad\\det(B)=4-6=-2\\quad$ i $\\quad B^{-1}=-\\dfrac12\\begin{bmatrix}4&-2\\\\-3&1\\end{bmatrix}\n",
    "=\\begin{bmatrix}-2&1\\\\3/2&-1/2\\end{bmatrix}$"
   ]
  },
  {
   "cell_type": "code",
   "execution_count": 58,
   "metadata": {},
   "outputs": [
    {
     "name": "stdout",
     "output_type": "stream",
     "text": [
      "B= [[1 2]\n",
      " [3 4]]\n",
      "C= [[-2.   1. ]\n",
      " [ 1.5 -0.5]]\n",
      "BC= [[1.00000000e+00 1.11022302e-16]\n",
      " [0.00000000e+00 1.00000000e+00]]\n"
     ]
    },
    {
     "data": {
      "text/plain": [
       "-2.0000000000000004"
      ]
     },
     "execution_count": 58,
     "metadata": {},
     "output_type": "execute_result"
    }
   ],
   "source": [
    "C = npl.inv(B) \n",
    "print(\"B=\",B)\n",
    "print('C=',C)\n",
    "print('BC=',B@C)\n",
    "npl.det(B)"
   ]
  },
  {
   "cell_type": "markdown",
   "metadata": {},
   "source": [
    "***"
   ]
  },
  {
   "cell_type": "markdown",
   "metadata": {},
   "source": [
    "### Specijalne operacije nad NumPy nizovima\n",
    "\n",
    "Osim standardnih matričnih operacija, NumPy omogućava i član-po-član operacije. To znači da postoje programske skraćenice kojima se operacije i funkcije mogu primenjivati jednim pozivom funkcije na sve elemente nekog NumPy niza. To je uglavnom vezano za operacije nad nizovima koji su jednakih dužina. Međutim, NumPy poseduje i svojstvo [brodkastinga](https://numpy.org/devdocs/user/basics.broadcasting.html) nad nizovima. To podrazumeva dovođenje dva niza na isti oblik kako bi neka član po član operacija mogla da bude sprovedena. Takav pristup omogućava u nekim situacijama memorijski efikasniju implementaciju koda."
   ]
  },
  {
   "cell_type": "markdown",
   "metadata": {},
   "source": [
    "Brodkasting je termin iza koga se krije način kako NumPy tretira nizove različitih dimenzija u toku primene aritmetičkih operacija nad njima. Pod određenim uslovima manji niz se brodkastuje do dimenzije većeg niza kako bi oni postali kompatibilni po veličini. Pomoću brodkasting pristupa postiže se vektorizacija operacija nad nizovima na način da se iteracije sprovode u C-u umesto u Python-u."
   ]
  },
  {
   "cell_type": "markdown",
   "metadata": {},
   "source": [
    "**Primer 9.** Poput član-po-član sabiranja nizova moguće je izvršiti i član-po-član množenje, deljenje ili stepenovanje nizova."
   ]
  },
  {
   "cell_type": "code",
   "execution_count": 59,
   "metadata": {},
   "outputs": [
    {
     "name": "stdout",
     "output_type": "stream",
     "text": [
      "u= [ 1  0  1 -1]\n",
      "v= [ 2 -1  2  1]\n"
     ]
    },
    {
     "data": {
      "text/plain": [
       "array([ 2,  0,  2, -1])"
      ]
     },
     "execution_count": 59,
     "metadata": {},
     "output_type": "execute_result"
    }
   ],
   "source": [
    "u=np.array([1,0,1,-1])\n",
    "print(\"u=\",u)\n",
    "print(\"v=\",v)\n",
    "u*v        #član-po-član množenje elemenata, tj. Adamarov proizvod matrica"
   ]
  },
  {
   "cell_type": "code",
   "execution_count": 60,
   "metadata": {},
   "outputs": [
    {
     "data": {
      "text/plain": [
       "array([ 0.5, -0. ,  0.5, -1. ])"
      ]
     },
     "execution_count": 60,
     "metadata": {},
     "output_type": "execute_result"
    }
   ],
   "source": [
    "u/v        #član-po-član deljenje elemenata"
   ]
  },
  {
   "cell_type": "markdown",
   "metadata": {},
   "source": [
    "Brodkasting ovih operacija dogodiće se kada nizovi nisu istih dimenzija. Tako recimo dodavanje iste vrednosti svim elementima jednog niza ne mora da se kodira zbirom dva vektora."
   ]
  },
  {
   "cell_type": "code",
   "execution_count": 61,
   "metadata": {},
   "outputs": [
    {
     "data": {
      "text/plain": [
       "array([5, 4, 5, 3])"
      ]
     },
     "execution_count": 61,
     "metadata": {},
     "output_type": "execute_result"
    }
   ],
   "source": [
    "u+4       #dodavanje iste vrednosti svim elementima niza"
   ]
  },
  {
   "cell_type": "markdown",
   "metadata": {},
   "source": [
    "Prethodna kodna skraćenica je ekvivalent narednom kodu. Došlo je do brodkastovanja skalara u niz odgovarajuće dimenzije."
   ]
  },
  {
   "cell_type": "code",
   "execution_count": 62,
   "metadata": {},
   "outputs": [
    {
     "data": {
      "text/plain": [
       "array([5., 4., 5., 3.])"
      ]
     },
     "execution_count": 62,
     "metadata": {},
     "output_type": "execute_result"
    }
   ],
   "source": [
    "u+4*np.ones(4,)"
   ]
  },
  {
   "cell_type": "markdown",
   "metadata": {},
   "source": [
    "Slično, sabiranje vektora-vrste $v\\in\\mathcal{M}_{1\\times n}$ i vektora-kolone $u\\in\\mathcal{M}_{m\\times 1},$ zbog brodkastinga za rezultat ima matricu $\\mathcal{M}_{m\\times n}.$"
   ]
  },
  {
   "cell_type": "code",
   "execution_count": 63,
   "metadata": {},
   "outputs": [
    {
     "data": {
      "text/plain": [
       "(array([ 1,  0,  1, -1]), array([ 2, -1,  2,  1]))"
      ]
     },
     "execution_count": 63,
     "metadata": {},
     "output_type": "execute_result"
    }
   ],
   "source": [
    "u , v"
   ]
  },
  {
   "cell_type": "code",
   "execution_count": 64,
   "metadata": {},
   "outputs": [
    {
     "data": {
      "text/plain": [
       "(array([[ 1],\n",
       "        [ 0],\n",
       "        [ 1],\n",
       "        [-1]]),\n",
       " array([[ 2, -1,  2,  1]]))"
      ]
     },
     "execution_count": 64,
     "metadata": {},
     "output_type": "execute_result"
    }
   ],
   "source": [
    "u.reshape(4,1) , v.reshape(1,4)"
   ]
  },
  {
   "cell_type": "code",
   "execution_count": 65,
   "metadata": {},
   "outputs": [
    {
     "data": {
      "text/plain": [
       "array([[ 3,  0,  3,  2],\n",
       "       [ 2, -1,  2,  1],\n",
       "       [ 3,  0,  3,  2],\n",
       "       [ 1, -2,  1,  0]])"
      ]
     },
     "execution_count": 65,
     "metadata": {},
     "output_type": "execute_result"
    }
   ],
   "source": [
    "u.reshape(4,1)+v.reshape(1,4)"
   ]
  },
  {
   "cell_type": "code",
   "execution_count": 66,
   "metadata": {},
   "outputs": [
    {
     "data": {
      "text/plain": [
       "array([[ 3,  0,  3,  2],\n",
       "       [ 2, -1,  2,  1],\n",
       "       [ 3,  0,  3,  2],\n",
       "       [ 1, -2,  1,  0]])"
      ]
     },
     "execution_count": 66,
     "metadata": {},
     "output_type": "execute_result"
    }
   ],
   "source": [
    "v.reshape(1,4)+u.reshape(4,1)"
   ]
  },
  {
   "cell_type": "markdown",
   "metadata": {},
   "source": [
    "Dovoljno je da samo jedan od vektora dobije vertikalnu komponentu kako bi se brodkastovanje pokrenulo."
   ]
  },
  {
   "cell_type": "code",
   "execution_count": 67,
   "metadata": {},
   "outputs": [
    {
     "data": {
      "text/plain": [
       "array([[ 3,  0,  3,  2],\n",
       "       [ 2, -1,  2,  1],\n",
       "       [ 3,  0,  3,  2],\n",
       "       [ 1, -2,  1,  0]])"
      ]
     },
     "execution_count": 67,
     "metadata": {},
     "output_type": "execute_result"
    }
   ],
   "source": [
    "u.reshape(4,1)+v"
   ]
  },
  {
   "cell_type": "code",
   "execution_count": 68,
   "metadata": {},
   "outputs": [
    {
     "data": {
      "text/plain": [
       "array([[ 3,  0,  3,  2],\n",
       "       [ 2, -1,  2,  1],\n",
       "       [ 3,  0,  3,  2],\n",
       "       [ 1, -2,  1,  0]])"
      ]
     },
     "execution_count": 68,
     "metadata": {},
     "output_type": "execute_result"
    }
   ],
   "source": [
    "v+u.reshape(4,1)"
   ]
  },
  {
   "cell_type": "markdown",
   "metadata": {},
   "source": [
    "U prikazanom slučaju brodkasting je doveo do produžavanja vektora $v$ i $u$ do matrica istih dimenzija ponavljanjem elemenata duž ose širenja."
   ]
  },
  {
   "attachments": {
    "image.png": {
     "image/png": "[encoded data removed]"
    }
   },
   "cell_type": "markdown",
   "metadata": {},
   "source": [
    "<div>\n",
    "   <img src=\"attachment:image.png\" width=\"550\">  \n",
    "</div>"
   ]
  },
  {
   "cell_type": "markdown",
   "metadata": {},
   "source": [
    "Analogno ponašanje uočićemo i za član-po-član množenje, deljenje i stepenovanje vektora-vrsta i vektora-kolona."
   ]
  },
  {
   "attachments": {
    "image-2.png": {
     "image/png": "[encoded data removed]"
    }
   },
   "cell_type": "markdown",
   "metadata": {},
   "source": [
    "<div>\n",
    "   <img src=\"attachment:image-2.png\" width=\"600\">  \n",
    "</div>"
   ]
  },
  {
   "cell_type": "code",
   "execution_count": 69,
   "metadata": {},
   "outputs": [
    {
     "data": {
      "text/plain": [
       "array([[ 2, -1,  2,  1],\n",
       "       [ 0,  0,  0,  0],\n",
       "       [ 2, -1,  2,  1],\n",
       "       [-2,  1, -2, -1]])"
      ]
     },
     "execution_count": 69,
     "metadata": {},
     "output_type": "execute_result"
    }
   ],
   "source": [
    "u.reshape(4,1)*v.reshape(1,4) #zamena outer naredbi"
   ]
  },
  {
   "attachments": {
    "image-2.png": {
     "image/png": "[encoded data removed]"
    }
   },
   "cell_type": "markdown",
   "metadata": {},
   "source": [
    "<div>\n",
    "   <img src=\"attachment:image-2.png\" width=\"600\">  \n",
    "</div>"
   ]
  },
  {
   "cell_type": "code",
   "execution_count": 70,
   "metadata": {},
   "outputs": [
    {
     "data": {
      "text/plain": [
       "array([[ 0.5, -1. ,  0.5,  1. ],\n",
       "       [ 0. , -0. ,  0. ,  0. ],\n",
       "       [ 0.5, -1. ,  0.5,  1. ],\n",
       "       [-0.5,  1. , -0.5, -1. ]])"
      ]
     },
     "execution_count": 70,
     "metadata": {},
     "output_type": "execute_result"
    }
   ],
   "source": [
    "u.reshape(4,1)/v.reshape(1,4)"
   ]
  },
  {
   "cell_type": "code",
   "execution_count": 71,
   "metadata": {},
   "outputs": [
    {
     "data": {
      "text/plain": [
       "array([4, 1, 4, 1])"
      ]
     },
     "execution_count": 71,
     "metadata": {},
     "output_type": "execute_result"
    }
   ],
   "source": [
    "v**2  #kvadriranje svih elemenata niza"
   ]
  },
  {
   "cell_type": "code",
   "execution_count": 72,
   "metadata": {},
   "outputs": [
    {
     "data": {
      "text/plain": [
       "array([[ 1,  2,  4,  8, 16],\n",
       "       [ 1, -1,  1, -1,  1],\n",
       "       [ 1,  2,  4,  8, 16],\n",
       "       [ 1,  1,  1,  1,  1]])"
      ]
     },
     "execution_count": 72,
     "metadata": {},
     "output_type": "execute_result"
    }
   ],
   "source": [
    "w=np.array([0,1,2,3,4])\n",
    "v.reshape(4,1)**w"
   ]
  },
  {
   "cell_type": "code",
   "execution_count": 73,
   "metadata": {},
   "outputs": [
    {
     "ename": "ValueError",
     "evalue": "Integers to negative integer powers are not allowed.",
     "output_type": "error",
     "traceback": [
      "\u001b[1;31m---------------------------------------------------------------------------\u001b[0m",
      "\u001b[1;31mValueError\u001b[0m                                Traceback (most recent call last)",
      "Cell \u001b[1;32mIn[73], line 1\u001b[0m\n\u001b[1;32m----> 1\u001b[0m kolona\u001b[38;5;241m*\u001b[39m\u001b[38;5;241m*\u001b[39mvrsta\n",
      "\u001b[1;31mValueError\u001b[0m: Integers to negative integer powers are not allowed."
     ]
    }
   ],
   "source": [
    "kolona**vrsta  #stepenovanje komponenti  na različite izložioce"
   ]
  },
  {
   "cell_type": "code",
   "execution_count": 74,
   "metadata": {},
   "outputs": [
    {
     "ename": "ValueError",
     "evalue": "Integers to negative integer powers are not allowed.",
     "output_type": "error",
     "traceback": [
      "\u001b[1;31m---------------------------------------------------------------------------\u001b[0m",
      "\u001b[1;31mValueError\u001b[0m                                Traceback (most recent call last)",
      "Cell \u001b[1;32mIn[74], line 1\u001b[0m\n\u001b[1;32m----> 1\u001b[0m vrsta\u001b[38;5;241m*\u001b[39m\u001b[38;5;241m*\u001b[39mkolona\n",
      "\u001b[1;31mValueError\u001b[0m: Integers to negative integer powers are not allowed."
     ]
    }
   ],
   "source": [
    "vrsta**kolona"
   ]
  },
  {
   "cell_type": "code",
   "execution_count": 75,
   "metadata": {},
   "outputs": [
    {
     "data": {
      "text/plain": [
       "array([[-1. ,  0.5],\n",
       "       [ 1. ,  1. ],\n",
       "       [-1. ,  2. ]])"
      ]
     },
     "execution_count": 75,
     "metadata": {},
     "output_type": "execute_result"
    }
   ],
   "source": [
    "vrsta.astype(np.float64)**kolona"
   ]
  },
  {
   "cell_type": "markdown",
   "metadata": {},
   "source": [
    "***"
   ]
  },
  {
   "cell_type": "markdown",
   "metadata": {},
   "source": [
    "Navodimo tabelu sa nekim elementarnim matematičkim funkcijama. One su implementirane kao standardne član-po-član funkcije nad nizovima. Poseduju prednost u odnosu na sekvencijalno izračunavanje jer podrazumevaju paralelizaciju, tj. vektorizaciju izračunavanja."
   ]
  },
  {
   "cell_type": "markdown",
   "metadata": {},
   "source": [
    "|Функција|име у имплементацији|Функција|име у имплементацији|\n",
    "|---|---|---|---|\n",
    "|$x^s$|`x**s`|$\\sin x$|`sin(x)`|\n",
    "|$a^x$|`a**x`|$\\arcsin x$|`arcsin(x)`|\n",
    "|$\\sqrt{x}$|`sqrt(x)`|$\\cos x$|`cos(x)`|\n",
    "|$\\sqrt[3]{x}$|`cbrt(x)`|$\\arccos x$|`arccos(x)`|\n",
    "|$e^x$|`exp(x)`|$\\tan x$|`tan(x)`|\n",
    "|$2^x$|`exp2(x)`|$\\arctan x$|`arctan(x)`|\n",
    "|${\\rm ln}\\,x$|`log(x)`|$\\sinh x$ |`sinh(x)` |\n",
    "|$\\log_2x$|`log2(x)`|$\\cosh x$ |`cosh(x)`|\n",
    "|$\\log_{10}x$|`log10(x)`| | |"
   ]
  },
  {
   "cell_type": "markdown",
   "metadata": {},
   "source": [
    "**Primer 10.** Izračunaćemo vrednosti funkcije $f(x)=\\dfrac{x^2}{2+x}+3\\sin x$ za niz ulaznih argumenata $x\\in\\{-1,0,1,3.5\\}.$ U tome će nam pomoći član-po-član definisane operacije i funkcije nad NumPy nizovima."
   ]
  },
  {
   "cell_type": "code",
   "execution_count": 76,
   "metadata": {},
   "outputs": [
    {
     "name": "stdout",
     "output_type": "stream",
     "text": [
      "[-1.   0.   1.   3.5]\n",
      "[-1.52441295  0.          2.85774629  1.17492304]\n"
     ]
    }
   ],
   "source": [
    "xk=np.array([-1,0,1,3.5])\n",
    "fk=(xk**2)/(2+xk)+3*np.sin(xk)\n",
    "print(xk)\n",
    "print(fk)"
   ]
  },
  {
   "cell_type": "markdown",
   "metadata": {},
   "source": [
    "Pojedinačne rezultate vrednosti funkcije možemo da proverimo izračunavanjem."
   ]
  },
  {
   "cell_type": "code",
   "execution_count": 77,
   "metadata": {},
   "outputs": [
    {
     "data": {
      "text/plain": [
       "1.1749230442038676"
      ]
     },
     "execution_count": 77,
     "metadata": {},
     "output_type": "execute_result"
    }
   ],
   "source": [
    "x=3.5\n",
    "(x**2)/(2+x)+3*np.sin(x)"
   ]
  },
  {
   "cell_type": "markdown",
   "metadata": {},
   "source": [
    "***"
   ]
  },
  {
   "cell_type": "markdown",
   "metadata": {},
   "source": [
    "**Primer 11.** Opisane član-po-član operacije i funkcije koje smo koristili nad vektorima mogu se upotrebiti i nad matricama. Pokazaćemo to na primeru dve konkretne matrice kroz izračunavanja."
   ]
  },
  {
   "cell_type": "code",
   "execution_count": 78,
   "metadata": {},
   "outputs": [
    {
     "name": "stdout",
     "output_type": "stream",
     "text": [
      "A*B= [[ 1 -2  6]\n",
      " [ 3 -4  1]\n",
      " [ 4  0  2]]\n",
      "A/B= [[ 1.   -2.    1.5 ]\n",
      " [ 3.   -1.    1.  ]\n",
      " [ 0.25  0.    0.5 ]]\n"
     ]
    }
   ],
   "source": [
    "A=np.array([[1,2,3],[3,2,1],[1,0,1]])\n",
    "B=np.array([[1,-1,2],[1,-2,1],[4,1,2]])\n",
    "print(\"A*B=\",A*B)     #član-po-član množenje elemenata\n",
    "print(\"A/B=\",A/B)     #član-po-član deljenje elemenata"
   ]
  },
  {
   "cell_type": "code",
   "execution_count": 79,
   "metadata": {},
   "outputs": [
    {
     "name": "stdout",
     "output_type": "stream",
     "text": [
      "[[ 1.   -1.    0.5 ]\n",
      " [ 1.   -0.5   1.  ]\n",
      " [ 0.25  1.    0.5 ]]\n"
     ]
    }
   ],
   "source": [
    "print(1/B)   #matrica reciprocnih vrednosti*"
   ]
  },
  {
   "cell_type": "code",
   "execution_count": 80,
   "metadata": {},
   "outputs": [
    {
     "name": "stdout",
     "output_type": "stream",
     "text": [
      "[[1 2 3]\n",
      " [4 5 6]]\n"
     ]
    },
    {
     "data": {
      "text/plain": [
       "array([[3, 4, 5],\n",
       "       [6, 7, 8]])"
      ]
     },
     "execution_count": 80,
     "metadata": {},
     "output_type": "execute_result"
    }
   ],
   "source": [
    "matrica=np.array([[1,2,3],[4,5,6]])\n",
    "print(matrica)\n",
    "matrica+2  #dodavanje istog broja svim elementima matrice"
   ]
  },
  {
   "cell_type": "markdown",
   "metadata": {},
   "source": [
    "***"
   ]
  },
  {
   "cell_type": "markdown",
   "metadata": {},
   "source": [
    "**Primer 12.** Slično, nad matricama mogu da se sprovode vektor-po-vektor operacije. U svim ćelijama u nastavku levi ili desni operand može da bude NumPy niz. Lista je postavljena samo zbog kraćeg kucanja."
   ]
  },
  {
   "attachments": {
    "image.png": {
     "image/png": "[encoded data removed]"
    }
   },
   "cell_type": "markdown",
   "metadata": {},
   "source": [
    "<div>\n",
    "   <img src=\"attachment:image.png\" width=\"500\">  \n",
    "</div>"
   ]
  },
  {
   "cell_type": "code",
   "execution_count": 81,
   "metadata": {
    "scrolled": true
   },
   "outputs": [
    {
     "data": {
      "text/plain": [
       "array([[0, 3, 5],\n",
       "       [3, 6, 8]])"
      ]
     },
     "execution_count": 81,
     "metadata": {},
     "output_type": "execute_result"
    }
   ],
   "source": [
    "matrica+np.array([-1,1,2])  #zbog poklapanja dimenzija vršiće se dodavanje \n",
    "#elemenata desne liste svakoj vrsti matrice"
   ]
  },
  {
   "cell_type": "code",
   "execution_count": 82,
   "metadata": {
    "scrolled": true
   },
   "outputs": [
    {
     "data": {
      "text/plain": [
       "array([[0, 1, 5],\n",
       "       [3, 4, 8]])"
      ]
     },
     "execution_count": 82,
     "metadata": {},
     "output_type": "execute_result"
    }
   ],
   "source": [
    "[-1,-1,2]+matrica  #zbog poklapanja dimenzija vršiće se dodavanje elemenata leve liste svakoj vrsti matrice"
   ]
  },
  {
   "cell_type": "code",
   "execution_count": 83,
   "metadata": {
    "scrolled": true
   },
   "outputs": [
    {
     "data": {
      "text/plain": [
       "array([[0, 1, 5],\n",
       "       [3, 4, 8]])"
      ]
     },
     "execution_count": 83,
     "metadata": {},
     "output_type": "execute_result"
    }
   ],
   "source": [
    "matrica+np.array([-1,-1,2])"
   ]
  },
  {
   "attachments": {
    "image.png": {
     "image/png": "[encoded data removed]"
    }
   },
   "cell_type": "markdown",
   "metadata": {},
   "source": [
    "<div>\n",
    "   <img src=\"attachment:image.png\" width=\"500\">  \n",
    "</div>"
   ]
  },
  {
   "cell_type": "code",
   "execution_count": 84,
   "metadata": {
    "scrolled": true
   },
   "outputs": [
    {
     "data": {
      "text/plain": [
       "array([[3, 4, 5],\n",
       "       [2, 3, 4]])"
      ]
     },
     "execution_count": 84,
     "metadata": {},
     "output_type": "execute_result"
    }
   ],
   "source": [
    "matrica+[[2],[-2]] #zbog poklapanja dimenzija vršiće se dodavanje elemenata desne liste svakoj koloni matrice"
   ]
  },
  {
   "cell_type": "code",
   "execution_count": 85,
   "metadata": {},
   "outputs": [
    {
     "data": {
      "text/plain": [
       "array([[3, 4, 5],\n",
       "       [2, 3, 4]])"
      ]
     },
     "execution_count": 85,
     "metadata": {},
     "output_type": "execute_result"
    }
   ],
   "source": [
    "matrica+np.array([[2],[-2]])"
   ]
  },
  {
   "cell_type": "markdown",
   "metadata": {},
   "source": [
    "Analogne transformacije dešavaju se i prilikom upotrebe operacija `*` i `/`."
   ]
  },
  {
   "cell_type": "code",
   "execution_count": 86,
   "metadata": {},
   "outputs": [
    {
     "data": {
      "text/plain": [
       "array([[ -1. ,  -4. ,   6.9],\n",
       "       [ -4. , -10. ,  13.8]])"
      ]
     },
     "execution_count": 86,
     "metadata": {},
     "output_type": "execute_result"
    }
   ],
   "source": [
    "matrica*np.array([-1,-2,2.3]) #pokomponentno množenje liste i svake kolone matrice"
   ]
  },
  {
   "cell_type": "code",
   "execution_count": 87,
   "metadata": {},
   "outputs": [
    {
     "data": {
      "text/plain": [
       "array([[ -1. ,  -4. ,   6.9],\n",
       "       [ -4. , -10. ,  13.8]])"
      ]
     },
     "execution_count": 87,
     "metadata": {},
     "output_type": "execute_result"
    }
   ],
   "source": [
    "D=np.diag([-1,-2,2.3])\n",
    "matrica@D"
   ]
  },
  {
   "cell_type": "code",
   "execution_count": 88,
   "metadata": {},
   "outputs": [
    {
     "data": {
      "text/plain": [
       "array([[ 1.3,  2.6,  3.9],\n",
       "       [10. , 12.5, 15. ]])"
      ]
     },
     "execution_count": 88,
     "metadata": {},
     "output_type": "execute_result"
    }
   ],
   "source": [
    "matrica*np.array([1.3,2.5]).reshape(2,1)"
   ]
  },
  {
   "cell_type": "code",
   "execution_count": 89,
   "metadata": {},
   "outputs": [
    {
     "data": {
      "text/plain": [
       "array([[  2,   4,   6],\n",
       "       [ -8, -10, -12]])"
      ]
     },
     "execution_count": 89,
     "metadata": {},
     "output_type": "execute_result"
    }
   ],
   "source": [
    "matrica*np.array([[2],[-2]])"
   ]
  },
  {
   "cell_type": "code",
   "execution_count": 90,
   "metadata": {},
   "outputs": [
    {
     "data": {
      "text/plain": [
       "array([[  2,   4,   6],\n",
       "       [ -8, -10, -12]])"
      ]
     },
     "execution_count": 90,
     "metadata": {},
     "output_type": "execute_result"
    }
   ],
   "source": [
    "D=np.diag([2,-2])\n",
    "D@matrica"
   ]
  },
  {
   "cell_type": "markdown",
   "metadata": {},
   "source": [
    "Vidimo da za rad sa dijagonalnim matricama nije neophodno rezervisati pun memorijski prostor. Dovoljno je poznavanje vektora dijagonalnih elemenata."
   ]
  },
  {
   "cell_type": "markdown",
   "metadata": {},
   "source": [
    "***"
   ]
  },
  {
   "cell_type": "markdown",
   "metadata": {},
   "source": [
    "Obrađeni primeri u ovoj i prethodnoj radnoj svesci ukazuju da vektori-vrste dvodimenzionalnih nizova imaju određenu prednost u radu, dok se za rad sa vektorima-kolonama povremeno mora to posebno da naznači.\n",
    "\n",
    "Još neki primeri pokomponentne primene osnovnih funkcija dati su u nastavku. Primena navedenih funkcija je nezavisna od toga da li je u primeru naveden jednodimenzionalni ili dvodimenzionalni niz kao argument. Svako od predstavljenih izračunavanja može da bude deo nekog složenijeg izraza. Bitno je samo da bude ispoštovano pravilo jednakih dimenzija tamo gde je to potrebno: sabiranje, vektor po vektor sabiranje, pokomponentno ili vektor po vektor množenje i deljenje, itd."
   ]
  },
  {
   "cell_type": "code",
   "execution_count": 91,
   "metadata": {},
   "outputs": [
    {
     "name": "stdout",
     "output_type": "stream",
     "text": [
      "[0 1 2 3 4 5]\n"
     ]
    }
   ],
   "source": [
    "vektor=np.arange(6)\n",
    "print(vektor)"
   ]
  },
  {
   "cell_type": "code",
   "execution_count": 92,
   "metadata": {},
   "outputs": [
    {
     "data": {
      "text/plain": [
       "array([0, 0, 1, 1, 2, 2], dtype=int32)"
      ]
     },
     "execution_count": 92,
     "metadata": {},
     "output_type": "execute_result"
    }
   ],
   "source": [
    "vektor//2"
   ]
  },
  {
   "cell_type": "code",
   "execution_count": 93,
   "metadata": {},
   "outputs": [
    {
     "data": {
      "text/plain": [
       "array([0, 1, 2, 0, 1, 2], dtype=int32)"
      ]
     },
     "execution_count": 93,
     "metadata": {},
     "output_type": "execute_result"
    }
   ],
   "source": [
    "vektor%3"
   ]
  },
  {
   "cell_type": "code",
   "execution_count": 94,
   "metadata": {},
   "outputs": [
    {
     "data": {
      "text/plain": [
       "array([ 1,  2,  4,  8, 16, 32], dtype=int32)"
      ]
     },
     "execution_count": 94,
     "metadata": {},
     "output_type": "execute_result"
    }
   ],
   "source": [
    "2**vektor"
   ]
  },
  {
   "cell_type": "code",
   "execution_count": 95,
   "metadata": {},
   "outputs": [
    {
     "data": {
      "text/plain": [
       "array([[ 1,  4,  9],\n",
       "       [16, 25, 36]])"
      ]
     },
     "execution_count": 95,
     "metadata": {},
     "output_type": "execute_result"
    }
   ],
   "source": [
    "matrica**2"
   ]
  },
  {
   "cell_type": "code",
   "execution_count": 96,
   "metadata": {},
   "outputs": [
    {
     "data": {
      "text/plain": [
       "array([  1.        ,   2.71828183,   7.3890561 ,  20.08553692,\n",
       "        54.59815003, 148.4131591 ])"
      ]
     },
     "execution_count": 96,
     "metadata": {},
     "output_type": "execute_result"
    }
   ],
   "source": [
    "np.exp(vektor)"
   ]
  },
  {
   "cell_type": "code",
   "execution_count": 97,
   "metadata": {},
   "outputs": [
    {
     "name": "stdout",
     "output_type": "stream",
     "text": [
      "[[ 3.14159265  0.          1.04719755]\n",
      " [-0.78539816 -2.0943951   3.14159265]]\n"
     ]
    }
   ],
   "source": [
    "matrica=np.array([[np.pi,0,np.pi/3],[-np.pi/4,-2*np.pi/3,np.pi]])\n",
    "print(matrica)"
   ]
  },
  {
   "cell_type": "code",
   "execution_count": 98,
   "metadata": {},
   "outputs": [
    {
     "data": {
      "text/plain": [
       "array([[ 1.22464680e-16,  0.00000000e+00,  8.66025404e-01],\n",
       "       [-7.07106781e-01, -8.66025404e-01,  1.22464680e-16]])"
      ]
     },
     "execution_count": 98,
     "metadata": {},
     "output_type": "execute_result"
    }
   ],
   "source": [
    "np.sin(matrica)"
   ]
  },
  {
   "cell_type": "markdown",
   "metadata": {},
   "source": [
    "***"
   ]
  },
  {
   "cell_type": "markdown",
   "metadata": {},
   "source": [
    "## Pristup elementima niza \n",
    "\n",
    "Izraz u uglastim zagradama `[ ]` označava operator indeksiranja. Indeksom se označava član uređene kolekcije objekata: niza (ili liste, ili stringa). Drugim rečima indeksiranje koje opisujemo u nastavku važi za sve tri navedene vrste podataka. Zbog toga operator indeksiranja `[ ]` predstavljamo isključivo na jednom tipu podataka, NumPy nizovima. \n",
    "\n",
    "Operator indeksiranja `[ ]` odabira pojedinačne elemente u nizu ili podnizove. Time je omogućen pristup pojedinačnim elementima i podnizovima bilo za njihovo čitanje, bilo za izmenu sadržaja. "
   ]
  },
  {
   "cell_type": "markdown",
   "metadata": {},
   "source": [
    "<div class=\"alert alert-block alert-info\">\n",
    "<b>Napomena:</b> U radu sa nizovima voditi računa o opsegu indeksa!\n",
    "Prvi element liste ili niza je indeksa 0.</div>"
   ]
  },
  {
   "attachments": {
    "image-3.png": {
     "image/png": "[encoded data removed]"
    }
   },
   "cell_type": "markdown",
   "metadata": {},
   "source": [
    "**Primer 13.** Na narednoj slici data je šema indeksiranja NumPy niza $[1,-1,0,-2,2,3,4,-1,1,0].$  Elementi niza su unutar bele duge vrste sa crnim granicama.  Ispod i iznad su naznačene vrednosti pozicija, tj. vrednosti indeksa odgovarajućih elemenata:\n",
    "- gornji prostor opisuje indeksiranje unapred, tj. brojanje od početnog (nultog) elementa,\n",
    "- donji prostor opisuje indeksiranje unazad, tj. odbrojavanjem od poslednjeg elementa (-1).\n",
    "\n",
    "Plava polja označavaju opsege vrednosti indeksa. \n",
    "\n",
    "<div>\n",
    "   <img src=\"attachment:image-3.png\" width=\"750\">  \n",
    "</div>\n",
    "\n",
    "Iz šeme vidimo da indeksiranje pojedinačnih delova niza počinje od broja 0 i sukcesivno se nastavlja, kada brojimo elemente na taj način. Bilo kojem pojedinačnom elementu ovog niza (za čitanje ili promenu vrednosti) pristupamo navođenjem imena niza i indeksa elementa unutar uglastih zagrada `[ ]`."
   ]
  },
  {
   "cell_type": "code",
   "execution_count": 99,
   "metadata": {},
   "outputs": [
    {
     "name": "stdout",
     "output_type": "stream",
     "text": [
      "1  ,  4\n"
     ]
    },
    {
     "data": {
      "text/plain": [
       "array([ 1, -1,  0, -2,  2,  3,  2, -1,  1,  0])"
      ]
     },
     "execution_count": 99,
     "metadata": {},
     "output_type": "execute_result"
    }
   ],
   "source": [
    "niz=np.array([1,-1,0,-2,2,3,4,-1,1,0])\n",
    "print(niz[0],\" , \",niz[6])\n",
    "niz[6]=niz[6]//2\n",
    "niz"
   ]
  },
  {
   "cell_type": "markdown",
   "metadata": {},
   "source": [
    "Vratićemo elemente niza na početne vrednosti kako bi izlazi narednih ćelija odgovarali prikazu na slici."
   ]
  },
  {
   "cell_type": "code",
   "execution_count": 100,
   "metadata": {},
   "outputs": [],
   "source": [
    "niz=np.array([1,-1,0,-2,2,3,4,-1,1,0])"
   ]
  },
  {
   "cell_type": "markdown",
   "metadata": {},
   "source": [
    "Osim pojedinačnog pristupa moguće je indeksiranje i grupe elemenata niza. U tom slučaju se odgovarajući indeksi navode kao lista (ili niz) unutar operatora indeksiranja `[ ]`. Redosled navođenja indeksa ne mora da poodleže nikakvom pravilu, ali indeksi moraju da budu iz opsega veličine niza. Za konkretno niz iz ovog primera maksimalna vrednost indeksa je 9."
   ]
  },
  {
   "cell_type": "code",
   "execution_count": 101,
   "metadata": {},
   "outputs": [],
   "source": [
    "prom1, prom2=3 , -3"
   ]
  },
  {
   "cell_type": "code",
   "execution_count": 102,
   "metadata": {},
   "outputs": [
    {
     "data": {
      "text/plain": [
       "(3, -3)"
      ]
     },
     "execution_count": 102,
     "metadata": {},
     "output_type": "execute_result"
    }
   ],
   "source": [
    "prom1, prom2"
   ]
  },
  {
   "cell_type": "code",
   "execution_count": 103,
   "metadata": {},
   "outputs": [],
   "source": [
    "niz[[0,1,2,3,8]]=3"
   ]
  },
  {
   "cell_type": "code",
   "execution_count": 104,
   "metadata": {},
   "outputs": [
    {
     "data": {
      "text/plain": [
       "array([ 3,  3,  3,  3,  2,  3,  4, -1,  3,  0])"
      ]
     },
     "execution_count": 104,
     "metadata": {},
     "output_type": "execute_result"
    }
   ],
   "source": [
    "niz"
   ]
  },
  {
   "cell_type": "code",
   "execution_count": 105,
   "metadata": {},
   "outputs": [
    {
     "data": {
      "text/plain": [
       "[1, 3, 1, 3, 6, 4, 9, 6, 4, 9, 6, 4, 9]"
      ]
     },
     "execution_count": 105,
     "metadata": {},
     "output_type": "execute_result"
    }
   ],
   "source": [
    "2*[1,3]+3*[6,4,9]"
   ]
  },
  {
   "cell_type": "code",
   "execution_count": 106,
   "metadata": {},
   "outputs": [
    {
     "data": {
      "text/plain": [
       "array([3, 3, 3, 3, 4, 2, 0, 4, 2, 0, 4, 2, 0])"
      ]
     },
     "execution_count": 106,
     "metadata": {},
     "output_type": "execute_result"
    }
   ],
   "source": [
    "niz[2*[1,3]+3*[6,4,9]]"
   ]
  },
  {
   "cell_type": "code",
   "execution_count": 107,
   "metadata": {},
   "outputs": [
    {
     "data": {
      "text/plain": [
       "array([3, 3, 3, 3])"
      ]
     },
     "execution_count": 107,
     "metadata": {},
     "output_type": "execute_result"
    }
   ],
   "source": [
    "niz[np.array([0,2,8,1])]"
   ]
  },
  {
   "cell_type": "markdown",
   "metadata": {},
   "source": [
    "Isto dejstvo ima i naredba `take`."
   ]
  },
  {
   "cell_type": "code",
   "execution_count": 108,
   "metadata": {},
   "outputs": [
    {
     "data": {
      "text/plain": [
       "array([3, 3, 3, 3, 4, 2, 0, 4, 2, 0, 4, 2, 0])"
      ]
     },
     "execution_count": 108,
     "metadata": {},
     "output_type": "execute_result"
    }
   ],
   "source": [
    "np.take(niz,2*[1,3]+3*[6,4,9])"
   ]
  },
  {
   "cell_type": "markdown",
   "metadata": {},
   "source": [
    "Indeksi za izdvajanje elemenata iz niza ne moraju da budu zadati samo listama. Indeksiranje može da se vrši i elementima niza. Neophodno je da oni budu celi brojevi u opsegu vrednosti indeksa za dati niz."
   ]
  },
  {
   "cell_type": "code",
   "execution_count": 109,
   "metadata": {},
   "outputs": [
    {
     "data": {
      "text/plain": [
       "array([3, 3, 3, 3])"
      ]
     },
     "execution_count": 109,
     "metadata": {},
     "output_type": "execute_result"
    }
   ],
   "source": [
    "niz[np.array([0,2,8,1])]"
   ]
  },
  {
   "cell_type": "code",
   "execution_count": 110,
   "metadata": {},
   "outputs": [
    {
     "data": {
      "text/plain": [
       "array([3, 3, 3, 3])"
      ]
     },
     "execution_count": 110,
     "metadata": {},
     "output_type": "execute_result"
    }
   ],
   "source": [
    "np.take(niz,np.array([0,2,8,1]))"
   ]
  },
  {
   "cell_type": "code",
   "execution_count": 111,
   "metadata": {},
   "outputs": [
    {
     "ename": "IndexError",
     "evalue": "index 10 is out of bounds for axis 0 with size 10",
     "output_type": "error",
     "traceback": [
      "\u001b[1;31m---------------------------------------------------------------------------\u001b[0m",
      "\u001b[1;31mIndexError\u001b[0m                                Traceback (most recent call last)",
      "Cell \u001b[1;32mIn[111], line 1\u001b[0m\n\u001b[1;32m----> 1\u001b[0m niz[\u001b[38;5;241m10\u001b[39m]\n",
      "\u001b[1;31mIndexError\u001b[0m: index 10 is out of bounds for axis 0 with size 10"
     ]
    }
   ],
   "source": [
    "niz[10]"
   ]
  },
  {
   "cell_type": "code",
   "execution_count": 112,
   "metadata": {},
   "outputs": [
    {
     "data": {
      "text/plain": [
       "3"
      ]
     },
     "execution_count": 112,
     "metadata": {},
     "output_type": "execute_result"
    }
   ],
   "source": [
    "niz[10%niz.size]"
   ]
  },
  {
   "cell_type": "markdown",
   "metadata": {},
   "source": [
    "Kada grupa indeksa podleže nekim pravilnostima možemo da koristimo olakšice. U te svrhe koristi se kombinacija operatora indeksiranja i operatora listanja `:`. Ovaj operator ima slične karakteristike `arange` naredbe.  \n",
    "\n",
    "Format $[n:m]$ vraća deo niza počevši od elementa sa indeksom $n$ pa do elementa sa indeksom $m-1.$ Misli se na Python način indeksiranja koji počinje brojanje od 0 ili negativno indeksiranje. \n",
    "\n",
    "Ukoliko se ne navede početni indeks $n$ podrazumevana vrednost je $0.$ Ukoliko se ne navede drugi indeks $m,$ podrazumeva se da mu je vrednost kraj niza. U takvoj situaciji je i poslednji element uključen.\n",
    "\n",
    "Indeksiranje u formatu $[n:m:k]$ daje svaki $k-$ti element počevši od onog sa indeksom $n.$"
   ]
  },
  {
   "cell_type": "markdown",
   "metadata": {},
   "source": [
    "<div class=\"alert alert-block alert-info\">\n",
    "<b>Napomena:</b> Voditi računa da se poslednji indeks $m$ u opsegu $[n:m]$ ili $[n:m:k]$ ne koristi. To važi za indeksiranje unapred i indeksirnje unazad. Uključivanje poslednjeg elementa niza moguće je u formatu $[n:]$ ili $[n::k]$ </div>"
   ]
  },
  {
   "cell_type": "code",
   "execution_count": 113,
   "metadata": {},
   "outputs": [
    {
     "name": "stdout",
     "output_type": "stream",
     "text": [
      "[ 3  3  3  3  2  3  4 -1  3  0]\n"
     ]
    }
   ],
   "source": [
    "print(niz)"
   ]
  },
  {
   "cell_type": "code",
   "execution_count": 114,
   "metadata": {},
   "outputs": [
    {
     "data": {
      "text/plain": [
       "array([3, 3, 3, 3])"
      ]
     },
     "execution_count": 114,
     "metadata": {},
     "output_type": "execute_result"
    }
   ],
   "source": [
    "niz[0:4]   #elementi od početka do onog sa indeksom 3"
   ]
  },
  {
   "cell_type": "code",
   "execution_count": 115,
   "metadata": {},
   "outputs": [
    {
     "data": {
      "text/plain": [
       "array([3, 3, 3, 3])"
      ]
     },
     "execution_count": 115,
     "metadata": {},
     "output_type": "execute_result"
    }
   ],
   "source": [
    "niz[:4]    #elementi od početka do onog sa indeksom 3"
   ]
  },
  {
   "cell_type": "code",
   "execution_count": 116,
   "metadata": {},
   "outputs": [
    {
     "data": {
      "text/plain": [
       "array([ 3,  4, -1])"
      ]
     },
     "execution_count": 116,
     "metadata": {},
     "output_type": "execute_result"
    }
   ],
   "source": [
    "niz[5:8]  #elementi počevši od indeksa 5 do indeksa 7"
   ]
  },
  {
   "cell_type": "code",
   "execution_count": 117,
   "metadata": {},
   "outputs": [
    {
     "data": {
      "text/plain": [
       "array([ 3,  4, -1,  3,  0])"
      ]
     },
     "execution_count": 117,
     "metadata": {},
     "output_type": "execute_result"
    }
   ],
   "source": [
    "niz[5:]   #elementi počevši od indeksa 5 do kraja niza"
   ]
  },
  {
   "cell_type": "code",
   "execution_count": 118,
   "metadata": {},
   "outputs": [
    {
     "data": {
      "text/plain": [
       "(array([ 3,  4, -1,  3]), array([ 3,  4, -1,  3,  0]))"
      ]
     },
     "execution_count": 118,
     "metadata": {},
     "output_type": "execute_result"
    }
   ],
   "source": [
    "niz[5:9]   , niz[5:10] "
   ]
  },
  {
   "cell_type": "code",
   "execution_count": 119,
   "metadata": {},
   "outputs": [
    {
     "data": {
      "text/plain": [
       "array([3, 3, 2, 4, 3])"
      ]
     },
     "execution_count": 119,
     "metadata": {},
     "output_type": "execute_result"
    }
   ],
   "source": [
    "niz[::2] #elementi od početka do kraja, svaki drugi"
   ]
  },
  {
   "cell_type": "code",
   "execution_count": 120,
   "metadata": {},
   "outputs": [
    {
     "data": {
      "text/plain": [
       "array([ 0,  3, -1,  4,  3,  2,  3,  3,  3,  3])"
      ]
     },
     "execution_count": 120,
     "metadata": {},
     "output_type": "execute_result"
    }
   ],
   "source": [
    "niz[::-1] #elementi od početka do kraja, u obrnutom redosledu"
   ]
  },
  {
   "cell_type": "markdown",
   "metadata": {},
   "source": [
    "Specijalno, svi elementi jednodimenzionalnog niza dobijaju se ne navođenjem nijedne granice u operatoru listanja. Ovo svojstvo je bitno za nizove više dimenzija."
   ]
  },
  {
   "cell_type": "code",
   "execution_count": 121,
   "metadata": {},
   "outputs": [
    {
     "data": {
      "text/plain": [
       "array([ 3,  3,  3,  3,  2,  3,  4, -1,  3,  0])"
      ]
     },
     "execution_count": 121,
     "metadata": {},
     "output_type": "execute_result"
    }
   ],
   "source": [
    "niz[:]"
   ]
  },
  {
   "cell_type": "markdown",
   "metadata": {},
   "source": [
    "Elementi objekata ovog tipa mogu takođe i da se indeksiraju sa kraja. Negativne vrednosti indeksa broje elemente zdesna nalevo. Način korišćenja pojedinačnog pristupa ili operatora listanja `:` odgovara prethodno opisanom. Njegovo dejstvo prikazaćemo na narednom primeru."
   ]
  },
  {
   "cell_type": "code",
   "execution_count": 122,
   "metadata": {},
   "outputs": [
    {
     "name": "stdout",
     "output_type": "stream",
     "text": [
      "[-5 -4 -3 -2 -1  0  1  2  3  4  5]\n",
      "-5\n",
      "1\n",
      "5\n",
      "2\n"
     ]
    }
   ],
   "source": [
    "vektor=np.arange(-5,6)\n",
    "print(vektor)\n",
    "print(vektor[0])\n",
    "print(vektor[6])\n",
    "print(vektor[-1])\n",
    "print(vektor[-4])"
   ]
  },
  {
   "cell_type": "code",
   "execution_count": 123,
   "metadata": {},
   "outputs": [
    {
     "name": "stdout",
     "output_type": "stream",
     "text": [
      "[-5 -4 -3 -2 -1  0  1  2  3  4  5]\n",
      "[-5 -4 -3 -2 -1  0  1]\n",
      "[0 1 2 3 4 5]\n",
      "[0 2 4]\n"
     ]
    }
   ],
   "source": [
    "print(vektor)\n",
    "print(vektor[:-4])\n",
    "print(vektor[-6:])\n",
    "print(vektor[-6::2])"
   ]
  },
  {
   "cell_type": "markdown",
   "metadata": {},
   "source": [
    "***"
   ]
  },
  {
   "cell_type": "markdown",
   "metadata": {},
   "source": [
    "Specijalizovane funkcije za rad sa NumPy nizovima koje su upotrebljene u primerima u nastavku navedene su u tabeli."
   ]
  },
  {
   "cell_type": "markdown",
   "metadata": {},
   "source": [
    "|Funkcija|Dejstvo|\n",
    "|:---|:---|\n",
    "|`sort`|Sortira niz u neopadajući|\n",
    "|`argsort`|Vraća niz indeksa koji daju sortiran niz|\n",
    "|`max`|Vraća maksimalnu vrednost niza|\n",
    "|`argmax`|Vraća indeks prvog pojavljivanja maksimalnog elementa niza|\n",
    "|`min`|Vraća minimalnu vrednost niza|\n",
    "|`argmin`|Vraća indeks prvog pojavljivanja minimalnog elementa niza|"
   ]
  },
  {
   "cell_type": "markdown",
   "metadata": {},
   "source": [
    "**Primer 14.** Naredbom `sort` dobijamo niz uređen rastuće. Ukoliko želimo obrnut redosled indeksiranjem preokrećemo."
   ]
  },
  {
   "cell_type": "code",
   "execution_count": 124,
   "metadata": {},
   "outputs": [
    {
     "name": "stdout",
     "output_type": "stream",
     "text": [
      "[ 2 -1  2  1]\n",
      "[-1  1  2  2]\n"
     ]
    },
    {
     "data": {
      "text/plain": [
       "array([ 2,  2,  1, -1])"
      ]
     },
     "execution_count": 124,
     "metadata": {},
     "output_type": "execute_result"
    }
   ],
   "source": [
    "print(v)\n",
    "sv=np.sort(v)\n",
    "print(sv)\n",
    "sv[::-1]"
   ]
  },
  {
   "cell_type": "markdown",
   "metadata": {},
   "source": [
    "Na ovaj način izvršena je fizička promena mesta elementima niza radi njegovog sortiranja. Rastući niz može da se dobije i na osnovu činjenice: \n",
    "> ako je funkcija $f$ rastuća onda je funkcija $-f$ opadajuća, i obrat."
   ]
  },
  {
   "cell_type": "code",
   "execution_count": 125,
   "metadata": {},
   "outputs": [
    {
     "name": "stdout",
     "output_type": "stream",
     "text": [
      "[ 2 -1  2  1]\n",
      "[ 2  2  1 -1]\n"
     ]
    }
   ],
   "source": [
    "print(v)\n",
    "sv=np.sort(-v)\n",
    "print(-sv)"
   ]
  },
  {
   "cell_type": "markdown",
   "metadata": {},
   "source": [
    "Naredba `argsort` vraća redosled indeksa kojim bi polazni niz bio sortiran u rastući."
   ]
  },
  {
   "cell_type": "code",
   "execution_count": 126,
   "metadata": {},
   "outputs": [
    {
     "data": {
      "text/plain": [
       "array([-1,  1,  2,  2])"
      ]
     },
     "execution_count": 126,
     "metadata": {},
     "output_type": "execute_result"
    }
   ],
   "source": [
    "indeksi=np.argsort(v)\n",
    "v[indeksi]"
   ]
  },
  {
   "cell_type": "markdown",
   "metadata": {},
   "source": [
    "Za opadajući redosled elemenata možemo da iskoristimo kod:"
   ]
  },
  {
   "cell_type": "code",
   "execution_count": 127,
   "metadata": {},
   "outputs": [
    {
     "data": {
      "text/plain": [
       "array([ 2,  2,  1, -1])"
      ]
     },
     "execution_count": 127,
     "metadata": {},
     "output_type": "execute_result"
    }
   ],
   "source": [
    "indeksi=np.argsort(-v)\n",
    "v[indeksi]"
   ]
  },
  {
   "cell_type": "code",
   "execution_count": 128,
   "metadata": {},
   "outputs": [
    {
     "data": {
      "text/plain": [
       "9"
      ]
     },
     "execution_count": 128,
     "metadata": {},
     "output_type": "execute_result"
    }
   ],
   "source": [
    "vektor=np.array([-2,1,3,-1,7,-8,9,1,-2])\n",
    "np.max(vektor)"
   ]
  },
  {
   "cell_type": "code",
   "execution_count": 129,
   "metadata": {},
   "outputs": [
    {
     "data": {
      "text/plain": [
       "array([-2, -1,  1])"
      ]
     },
     "execution_count": 129,
     "metadata": {},
     "output_type": "execute_result"
    }
   ],
   "source": [
    "sv[-3:]"
   ]
  },
  {
   "cell_type": "code",
   "execution_count": 130,
   "metadata": {},
   "outputs": [],
   "source": [
    "indeksi=np.argsort(vektor)"
   ]
  },
  {
   "cell_type": "markdown",
   "metadata": {},
   "source": [
    "Maksimalnu vrednost unutar niza ili prvu poziciju pojavljivanja takvog elementa takođe jednostavno dobijamo ugrađenim funkcijama NumPy biblioteke. "
   ]
  },
  {
   "cell_type": "code",
   "execution_count": 131,
   "metadata": {},
   "outputs": [
    {
     "data": {
      "text/plain": [
       "9"
      ]
     },
     "execution_count": 131,
     "metadata": {},
     "output_type": "execute_result"
    }
   ],
   "source": [
    "np.max(vektor)"
   ]
  },
  {
   "cell_type": "code",
   "execution_count": 132,
   "metadata": {},
   "outputs": [
    {
     "data": {
      "text/plain": [
       "6"
      ]
     },
     "execution_count": 132,
     "metadata": {},
     "output_type": "execute_result"
    }
   ],
   "source": [
    "np.argmax(vektor)"
   ]
  },
  {
   "cell_type": "code",
   "execution_count": 133,
   "metadata": {},
   "outputs": [
    {
     "data": {
      "text/plain": [
       "(9, array([-2,  1,  3, -1,  7, -8,  9,  1, -2]))"
      ]
     },
     "execution_count": 133,
     "metadata": {},
     "output_type": "execute_result"
    }
   ],
   "source": [
    "vektor[6] , vektor"
   ]
  },
  {
   "cell_type": "markdown",
   "metadata": {},
   "source": [
    "Ako je potrebno ispisati prvih nekoliko maksimalnih elemenata možemo da iskoristimo sličan ovom u nastavku."
   ]
  },
  {
   "cell_type": "code",
   "execution_count": 134,
   "metadata": {},
   "outputs": [],
   "source": [
    "ind3=indeksi[-3:]"
   ]
  },
  {
   "cell_type": "code",
   "execution_count": 135,
   "metadata": {},
   "outputs": [
    {
     "data": {
      "text/plain": [
       "array([3, 7, 9])"
      ]
     },
     "execution_count": 135,
     "metadata": {},
     "output_type": "execute_result"
    }
   ],
   "source": [
    "vektor[ind3]"
   ]
  },
  {
   "cell_type": "markdown",
   "metadata": {},
   "source": [
    "Na sličan način funkcionišu i naredbe `min` i `argmin`."
   ]
  },
  {
   "cell_type": "markdown",
   "metadata": {},
   "source": [
    "Istovremeno indeksiranje više elemenata možemo da koristimo i za izmenu njihovog sadržaja, ne samo prikaz."
   ]
  },
  {
   "cell_type": "code",
   "execution_count": 136,
   "metadata": {},
   "outputs": [
    {
     "name": "stdout",
     "output_type": "stream",
     "text": [
      "[-2  1  3 -1  7 -8  9  1 -2]\n",
      "[-2  1  3  5  7 -8  9  1 -2]\n"
     ]
    }
   ],
   "source": [
    "print(vektor)\n",
    "vektor[3]=5\n",
    "print(vektor)"
   ]
  },
  {
   "cell_type": "markdown",
   "metadata": {},
   "source": [
    "Prilikom dodele više različitih vrednosti bitno je voditi računa da se slaže broj elemanata na levoj i desnoj strani operatora dodele."
   ]
  },
  {
   "cell_type": "code",
   "execution_count": 137,
   "metadata": {},
   "outputs": [
    {
     "name": "stdout",
     "output_type": "stream",
     "text": [
      "[-2  1  3  5  7 -8  9  1 -2]\n"
     ]
    },
    {
     "ename": "ValueError",
     "evalue": "could not broadcast input array from shape (6,) into shape (4,)",
     "output_type": "error",
     "traceback": [
      "\u001b[1;31m---------------------------------------------------------------------------\u001b[0m",
      "\u001b[1;31mValueError\u001b[0m                                Traceback (most recent call last)",
      "Cell \u001b[1;32mIn[137], line 2\u001b[0m\n\u001b[0;32m      1\u001b[0m \u001b[38;5;28mprint\u001b[39m(vektor)\n\u001b[1;32m----> 2\u001b[0m vektor[\u001b[38;5;241m2\u001b[39m:\u001b[38;5;241m-\u001b[39m\u001b[38;5;241m3\u001b[39m]\u001b[38;5;241m=\u001b[39m[\u001b[38;5;241m2\u001b[39m,\u001b[38;5;241m3\u001b[39m,\u001b[38;5;241m4\u001b[39m,\u001b[38;5;241m1\u001b[39m,\u001b[38;5;241m2\u001b[39m,\u001b[38;5;241m3\u001b[39m]\n\u001b[0;32m      3\u001b[0m \u001b[38;5;28mprint\u001b[39m(vektor)\n",
      "\u001b[1;31mValueError\u001b[0m: could not broadcast input array from shape (6,) into shape (4,)"
     ]
    }
   ],
   "source": [
    "print(vektor)\n",
    "vektor[2:-3]=[2,3,4,1,2,3]\n",
    "print(vektor)"
   ]
  },
  {
   "cell_type": "code",
   "execution_count": 138,
   "metadata": {},
   "outputs": [
    {
     "name": "stdout",
     "output_type": "stream",
     "text": [
      "[ 2  1  2  2  1  2  9  1 -2]\n"
     ]
    }
   ],
   "source": [
    "vektor[0:6]=2*[2,1,2]\n",
    "print(vektor)"
   ]
  },
  {
   "cell_type": "markdown",
   "metadata": {},
   "source": [
    "***"
   ]
  },
  {
   "cell_type": "markdown",
   "metadata": {},
   "source": [
    "**Primer 15.** Strategija \"podeli pa vladaj\" jedna je od najmoćnijih algoritamskih paradigmi za dizajn efikasnih algoritama. Ideja je zasnovana na podeli problema visoke dimenzionalnosti na više problema istog tipa ali niže dimenzionalnosti. Svaki od ovih potproblema može ponovo da se razdvoji u potprobleme, itd. Postupak usitnjavanja sprovodi se do nivoa kada su dobijeni potproblemi dovoljno mali. Rešenje polaznog problema tada se dobija kombinovanjem rešenja potproblema vraćajući se unazad kroz hijerarhiju. Ovu ideju ilustrovaćemo na primeru sume $n+1=2^k$ brojeva, $S=\\displaystyle\\sum_{k=0}^na_k.$ Uobičajen način za izračunavanje sume je akumulacija kroz rekurziju.\n",
    "$$S_0=a_0,\\qquad S_k=S_{k-1}+a_k,\\ k=1,\\dots,n.$$"
   ]
  },
  {
   "cell_type": "code",
   "execution_count": 139,
   "metadata": {},
   "outputs": [],
   "source": [
    "from timeit import default_timer as timer\n",
    "import numpy.random as rndm"
   ]
  },
  {
   "cell_type": "code",
   "execution_count": 140,
   "metadata": {},
   "outputs": [],
   "source": [
    "k=12\n",
    "n=2**k\n",
    "a=rndm.rand(n)  #generisanje 2^k slucajnih brojeva iz opsega [0,1)"
   ]
  },
  {
   "cell_type": "code",
   "execution_count": 141,
   "metadata": {},
   "outputs": [
    {
     "name": "stdout",
     "output_type": "stream",
     "text": [
      "Vreme izvrsenja algoritma:  0.0014368999982252717 sec\n",
      "Suma je:  2055.4250965491105\n"
     ]
    }
   ],
   "source": [
    "start = timer()\n",
    "s=a[0]\n",
    "for i in range(1,n):\n",
    "    s=s+a[i]\n",
    "end = timer()\n",
    "print(\"Vreme izvrsenja algoritma: \",end - start,\"sec\")\n",
    "print(\"Suma je: \",s)"
   ]
  },
  {
   "attachments": {
    "image.png": {
     "image/png": "[encoded data removed]"
    }
   },
   "cell_type": "markdown",
   "metadata": {},
   "source": [
    "Drugi način je sumiranje koje dozvoljava paralelizaciju procesa tako da se čitav postupak odvija u $k$ iteracija. Šema takvog sumiranja data je na primeru $k=3.$\n",
    "<div>\n",
    "   <img src=\"attachment:image.png\" width=\"350\">  \n",
    "</div>"
   ]
  },
  {
   "cell_type": "code",
   "execution_count": 142,
   "metadata": {},
   "outputs": [
    {
     "name": "stdout",
     "output_type": "stream",
     "text": [
      "Vreme izvrsenja algoritma:  0.00020200001017656177 sec\n",
      "Suma je:  [2055.42509655]\n"
     ]
    }
   ],
   "source": [
    "start = timer()\n",
    "s=a.copy()\n",
    "for i in range(k):\n",
    "    s=s[0::2]+s[1::2]\n",
    "end = timer()\n",
    "print(\"Vreme izvrsenja algoritma: \",end - start,\"sec\")\n",
    "print(\"Suma je: \",s)"
   ]
  },
  {
   "cell_type": "markdown",
   "metadata": {},
   "source": [
    "Uočavamo razliku u vremenima izvršenja dva postupka izračunavanja. "
   ]
  },
  {
   "cell_type": "markdown",
   "metadata": {},
   "source": [
    "Proverićemo i vreme izvršenja ugrađene naredbe NumPy biblioteke."
   ]
  },
  {
   "cell_type": "code",
   "execution_count": 143,
   "metadata": {},
   "outputs": [
    {
     "name": "stdout",
     "output_type": "stream",
     "text": [
      "Vreme izvrsenja algoritma:  0.00015589999384246767 sec\n",
      "Suma je:  2055.425096549109\n"
     ]
    }
   ],
   "source": [
    "start = timer()\n",
    "s=np.sum(a)\n",
    "end = timer()\n",
    "print(\"Vreme izvrsenja algoritma: \",end - start,\"sec\")\n",
    "print(\"Suma je: \",s)"
   ]
  },
  {
   "cell_type": "markdown",
   "metadata": {},
   "source": [
    "Ukoliko je potrebno izdvajanje elemenata koji nisu uzastopni, to postižemo navođenjem liste indeksa pod operatorom indeksiranja. Ovakav način indeksiranja je pogodan za zamenu mesta vrednosti elemenata u listi jer ne zahteva upotrebu pomoćnih promenljivih.\n",
    "\n",
    "Podsetimo se da Python dozvoljava istovremenu dodelu vrednosti više promenljivih.\n",
    "Istovremena dodela vrednosti olakšava postupak zamene sadržaja dve ili više promenljivih,\n",
    "jednog ili više delova NumPy niza."
   ]
  },
  {
   "cell_type": "code",
   "execution_count": 144,
   "metadata": {
    "scrolled": true
   },
   "outputs": [
    {
     "name": "stdout",
     "output_type": "stream",
     "text": [
      "[ 0  1  2  3  4  5  6  7  8  9 10]\n",
      "[ 0  1  4  3  2  5  6  7  8  9 10]\n",
      "[ 5  3  4  1  2  0  6  7  8  9 10]\n"
     ]
    }
   ],
   "source": [
    "vektor=np.arange(11)\n",
    "print(vektor)\n",
    "vektor[[2,4]]=vektor[[4,2]]  #istovremena zamena mesta dve vrednosti\n",
    "print(vektor)\n",
    "vektor[[0,1,3,5]]=vektor[[5,3,1,0]] #istovremena zamena mesta više vrednosti\n",
    "print(vektor)"
   ]
  },
  {
   "cell_type": "markdown",
   "metadata": {},
   "source": [
    "***"
   ]
  },
  {
   "cell_type": "markdown",
   "metadata": {},
   "source": [
    "Referenciranje elemenata u višedimenzionalnim nizovima izvodi se na sličan način prikazanom za jednodimenzionalne nizove. Dvodimenzionalni nizovi su niz jednodimenzionalnih nizova pa za njihove pojedinačne elemente koristimo parove indeksa. Osim toga, cele vrste mogu da budu direktno referncirane kao elementi glavnog niza. "
   ]
  },
  {
   "attachments": {
    "image-2.png": {
     "image/png": "[encoded data removed]"
    }
   },
   "cell_type": "markdown",
   "metadata": {},
   "source": [
    "**Primer 16.** Data je matrica dimenzije $3\\times5$ svojim elementima. Šeme indeksiranja vrsta i pojedinačnih elemenata date su na narednoj slici.\n",
    "<div>\n",
    "   <img src=\"attachment:image-2.png\" width=\"700\">  \n",
    "</div>\n",
    "\n",
    "Naredne kodne ćelije pomoći će da upoznamo indeksiranje matrica na primeru matrice dimenzije $3\\times5$."
   ]
  },
  {
   "cell_type": "code",
   "execution_count": 145,
   "metadata": {},
   "outputs": [
    {
     "name": "stdout",
     "output_type": "stream",
     "text": [
      "[[ 1  0  1 -1 -2]\n",
      " [ 2  1 -1  1  0]\n",
      " [ 0  1 -1  2  3]]\n",
      "[ 1  0  1 -1 -2]\n",
      "[ 0  1 -1  2  3]\n"
     ]
    }
   ],
   "source": [
    "matrica=np.array([[1,0,1,-1,-2],[2,1,-1,1,0],[0,1,-1,2,3]])\n",
    "print(matrica)\n",
    "print(matrica[0])           #prva vrsta matrice\n",
    "print(matrica[-1])          #poslednja vrsta matrice"
   ]
  },
  {
   "cell_type": "code",
   "execution_count": 146,
   "metadata": {},
   "outputs": [
    {
     "data": {
      "text/plain": [
       "array([[ 1,  0,  1, -1, -2],\n",
       "       [ 2,  1, -1,  1,  0]])"
      ]
     },
     "execution_count": 146,
     "metadata": {},
     "output_type": "execute_result"
    }
   ],
   "source": [
    "matrica[:2]        #prve dve vrste matrice"
   ]
  },
  {
   "cell_type": "code",
   "execution_count": 147,
   "metadata": {},
   "outputs": [
    {
     "data": {
      "text/plain": [
       "array([[ 1,  0,  1, -1, -2],\n",
       "       [ 0,  1, -1,  2,  3]])"
      ]
     },
     "execution_count": 147,
     "metadata": {},
     "output_type": "execute_result"
    }
   ],
   "source": [
    "matrica[::2]      #vrste matrice sa korakom 2"
   ]
  },
  {
   "cell_type": "code",
   "execution_count": 148,
   "metadata": {},
   "outputs": [
    {
     "data": {
      "text/plain": [
       "array([[ 1,  0,  1, -1, -2],\n",
       "       [ 2,  1, -1,  1,  0],\n",
       "       [ 0,  1, -1,  2,  3],\n",
       "       [ 1,  0,  1, -1, -2],\n",
       "       [ 0,  1, -1,  2,  3],\n",
       "       [ 1,  0,  1, -1, -2]])"
      ]
     },
     "execution_count": 148,
     "metadata": {},
     "output_type": "execute_result"
    }
   ],
   "source": [
    "B=matrica[[0,1,-1,0,2,0]]      #vrste matrice navedenih indeksa\n",
    "B"
   ]
  },
  {
   "cell_type": "code",
   "execution_count": 149,
   "metadata": {},
   "outputs": [
    {
     "data": {
      "text/plain": [
       "array([[ 0,  0,  1, -1, -2],\n",
       "       [ 2,  1, -1,  1,  0],\n",
       "       [ 0,  1, -1,  2,  3],\n",
       "       [ 1,  0,  1, -1, -2],\n",
       "       [ 0,  1, -1,  2,  3],\n",
       "       [ 1,  0,  1, -1, -2]])"
      ]
     },
     "execution_count": 149,
     "metadata": {},
     "output_type": "execute_result"
    }
   ],
   "source": [
    "B[0,0]=0\n",
    "B"
   ]
  },
  {
   "cell_type": "code",
   "execution_count": 150,
   "metadata": {},
   "outputs": [
    {
     "data": {
      "text/plain": [
       "array([[ 1,  0,  1, -1, -2],\n",
       "       [ 2,  1, -1,  1,  0],\n",
       "       [ 0,  1, -1,  2,  3]])"
      ]
     },
     "execution_count": 150,
     "metadata": {},
     "output_type": "execute_result"
    }
   ],
   "source": [
    "matrica"
   ]
  },
  {
   "cell_type": "markdown",
   "metadata": {},
   "source": [
    "Zaključujemo da je $B$ nezavisna kopija delova niza $matrica.$ Prema tome, dodela tipa `niz1=f(niz2)`, gde je `f` neka transformacija (obrada) višeg nivoa,  pravi nezavisne verzije nizova. "
   ]
  },
  {
   "cell_type": "code",
   "execution_count": 151,
   "metadata": {},
   "outputs": [
    {
     "data": {
      "text/plain": [
       "array([[ 0,  1, -1,  2,  3],\n",
       "       [ 1,  0,  1, -1, -2],\n",
       "       [ 2,  1, -1,  1,  0]])"
      ]
     },
     "execution_count": 151,
     "metadata": {},
     "output_type": "execute_result"
    }
   ],
   "source": [
    "C=matrica[[2,0,1]]\n",
    "C"
   ]
  },
  {
   "cell_type": "code",
   "execution_count": 152,
   "metadata": {},
   "outputs": [
    {
     "name": "stdout",
     "output_type": "stream",
     "text": [
      "[[ 6  1 -1  2  3]\n",
      " [ 1  0  1 -1 -2]\n",
      " [ 2  1 -1  1  0]]\n"
     ]
    },
    {
     "data": {
      "text/plain": [
       "array([[ 1,  0,  1, -1, -2],\n",
       "       [ 2,  1, -1,  1,  0],\n",
       "       [ 0,  1, -1,  2,  3]])"
      ]
     },
     "execution_count": 152,
     "metadata": {},
     "output_type": "execute_result"
    }
   ],
   "source": [
    "C[0,0]=6\n",
    "print(C)\n",
    "matrica"
   ]
  },
  {
   "cell_type": "code",
   "execution_count": 153,
   "metadata": {},
   "outputs": [
    {
     "data": {
      "text/plain": [
       "array([[ 1,  0,  1, -1, -2],\n",
       "       [ 0,  1, -1,  2,  3]])"
      ]
     },
     "execution_count": 153,
     "metadata": {},
     "output_type": "execute_result"
    }
   ],
   "source": [
    "C=matrica[::2]\n",
    "C"
   ]
  },
  {
   "cell_type": "code",
   "execution_count": 154,
   "metadata": {},
   "outputs": [
    {
     "name": "stdout",
     "output_type": "stream",
     "text": [
      "[[ 6  0  1 -1 -2]\n",
      " [ 0  1 -1  2  3]]\n"
     ]
    },
    {
     "data": {
      "text/plain": [
       "array([[ 6,  0,  1, -1, -2],\n",
       "       [ 2,  1, -1,  1,  0],\n",
       "       [ 0,  1, -1,  2,  3]])"
      ]
     },
     "execution_count": 154,
     "metadata": {},
     "output_type": "execute_result"
    }
   ],
   "source": [
    "C[0,0]=6\n",
    "print(C)\n",
    "matrica"
   ]
  },
  {
   "cell_type": "markdown",
   "metadata": {},
   "source": [
    "Ova matrica $C$ nije nezavisna kopija matrice $matrica.$"
   ]
  },
  {
   "cell_type": "markdown",
   "metadata": {},
   "source": [
    "Osim toga, vidimo da za indeksiranje pojedinačnih elemenata dvodimenzionanog niza koristimo parove indeksa razdvojene zarezom."
   ]
  },
  {
   "cell_type": "code",
   "execution_count": 155,
   "metadata": {},
   "outputs": [
    {
     "name": "stdout",
     "output_type": "stream",
     "text": [
      "[[ 6  0  1 -1 -2]\n",
      " [ 2  1 -1  1  0]\n",
      " [ 0  1 -1  2  3]]\n"
     ]
    },
    {
     "data": {
      "text/plain": [
       "-1"
      ]
     },
     "execution_count": 155,
     "metadata": {},
     "output_type": "execute_result"
    }
   ],
   "source": [
    "print(matrica)\n",
    "matrica[1,2]         #element matrice na poziciji (2,3)"
   ]
  },
  {
   "cell_type": "code",
   "execution_count": 156,
   "metadata": {},
   "outputs": [
    {
     "name": "stdout",
     "output_type": "stream",
     "text": [
      "[[ 0  0  1 -1 -2]\n",
      " [ 2  1 -1  1  0]\n",
      " [ 0  1 -1  2  3]\n",
      " [ 1  0  1 -1 -2]\n",
      " [ 0  1 -1  2  3]\n",
      " [ 1  0  1 -1 -2]]\n"
     ]
    },
    {
     "data": {
      "text/plain": [
       "2"
      ]
     },
     "execution_count": 156,
     "metadata": {},
     "output_type": "execute_result"
    }
   ],
   "source": [
    "print(B)\n",
    "B[-2,-2]"
   ]
  },
  {
   "cell_type": "markdown",
   "metadata": {},
   "source": [
    "Za izdvajanje podmatrica elemenata (elementi u preseku istaknutih vrsta i kolona) kombinuju se prethodno prikazani načini. "
   ]
  },
  {
   "cell_type": "code",
   "execution_count": 157,
   "metadata": {},
   "outputs": [
    {
     "name": "stdout",
     "output_type": "stream",
     "text": [
      "[[ 6  0  1 -1 -2]\n",
      " [ 2  1 -1  1  0]\n",
      " [ 0  1 -1  2  3]]\n"
     ]
    },
    {
     "data": {
      "text/plain": [
       "array([ 1, -1, -1])"
      ]
     },
     "execution_count": 157,
     "metadata": {},
     "output_type": "execute_result"
    }
   ],
   "source": [
    "print(matrica)\n",
    "matrica[:,2]        #treća kolona matrice"
   ]
  },
  {
   "cell_type": "code",
   "execution_count": 158,
   "metadata": {},
   "outputs": [
    {
     "data": {
      "text/plain": [
       "array([[ 0, -1],\n",
       "       [ 1,  2]])"
      ]
     },
     "execution_count": 158,
     "metadata": {},
     "output_type": "execute_result"
    }
   ],
   "source": [
    "matrica[::2,1::2]   #izdvajanje podmatrice sa indeksima vrsta i kolona [(1,3),(2,4)]"
   ]
  },
  {
   "cell_type": "markdown",
   "metadata": {},
   "source": [
    "Kada indeksi vrsta i kolona ne podležu zakonitostima operatora listanja `:`, izdvajanje elmenata u preseku navedenih indeksa vrsta i indeksa kolona odvija se iz dve etape: najpre izdvajanje vrsta, a zatim u njima izdvajanje kolona (ili obrat)."
   ]
  },
  {
   "cell_type": "code",
   "execution_count": 159,
   "metadata": {},
   "outputs": [
    {
     "name": "stdout",
     "output_type": "stream",
     "text": [
      "[[ 6  0  1 -1 -2]\n",
      " [ 2  1 -1  1  0]\n",
      " [ 0  1 -1  2  3]]\n",
      "[[ 6  0  1 -1 -2]\n",
      " [ 2  1 -1  1  0]]\n",
      "[[ 6  0 -2]\n",
      " [ 2  1  0]\n",
      " [ 0  1  3]]\n"
     ]
    }
   ],
   "source": [
    "print(matrica)\n",
    "vrste=np.array([0,1])\n",
    "kolone=np.array([0,1,4])\n",
    "print(matrica[vrste])\n",
    "print(matrica[:,kolone])"
   ]
  },
  {
   "cell_type": "code",
   "execution_count": 160,
   "metadata": {},
   "outputs": [
    {
     "data": {
      "text/plain": [
       "array([[ 6,  0, -2],\n",
       "       [ 2,  1,  0]])"
      ]
     },
     "execution_count": 160,
     "metadata": {},
     "output_type": "execute_result"
    }
   ],
   "source": [
    "matrica[vrste][:,kolone]"
   ]
  },
  {
   "cell_type": "code",
   "execution_count": 161,
   "metadata": {},
   "outputs": [
    {
     "data": {
      "text/plain": [
       "array([[ 6,  0, -2],\n",
       "       [ 2,  1,  0]])"
      ]
     },
     "execution_count": 161,
     "metadata": {},
     "output_type": "execute_result"
    }
   ],
   "source": [
    "matrica[:,kolone][vrste]"
   ]
  },
  {
   "cell_type": "markdown",
   "metadata": {},
   "source": [
    "Kao i kod jednodimenzionalnih nizova indeksiranje matrica može da se koristi za čitanje i izmenu njenog sadržaja. I ovde je veoma korisna istovremena zamena mesta sadržaja više pozicija unutar matrice."
   ]
  },
  {
   "cell_type": "code",
   "execution_count": 162,
   "metadata": {},
   "outputs": [
    {
     "name": "stdout",
     "output_type": "stream",
     "text": [
      "[[ 6  0  1 -1 -2]\n",
      " [ 2  1 -1  1  0]\n",
      " [ 0  1 -1  2  3]]\n"
     ]
    },
    {
     "data": {
      "text/plain": [
       "array([[ 0,  0,  1, -1,  1],\n",
       "       [ 1,  1, -1,  1, -1],\n",
       "       [ 1,  1, -1,  2, -1]])"
      ]
     },
     "execution_count": 162,
     "metadata": {},
     "output_type": "execute_result"
    }
   ],
   "source": [
    "print(matrica)\n",
    "matrica[:,[0,4]]=matrica[:,[1,2]]   #izmena sadržaja prve i pete kolone upisivanjem druge i treće kolone u njih\n",
    "matrica"
   ]
  },
  {
   "cell_type": "markdown",
   "metadata": {},
   "source": [
    "**Zadatak 1.** Napisati kod za:\n",
    "\n",
    "a) Generisanje promenljive **a** koja je niz brojeva od 0,1,2,...,15. Brojeve ne unositi ručno već koristiti neku od naredbi NumPy modula za automatsko generisanje nizova.\n",
    "\n",
    "b) Generisanje promenljive **b**, na osnovu postojećeg niza **a**, upotrebom operacija nad nizovima (+,-,\\*,/ i slično). Elementi niza **b** glase -3, -1,  1,  3,  5,  7,  9, 11, 13, 15, 17, 19, 21, 23, 25, 27. Uočiti pravilnost (linearna je) i iskoristiti je za kreiranje niza **b**.\n",
    "\n",
    "c) Generisanje vektora **cb** centriranih vrednosti niza **b**.\n",
    "\n",
    "d) Indeksiranjem promeniti sadržaj vektora **a** prema sledećem pravilu:\n",
    "$$[0\\ 1\\ 2\\ 3\\ 4\\ 5\\ 6\\ 7\\ 8\\ 9\\ 10\\ 11\\ 12\\ 13\\ 14\\ 15]\\ \\mapsto\\ [0\\ 1\\ 2\\ 3\\ 4\\ 5\\ -1\\ 2\\ -1\\ 2\\ 10\\ 11\\ 0\\ 0\\ 0\\ 0]$$"
   ]
  },
  {
   "cell_type": "code",
   "execution_count": 163,
   "metadata": {},
   "outputs": [
    {
     "data": {
      "text/plain": [
       "array([ 0,  1,  2,  3,  4,  5,  6,  7,  8,  9, 10, 11, 12, 13, 14, 15])"
      ]
     },
     "execution_count": 163,
     "metadata": {},
     "output_type": "execute_result"
    }
   ],
   "source": [
    "a=np.arange(16)\n",
    "a"
   ]
  },
  {
   "cell_type": "code",
   "execution_count": 164,
   "metadata": {},
   "outputs": [
    {
     "data": {
      "text/plain": [
       "array([-3, -1,  1,  3,  5,  7,  9, 11, 13, 15, 17, 19, 21, 23, 25, 27])"
      ]
     },
     "execution_count": 164,
     "metadata": {},
     "output_type": "execute_result"
    }
   ],
   "source": [
    "b=2*a-3\n",
    "b"
   ]
  },
  {
   "cell_type": "code",
   "execution_count": 165,
   "metadata": {},
   "outputs": [
    {
     "data": {
      "text/plain": [
       "array([-15., -13., -11.,  -9.,  -7.,  -5.,  -3.,  -1.,   1.,   3.,   5.,\n",
       "         7.,   9.,  11.,  13.,  15.])"
      ]
     },
     "execution_count": 165,
     "metadata": {},
     "output_type": "execute_result"
    }
   ],
   "source": [
    "mu=b.mean()\n",
    "cb=b-mu\n",
    "cb"
   ]
  },
  {
   "cell_type": "code",
   "execution_count": 166,
   "metadata": {},
   "outputs": [
    {
     "data": {
      "text/plain": [
       "array([ 0,  1,  2,  3,  4,  5, -1,  2, -1,  2, 10, 11, 12, 13, 14, 15])"
      ]
     },
     "execution_count": 166,
     "metadata": {},
     "output_type": "execute_result"
    }
   ],
   "source": [
    "a[6:10]=2*[-1,2]\n",
    "a"
   ]
  },
  {
   "cell_type": "code",
   "execution_count": 167,
   "metadata": {},
   "outputs": [
    {
     "data": {
      "text/plain": [
       "array([ 0,  1,  2,  3,  4,  5, -1,  2, -1,  2, 10, 11,  0,  0,  0,  0])"
      ]
     },
     "execution_count": 167,
     "metadata": {},
     "output_type": "execute_result"
    }
   ],
   "source": [
    "a[-4:]=4*[0]\n",
    "a"
   ]
  },
  {
   "cell_type": "markdown",
   "metadata": {},
   "source": [
    "**Zadatak 2.** Употребом индексирања креирати матрицу $A$ димензије $8\\times8$ са јединицама на ивицама и нулама свуда другде, тј.\n",
    "$$A=\\begin{bmatrix}1&1&1&\\dots&1&1&1\\\\1&0&0&\\dots&0&0&1\\\\1&0&0&\\dots&0&0&1\\\\\\vdots&\\vdots&\\vdots& &\\vdots&\\vdots&\\vdots\\\\\n",
    "1&0&0&\\dots&0&0&1\\\\1&0&0&\\dots&0&0&1\\\\1&1&1&\\dots&1&1&1\n",
    "\\end{bmatrix}.$$"
   ]
  },
  {
   "cell_type": "code",
   "execution_count": 168,
   "metadata": {},
   "outputs": [
    {
     "data": {
      "text/plain": [
       "array([[1., 1., 1., 1., 1., 1., 1., 1.],\n",
       "       [1., 0., 0., 0., 0., 0., 0., 1.],\n",
       "       [1., 0., 0., 0., 0., 0., 0., 1.],\n",
       "       [1., 0., 0., 0., 0., 0., 0., 1.],\n",
       "       [1., 0., 0., 0., 0., 0., 0., 1.],\n",
       "       [1., 0., 0., 0., 0., 0., 0., 1.],\n",
       "       [1., 0., 0., 0., 0., 0., 0., 1.],\n",
       "       [1., 1., 1., 1., 1., 1., 1., 1.]])"
      ]
     },
     "execution_count": 168,
     "metadata": {},
     "output_type": "execute_result"
    }
   ],
   "source": [
    "A=np.ones((8,8))\n",
    "A[1:-1,1:-1]=0\n",
    "A"
   ]
  },
  {
   "cell_type": "markdown",
   "metadata": {},
   "source": [
    "**Zadatak 3.** Индексирањем креирати матрицу $B$ димензије $8\\times8$ са цик-цак распоредом нула и јединица, тј.\n",
    "$$B=\\begin{bmatrix}1&0&1&\\dots&0&1&0\\\\0&1&0&\\dots&1&0&1\\\\1&0&1&\\dots&0&1&0\\\\\\vdots&\\vdots&\\vdots& &\\vdots&\\vdots&\\vdots\\\\\n",
    "0&1&0&\\dots&1&0&1\\\\1&0&1&\\dots&0&1&0\\\\0&1&0&\\dots&1&0&1\n",
    "\\end{bmatrix}.$$"
   ]
  },
  {
   "cell_type": "code",
   "execution_count": 169,
   "metadata": {},
   "outputs": [
    {
     "data": {
      "text/plain": [
       "array([[0., 1., 0., 1., 0., 1., 0., 1.],\n",
       "       [1., 0., 1., 0., 1., 0., 1., 0.],\n",
       "       [0., 1., 0., 1., 0., 1., 0., 1.],\n",
       "       [1., 0., 1., 0., 1., 0., 1., 0.],\n",
       "       [0., 1., 0., 1., 0., 1., 0., 1.],\n",
       "       [1., 0., 1., 0., 1., 0., 1., 0.],\n",
       "       [0., 1., 0., 1., 0., 1., 0., 1.],\n",
       "       [1., 0., 1., 0., 1., 0., 1., 0.]])"
      ]
     },
     "execution_count": 169,
     "metadata": {},
     "output_type": "execute_result"
    }
   ],
   "source": [
    "B=np.ones((8,8))\n",
    "B[::2,::2]=0\n",
    "B[1::2,1::2]=0\n",
    "B"
   ]
  },
  {
   "cell_type": "markdown",
   "metadata": {},
   "source": [
    "**Zadatak 4.** Neka je $\\varepsilon_n=e^{i\\frac{2\\pi}{n}},$ gde je $n=2^m,\\ m\\in\\mathbb{N}.$ Za dati vektor vrednosti $$v=\\begin{bmatrix}1&\\varepsilon_n&\\varepsilon_n^2&\\dots&\\varepsilon_n^{n/2-1}\\end{bmatrix},$$ koristeći operator indeksiranja izdvojiti elemente ovog vektora prema pravilu:\n",
    "$$u=\\begin{bmatrix}1&\\varepsilon_r&\\varepsilon_r^{2}&\\dots&\\varepsilon_r^{r/2-1}\\end{bmatrix},\\quad r=2^q,\\ q=\\overline{1,m}.$$"
   ]
  },
  {
   "cell_type": "markdown",
   "metadata": {},
   "source": [
    "**Rešenje :**\n",
    "\n",
    "Napravićemo vektore $v$ i $u$ za neke konkretne, male vrednosti parametara $m$ i $q.$ Menjanjem $q=\\overline{1,m}$ kroz grafički prikaz možemo da potvrdimo detaljnu analizu datu u nastavku."
   ]
  },
  {
   "cell_type": "code",
   "execution_count": 170,
   "metadata": {},
   "outputs": [
    {
     "data": {
      "text/plain": [
       "(32,)"
      ]
     },
     "execution_count": 170,
     "metadata": {},
     "output_type": "execute_result"
    }
   ],
   "source": [
    "m=6\n",
    "n=2**m\n",
    "fi=2*np.pi/n\n",
    "epsl=np.exp(fi*1j)\n",
    "v=epsl**np.arange(n/2)\n",
    "v.shape"
   ]
  },
  {
   "cell_type": "code",
   "execution_count": 171,
   "metadata": {},
   "outputs": [
    {
     "data": {
      "image/png": "[encoded data removed]",
      "text/plain": [
       "<Figure size 600x300 with 1 Axes>"
      ]
     },
     "metadata": {},
     "output_type": "display_data"
    }
   ],
   "source": [
    "plt.figure(figsize= (6,3))\n",
    "plt.plot(np.real(v),np.imag(v),'o')\n",
    "plt.title(\"Elementi vektora v u kompleksnoj ravni\");"
   ]
  },
  {
   "cell_type": "markdown",
   "metadata": {},
   "source": [
    "Zamenom vrednosti $q$ u nastavku možemo da pratimo ponašanje elemenata podniza $u.$"
   ]
  },
  {
   "cell_type": "code",
   "execution_count": 172,
   "metadata": {},
   "outputs": [
    {
     "data": {
      "text/plain": [
       "(4,)"
      ]
     },
     "execution_count": 172,
     "metadata": {},
     "output_type": "execute_result"
    }
   ],
   "source": [
    "q=3\n",
    "r=2**q\n",
    "psi=2*np.pi/r\n",
    "epsr=np.exp(psi*1j)\n",
    "u=epsr**np.arange(r/2)\n",
    "u.shape"
   ]
  },
  {
   "cell_type": "code",
   "execution_count": 173,
   "metadata": {},
   "outputs": [
    {
     "data": {
      "image/png": "[encoded data removed]",
      "text/plain": [
       "<Figure size 600x300 with 1 Axes>"
      ]
     },
     "metadata": {},
     "output_type": "display_data"
    }
   ],
   "source": [
    "plt.figure(figsize= (6,3))\n",
    "plt.plot(np.real(v),np.imag(v),'ob',label='v')\n",
    "plt.plot(np.real(u),np.imag(u),'og',label='u')\n",
    "plt.title(\"Elementi vektora v i u u kompleksnoj ravni\")\n",
    "plt.legend(loc='lower center', title='legenda');"
   ]
  },
  {
   "cell_type": "markdown",
   "metadata": {},
   "source": [
    "Primetimo da je\n",
    "$$\\varepsilon_r=e^{i\\frac{2\\pi}{r}}=e^{i\\frac{2\\pi}{2^q}}=e^{i\\frac{2\\pi}{2^{q-m+m}}}=e^{i\\frac{2\\pi}{2^m}2^{m-q}}\n",
    "=\\left(e^{i\\frac{2\\pi}{2^m}}\\right)^{2^{m-q}}=\\varepsilon_m^{2^{m-q}}.$$\n",
    "Zbog toga, izdvajanje elemenata $\\begin{bmatrix}1&\\varepsilon_r&\\varepsilon_r^{2}&\\dots&\\varepsilon_r^{r/2-1}\\end{bmatrix},\\quad r=2^q,\\ q=\\overline{1,m}$ znači izdvajanje elemenata vektora $v$ sa indeksima $\\begin{bmatrix}0&2^{m-q}&2\\cdot2^{m-q}&\\dots&(r/2-1)2^{m-q}\\end{bmatrix},\\quad r=2^q,\\ q=\\overline{1,m}.$ Narednim kodom se to postiže."
   ]
  },
  {
   "cell_type": "code",
   "execution_count": 174,
   "metadata": {},
   "outputs": [
    {
     "data": {
      "image/png": "[encoded data removed]",
      "text/plain": [
       "<Figure size 600x300 with 1 Axes>"
      ]
     },
     "metadata": {},
     "output_type": "display_data"
    }
   ],
   "source": [
    "m=6\n",
    "q=1\n",
    "n=2**m\n",
    "fi=2*np.pi/n\n",
    "epsl=np.exp(fi*1j)\n",
    "v=epsl**np.arange(n/2)\n",
    "\n",
    "indeksi=np.arange(2**(q-1))*(2**(m-q))\n",
    "uindks=v[indeksi]\n",
    "plt.figure(figsize= (6,3))\n",
    "plt.plot(np.real(v),np.imag(v),'ob',label='v')\n",
    "plt.plot(np.real(uindks),np.imag(uindks),'og',label='u')\n",
    "plt.title(\"Elementi vektora v i u u kompleksnoj ravni\")\n",
    "plt.legend(loc='lower center', title='legenda');"
   ]
  },
  {
   "cell_type": "markdown",
   "metadata": {},
   "source": [
    "***"
   ]
  }
 ],
 "metadata": {
  "kernelspec": {
   "display_name": "Python 3 (ipykernel)",
   "language": "python",
   "name": "python3"
  },
  "language_info": {
   "codemirror_mode": {
    "name": "ipython",
    "version": 3
   },
   "file_extension": ".py",
   "mimetype": "text/x-python",
   "name": "python",
   "nbconvert_exporter": "python",
   "pygments_lexer": "ipython3",
   "version": "3.11.5"
  }
 },
 "nbformat": 4,
 "nbformat_minor": 4
}
