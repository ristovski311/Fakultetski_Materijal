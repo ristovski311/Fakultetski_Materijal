{
 "cells": [
  {
   "cell_type": "markdown",
   "metadata": {},
   "source": [
    "# Moduli u Pythonu     "
   ]
  },
  {
   "cell_type": "markdown",
   "metadata": {},
   "source": [
    "Python je programski jezik visokog nivoa, opšte namene. Jupiter predstavlja integrisano programsko okruženje koje može da se koristi kako za razvoj aplikacija tako i za interaktivna izračunavanja. Osnovna ideja dizajna ovog programskog okruženja  jeste preglednost i čitljivost koda. Zbog toga kodne ćelije karakteriše veliki beli (prazan) prostor. Python se koristi za razvoj kako kratkih projekata, tako i projekata velikog obima. Zbog toga je distribucija funkcionalnih jedinica jedna od karakteristika ovog jezika. "
   ]
  },
  {
   "cell_type": "markdown",
   "metadata": {},
   "source": [
    "[Standardna Python biblioteka](https://docs.python.org/3/library/index.html) nudi veliku funkcionalnost potrebnu za uobičajene programske zadatke. Ogromna dodatna funkcionalnost uskladištena je u posebnim Python bibliotekama - [modulima](https://docs.python.org/3/py-modindex.html). Modul u Pythonu označava dokument koji sadrži unpred definisane funkcije koje se mogu koristiti u drugim programima. Da bismo pristupili sadržaju modula i aktivirali ga za upotrebu moramo da ga eksplicino uvezemo. Za pristup bibliotekama i modulima služe [import](https://chrisyeh96.github.io/2017/08/08/definitive-guide-python-imports.html#what-is-an-import) iskazi. Njima se mogu uvesti pojedinačne funkcije ili čitavi moduli. Za lakše razumevanje modula u Python-u možete pogledati kratak [video](https://www.youtube.com/watch?v=GCLHuPBtLdQ&feature=emb_title) na engleskom.\n",
    "\n",
    "Postoji više načina da se pristupi sadržaju Python modula. Modul **math** sadrži osnovne matematičke funkcije i konstante. Na primeru njega prikazaćemo različite import iskaze."
   ]
  },
  {
   "cell_type": "markdown",
   "metadata": {},
   "source": [
    "***"
   ]
  },
  {
   "cell_type": "markdown",
   "metadata": {},
   "source": [
    "### Učitavanje sadržaja čitavog modula\n",
    "\n",
    "Najčešće u upotrebi je učitavanje sadržaja modula u formatu:\n",
    "```python\n",
    "import ime_modula\n",
    "```\n",
    "Tada je svaki poziv sadržaja iz učitanog modula oblika:\n",
    "```python\n",
    "ime_modula.ime_funkcije\n",
    "ime_modula.ime_konstante\n",
    "```"
   ]
  },
  {
   "cell_type": "code",
   "execution_count": 1,
   "metadata": {},
   "outputs": [],
   "source": [
    "import math"
   ]
  },
  {
   "cell_type": "code",
   "execution_count": 2,
   "metadata": {},
   "outputs": [
    {
     "data": {
      "text/plain": [
       "0.8912073600614354"
      ]
     },
     "execution_count": 2,
     "metadata": {},
     "output_type": "execute_result"
    }
   ],
   "source": [
    "math.sin(1.1)"
   ]
  },
  {
   "cell_type": "code",
   "execution_count": 3,
   "metadata": {},
   "outputs": [
    {
     "data": {
      "text/plain": [
       "3.141592653589793"
      ]
     },
     "execution_count": 3,
     "metadata": {},
     "output_type": "execute_result"
    }
   ],
   "source": [
    "math.pi"
   ]
  },
  {
   "cell_type": "markdown",
   "metadata": {},
   "source": [
    "Preporuka je da se ovakav direktan način učitavanja modula koristi dok se ne naviknete na programiranje u Pythonu i ne steknete dovoljno iskustva u radu sa modulima. Direktno učitavanje je naročito korisno kada se koriste funkcije dva ili više modula istovremeno, pa može doći do koalizije zbog istih imena različito implementiranih funkcija. Npr. kada se importuje NumPy modul, importovanje Math modula nije potrebno. Može doći do koalizije osnovnih matematičkih funkcija iz ova dva modula.\n",
    "\n",
    "Jedan od nedostataka ovakvog načina uvoza je svakako dužina ispisa prilikom poziva funkcija. Postoji mogućnost definisanja skraćenog imena modula koje bi se koristilo u nastavku kodiranja umesto punog imena modula. To se postiže sledećom konstrukcijom.\n",
    "```python\n",
    "import ime_modula as novo_ime\n",
    "```\n",
    "\n",
    "Ovo predstavlja način koji ćemo da koristimo kroz radne sveske."
   ]
  },
  {
   "cell_type": "code",
   "execution_count": 1,
   "metadata": {},
   "outputs": [],
   "source": [
    "import math as m"
   ]
  },
  {
   "cell_type": "code",
   "execution_count": 2,
   "metadata": {},
   "outputs": [
    {
     "data": {
      "text/plain": [
       "0.1411200080598672"
      ]
     },
     "execution_count": 2,
     "metadata": {},
     "output_type": "execute_result"
    }
   ],
   "source": [
    "m.sin(3)"
   ]
  },
  {
   "cell_type": "code",
   "execution_count": 6,
   "metadata": {},
   "outputs": [
    {
     "data": {
      "text/plain": [
       "3.141592653589793"
      ]
     },
     "execution_count": 6,
     "metadata": {},
     "output_type": "execute_result"
    }
   ],
   "source": [
    "m.pi"
   ]
  },
  {
   "cell_type": "code",
   "execution_count": 7,
   "metadata": {},
   "outputs": [
    {
     "data": {
      "text/plain": [
       "0.125"
      ]
     },
     "execution_count": 7,
     "metadata": {},
     "output_type": "execute_result"
    }
   ],
   "source": [
    "m.pow(2,-3)  #pow(x,y)=x**y"
   ]
  },
  {
   "cell_type": "code",
   "execution_count": 1,
   "metadata": {},
   "outputs": [],
   "source": [
    "lista=[1,2,3,1,1,0,2]"
   ]
  },
  {
   "cell_type": "code",
   "execution_count": 2,
   "metadata": {},
   "outputs": [
    {
     "name": "stdout",
     "output_type": "stream",
     "text": [
      "suma= 10 , srednja vrednost= 1.4285714285714286\n"
     ]
    }
   ],
   "source": [
    "s=sum(lista)        #zbir članova liste\n",
    "n=len(lista)        #dužina liste, tj. broj elemenata liste\n",
    "srednja_vrednost=s/n\n",
    "print('suma=',s,', srednja vrednost=',srednja_vrednost)"
   ]
  },
  {
   "cell_type": "code",
   "execution_count": 6,
   "metadata": {},
   "outputs": [
    {
     "ename": "TypeError",
     "evalue": "must be real number, not list",
     "output_type": "error",
     "traceback": [
      "\u001b[1;31m---------------------------------------------------------------------------\u001b[0m",
      "\u001b[1;31mTypeError\u001b[0m                                 Traceback (most recent call last)",
      "\u001b[1;32m<ipython-input-6-826c71bddb47>\u001b[0m in \u001b[0;36m<module>\u001b[1;34m\u001b[0m\n\u001b[1;32m----> 1\u001b[1;33m \u001b[0mm\u001b[0m\u001b[1;33m.\u001b[0m\u001b[0mcos\u001b[0m\u001b[1;33m(\u001b[0m\u001b[0mlista\u001b[0m\u001b[1;33m)\u001b[0m\u001b[1;33m\u001b[0m\u001b[1;33m\u001b[0m\u001b[0m\n\u001b[0m",
      "\u001b[1;31mTypeError\u001b[0m: must be real number, not list"
     ]
    }
   ],
   "source": [
    "m.cos(lista)"
   ]
  },
  {
   "cell_type": "markdown",
   "metadata": {},
   "source": [
    "Još jedan metod uvoza celokupnog sadržaja modula je:\n",
    "```python\n",
    "from ime_modula import *\n",
    "```"
   ]
  },
  {
   "cell_type": "code",
   "execution_count": 10,
   "metadata": {},
   "outputs": [],
   "source": [
    "from math import *"
   ]
  },
  {
   "cell_type": "code",
   "execution_count": 11,
   "metadata": {},
   "outputs": [
    {
     "data": {
      "text/plain": [
       "1.2246467991473532e-16"
      ]
     },
     "execution_count": 11,
     "metadata": {},
     "output_type": "execute_result"
    }
   ],
   "source": [
    "sin(pi)"
   ]
  },
  {
   "cell_type": "code",
   "execution_count": 12,
   "metadata": {},
   "outputs": [
    {
     "data": {
      "text/plain": [
       "3.141592653589793"
      ]
     },
     "execution_count": 12,
     "metadata": {},
     "output_type": "execute_result"
    }
   ],
   "source": [
    "pi"
   ]
  },
  {
   "cell_type": "markdown",
   "metadata": {},
   "source": [
    "Primećujemo da se u ovom slučaju uvoza prilikom poziva funkcija ili konstanti izostavlja ime samog modula. \n",
    "\n",
    "Predstavljeni format može se koristiti i kod uvoza pojedinačnih elemenata modula.\n",
    "\n",
    "\n",
    "```python\n",
    "from ime_modula import ime1, ime2,...\n",
    "```\n",
    "\n",
    "```python\n",
    "from ime_modula import ime1 as novo_ime\n",
    "```"
   ]
  },
  {
   "cell_type": "code",
   "execution_count": 13,
   "metadata": {},
   "outputs": [],
   "source": [
    "from math import atan, exp, pi, e"
   ]
  },
  {
   "cell_type": "code",
   "execution_count": 14,
   "metadata": {},
   "outputs": [
    {
     "data": {
      "text/plain": [
       "2.718281828459045"
      ]
     },
     "execution_count": 14,
     "metadata": {},
     "output_type": "execute_result"
    }
   ],
   "source": [
    "e"
   ]
  },
  {
   "cell_type": "code",
   "execution_count": 15,
   "metadata": {},
   "outputs": [],
   "source": [
    "r=atan(1)"
   ]
  },
  {
   "cell_type": "code",
   "execution_count": 16,
   "metadata": {},
   "outputs": [
    {
     "data": {
      "text/plain": [
       "45.0"
      ]
     },
     "execution_count": 16,
     "metadata": {},
     "output_type": "execute_result"
    }
   ],
   "source": [
    "r*180/pi"
   ]
  },
  {
   "cell_type": "code",
   "execution_count": 17,
   "metadata": {},
   "outputs": [
    {
     "data": {
      "text/plain": [
       "7.38905609893065"
      ]
     },
     "execution_count": 17,
     "metadata": {},
     "output_type": "execute_result"
    }
   ],
   "source": [
    "exp(2)"
   ]
  },
  {
   "cell_type": "code",
   "execution_count": 18,
   "metadata": {},
   "outputs": [],
   "source": [
    "from math import log as logaritam"
   ]
  },
  {
   "cell_type": "code",
   "execution_count": 19,
   "metadata": {},
   "outputs": [
    {
     "data": {
      "text/plain": [
       "0.0"
      ]
     },
     "execution_count": 19,
     "metadata": {},
     "output_type": "execute_result"
    }
   ],
   "source": [
    "logaritam(1)"
   ]
  },
  {
   "cell_type": "code",
   "execution_count": 20,
   "metadata": {},
   "outputs": [],
   "source": [
    "from math import sqrt as koren"
   ]
  },
  {
   "cell_type": "code",
   "execution_count": 21,
   "metadata": {},
   "outputs": [
    {
     "data": {
      "text/plain": [
       "2.0"
      ]
     },
     "execution_count": 21,
     "metadata": {},
     "output_type": "execute_result"
    }
   ],
   "source": [
    "koren(4)"
   ]
  },
  {
   "cell_type": "markdown",
   "metadata": {},
   "source": [
    "Biblioteke i moduli koje ćemo koristiti stalno tokom kursa su:\n",
    "1. [SciPy](https://www.scipy.org/docs.html) - biblioteka modula za matematičku i inženjersku primenu. Od posebnog značaja su njeni sledeći delovi:  \n",
    "    1. [Matplotlib](https://matplotlib.org/) - biblioteka modula za grafički prikaz.\n",
    "    2. [NumPy](https://numpy.org/doc/stable/) - osnovni modul za numerička izračunavanja u Python-u. \n",
    "\n",
    "\n",
    "Moduli koje ćemo povremeno koristiti su:\n",
    "1. [SymPy](https://docs.sympy.org/latest/tutorial/index.html) - modul za simbolička izračunavanja.\n",
    "5. [timeit](https://docs.python.org/2/library/timeit.html) - modul za merenje vremena izvršenja dela programskog koda.\n",
    "2. [random](https://docs.python.org/3/library/random.html) - generatori pseudo nasumičnih brojeva različitih distribucija.\n",
    "\n",
    "Kratak tutorijal za math i random module može biti sledeći [video](https://www.youtube.com/watch?v=SGVgAV0v-Ww). Primeri nekih dodatnih matematičkih modula mogu se naći na sledećem [linku](https://docs.python.org/3/library/numeric.html) ili u [Global Module Index](https://docs.python.org/3.6/py-modindex.html).\n"
   ]
  },
  {
   "cell_type": "markdown",
   "metadata": {},
   "source": [
    "Активацијом кодних ћелија у наставку наведени модули ће бити доступни за учитавање и коришћење."
   ]
  },
  {
   "cell_type": "code",
   "execution_count": null,
   "metadata": {},
   "outputs": [],
   "source": [
    "!pip install numpy"
   ]
  },
  {
   "cell_type": "code",
   "execution_count": null,
   "metadata": {},
   "outputs": [],
   "source": [
    "!pip install scipy"
   ]
  },
  {
   "cell_type": "code",
   "execution_count": null,
   "metadata": {},
   "outputs": [],
   "source": [
    "!pip install matplotlib"
   ]
  },
  {
   "cell_type": "code",
   "execution_count": null,
   "metadata": {},
   "outputs": [],
   "source": [
    "!pip install sympy"
   ]
  },
  {
   "cell_type": "markdown",
   "metadata": {},
   "source": [
    "***"
   ]
  }
 ],
 "metadata": {
  "kernelspec": {
   "display_name": "Python 3 (ipykernel)",
   "language": "python",
   "name": "python3"
  },
  "language_info": {
   "codemirror_mode": {
    "name": "ipython",
    "version": 3
   },
   "file_extension": ".py",
   "mimetype": "text/x-python",
   "name": "python",
   "nbconvert_exporter": "python",
   "pygments_lexer": "ipython3",
   "version": "3.11.5"
  }
 },
 "nbformat": 4,
 "nbformat_minor": 4
}
