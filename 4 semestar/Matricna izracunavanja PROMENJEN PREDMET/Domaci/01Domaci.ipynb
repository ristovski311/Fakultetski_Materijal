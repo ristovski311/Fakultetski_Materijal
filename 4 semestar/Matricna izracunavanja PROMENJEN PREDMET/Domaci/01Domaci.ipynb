{
 "cells": [
  {
   "cell_type": "markdown",
   "metadata": {},
   "source": [
    "# Матрична израчунавања 2024\n",
    "## Домаћи задатак број 1"
   ]
  },
  {
   "cell_type": "markdown",
   "metadata": {},
   "source": [
    "<div class=\"alert alert-block alert-danger\">\n",
    "<b>Име и презиме студента:</b>\n",
    "\n",
    "<b>Број индекса:</b>\n",
    "    \n",
    "</div>    "
   ]
  },
  {
   "cell_type": "markdown",
   "metadata": {},
   "source": [
    "<div class=\"alert alert-block alert-info\">\n",
    "<b>Упутство за израду и предају домаћег задатака: </b> \n",
    "    \n",
    "    1. Пре почетка израде промените име датотеке у 01Domaci_Ime_Prezime. (убаците своје име и презиме) \n",
    "    2. Попуните ћелију испод наслова одговарајућим подацима. \n",
    "    1. Употреба ћирилице није обавезна за предају домаћег задатка.\n",
    "    3. Активирати ћелију за учитавање модула.\n",
    "    4. За решавање задатака, уколико је потребно, отворите испод текста задатка додатне ћелије за уписивање текстуалног одговора (Markdown) или програмског кода (Code).\n",
    "    1. Сва израчунавања, уколико је потребно, вршити у Python-у.\n",
    "    5. Након завршетка израде решења домаћег Notebook документ сачувати у pdf формату и проследити га наставнику. То можете да урадите или кроз Teams или на мејл адресу jovana.dzunic@elfak.ni.ac.rs\n",
    "\n",
    "</div> "
   ]
  },
  {
   "cell_type": "code",
   "execution_count": 2,
   "metadata": {},
   "outputs": [],
   "source": [
    "import numpy as np\n",
    "import numpy.random as rndm\n",
    "import matplotlib as mplb\n",
    "import matplotlib.pyplot as plt\n",
    "from timeit import default_timer as timer"
   ]
  },
  {
   "cell_type": "markdown",
   "metadata": {},
   "source": [
    "**Задатак 1.** Ако је $\\|\\cdot\\|$ норма на векторском простору $V,$ показати да је и $\\alpha\\|\\cdot\\|,\\ \\alpha>0$ још једна норма на $V.$\n",
    "\n",
    "(5 поена)"
   ]
  },
  {
   "cell_type": "markdown",
   "metadata": {},
   "source": [
    "**Решење :**\n"
   ]
  },
  {
   "cell_type": "code",
   "execution_count": null,
   "metadata": {},
   "outputs": [],
   "source": []
  },
  {
   "cell_type": "markdown",
   "metadata": {},
   "source": [
    "**Задатак 2.** а) Написати програмску секвенцу за рачунање факторијела $n!$ **природног броја** $n\\in\\mathbb{N}$ користећи `for` петљу. За вредност $n$ користити опцију корисничког уноса вредности `input`. Скицирати график функције на сегменту $[6,12].$\n",
    "\n",
    "(4 поена)"
   ]
  },
  {
   "cell_type": "code",
   "execution_count": null,
   "metadata": {},
   "outputs": [],
   "source": []
  },
  {
   "cell_type": "markdown",
   "metadata": {},
   "source": [
    "б) Написати програмску секвенцу за рачунање уопштеног факторијела $x!$ **позитивног броја** $x\\in\\mathbb{R}^+$ користећи `while` петљу. За вредност $x$ користити опцију корисничког уноса вредности `input`. Уопштени факторијел је функција \n",
    "$$x!=\\begin{cases}x,&x\\in(0,1],\\\\ x\\cdot(x-1)!,&x>1.\\end{cases}$$\n",
    "Скицирати график функције на сегменту $[3.6,8.12].$\n",
    "\n",
    "(6 поена)"
   ]
  },
  {
   "cell_type": "code",
   "execution_count": null,
   "metadata": {},
   "outputs": [],
   "source": []
  },
  {
   "cell_type": "markdown",
   "metadata": {},
   "source": [
    "**Задатак 3.** Направити специјалну операцију множења две матрице димензија $5\\times5.$ У двема матрицама се множе парови елемената на означеним позиицијама са слике, а затиме се добијени производи саберу. Позиције елемената који учествују у операцији означени су сивом бојом."
   ]
  },
  {
   "attachments": {
    "image.png": {
     "image/png": "[encoded data removed]"
    }
   },
   "cell_type": "markdown",
   "metadata": {},
   "source": [
    "<div>\n",
    "   <img src=\"attachment:image.png\" width=\"150\">  \n",
    "</div>"
   ]
  },
  {
   "cell_type": "markdown",
   "metadata": {},
   "source": [
    "Операцију треба што ефикасније реализовати. То значи што мање кода и да код има карактеристику скалирања. Другим речима да може лако да се преведе за случај матрице произвољне непарне димензије.\n",
    "\n",
    "(5 поена)"
   ]
  },
  {
   "cell_type": "code",
   "execution_count": null,
   "metadata": {},
   "outputs": [],
   "source": []
  },
  {
   "cell_type": "markdown",
   "metadata": {},
   "source": [
    "**Задатак 4.** а) Креирати матрицу $A$ (NumPy низ) димензије $20\\times20$ са јединицама на дијагонали и контра-дијагонали. Циљ је користири што мање кода.\n",
    "$$A=\\begin{bmatrix}1&0&0&\\dots&0&0&1\\\\0&1&0&\\dots&0&1&0\\\\0&0&1&\\dots&1&0&0\\\\\\vdots&\\vdots&\\vdots& &\\vdots&\\vdots&\\vdots\\\\\n",
    "0&0&1&\\dots&1&0&0\\\\0&1&0&\\dots&0&1&0\\\\1&0&0&\\dots&0&0&1\n",
    "\\end{bmatrix}.$$\n",
    "\n",
    "(5 поена)"
   ]
  },
  {
   "cell_type": "code",
   "execution_count": null,
   "metadata": {},
   "outputs": [],
   "source": []
  },
  {
   "cell_type": "markdown",
   "metadata": {},
   "source": [
    "б) Како би изгледало решење истог проблема када је димензија матрице $A$ непаран број, нпр. $21?$\n",
    "\n",
    "(5 поена)"
   ]
  },
  {
   "cell_type": "code",
   "execution_count": null,
   "metadata": {},
   "outputs": [],
   "source": []
  },
  {
   "cell_type": "markdown",
   "metadata": {},
   "source": [
    "**Задатак 5.** Дат је низ случајно генерисаних бројева $v=\\begin{bmatrix} x_0&x_1&\\dots&x_n\\end{bmatrix}$ (генерише се кодном ћелијом испод). Два елемента $x_i$ и $x_j$ у низу $v$ образују инверзију уколико је $i<j\\ \\wedge\\ x_i>x_j.$ Написати ефикасан код којим се одређује број инверзија у низу $v.$\n",
    "\n",
    "(10 поена)"
   ]
  },
  {
   "cell_type": "code",
   "execution_count": 3,
   "metadata": {},
   "outputs": [],
   "source": [
    "n=123\n",
    "min, max=-10,10\n",
    "v=rndm.uniform(min,max,n)"
   ]
  },
  {
   "cell_type": "markdown",
   "metadata": {},
   "source": [
    "Као пример неефикасног решења дате су итерације. Можете да користите излаз ове функције за проверу тачности властитог кода. Искористите опцију мерења времена извршења да упоредите ефикасност алгоритма."
   ]
  },
  {
   "cell_type": "code",
   "execution_count": 5,
   "metadata": {},
   "outputs": [
    {
     "name": "stdout",
     "output_type": "stream",
     "text": [
      "3778\n",
      "Vreme izvrsenja prebrojavanja:  0.0054478000092785805 sec\n"
     ]
    }
   ],
   "source": [
    "start = timer()\n",
    "inverzije=0\n",
    "for i in range(n-1):\n",
    "    for j in range(i+1,n):\n",
    "        if v[i]>v[j]:\n",
    "            inverzije+=1\n",
    "print(inverzije)\n",
    "end = timer()\n",
    "print(\"Vreme izvrsenja prebrojavanja: \",end - start,\"sec\")            "
   ]
  },
  {
   "cell_type": "code",
   "execution_count": null,
   "metadata": {},
   "outputs": [],
   "source": []
  },
  {
   "cell_type": "markdown",
   "metadata": {},
   "source": [
    "***"
   ]
  }
 ],
 "metadata": {
  "kernelspec": {
   "display_name": "Python 3 (ipykernel)",
   "language": "python",
   "name": "python3"
  },
  "language_info": {
   "codemirror_mode": {
    "name": "ipython",
    "version": 3
   },
   "file_extension": ".py",
   "mimetype": "text/x-python",
   "name": "python",
   "nbconvert_exporter": "python",
   "pygments_lexer": "ipython3",
   "version": "3.11.5"
  }
 },
 "nbformat": 4,
 "nbformat_minor": 4
}
